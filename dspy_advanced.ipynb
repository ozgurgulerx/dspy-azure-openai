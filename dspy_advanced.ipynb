{
 "cells": [
  {
   "cell_type": "markdown",
   "metadata": {},
   "source": [
    "# DSPy on Azure OpenAI - 241026\n",
    "\n",
    "In this notebook, we will first structure a classification problem that is complex enough so that gpt-4o-mini will fail to correctly classify all data points. We will then use DSPy to optimise the prompt and the few-shot examples and show that DSPy optimisation will yield higher accuracy than the default prompt and examples.\n",
    "\n",
    "The example is to build a legal assistant that classifies legal documents by detecting certain \"clauses\" in them. Legal Clauses are not fixed set of words. Their wording changes. They can include similar but different words, include punctuation marks etc. (Otherwise keyword search or BM25 would work!)  The documents will be on average 5000 tokens long which will make detection more difficult for gpt-4o-mini.\n",
    "\n",
    "The code in this notebook has 4 major parts...\n",
    "1. We will first create the legal documents with gpt-4o.\n",
    "2. Eval the default prompt and examples with gpt-4o-mini.\n",
    "3. Use DSPy to optimise the prompt and examples.\n",
    "4. Eval the optimised prompt and examples.\n",
    "\n"
   ]
  },
  {
   "cell_type": "code",
   "execution_count": null,
   "metadata": {},
   "outputs": [],
   "source": [
    "# Test AzureOpenAI endpoints \n",
    "import os\n",
    "from openai import AzureOpenAI\n",
    "from dotenv import load_dotenv\n",
    "\n",
    "load_dotenv()\n",
    "\n",
    "deployment='gpt-4o-mini-eastus-0718'\n",
    "\n",
    "    \n",
    "client = AzureOpenAI(\n",
    "    api_key=os.getenv(\"AZURE_OPENAI_EASTUS_API_KEY\"),  \n",
    "    api_version=\"2024-06-01\",\n",
    "    azure_endpoint = os.getenv(\"AZURE_OPENAI_API_EASTUS_ENDPOINT\")\n",
    "    )\n",
    "        \n",
    "# Send a completion call to generate an answer\n",
    "completion = client.chat.completions.create(\n",
    "    model=deployment,\n",
    "    messages = [\n",
    "        {\n",
    "        \"role\": \"system\",\n",
    "        \"content\": \"You are an MIT PhD in Physics, specializing in quantum physics.\"\n",
    "        },\n",
    "        {\n",
    "        \"role\": \"user\",\n",
    "        \"content\": \"What is a black hole?\"\n",
    "        }\n",
    "    ]\n",
    "    # max_tokens=4096\n",
    ")\n",
    "\n",
    "#print(completion.model_dump_json(indent=2))\n",
    "content = completion.choices[0].message.content\n",
    "print(content)\n",
    "print(len(content))"
   ]
  },
  {
   "cell_type": "code",
   "execution_count": null,
   "metadata": {},
   "outputs": [],
   "source": [
    "#test DSPy on AzureOpenAI\n",
    "import os \n",
    "import dspy\n",
    "from dotenv import dotenv_values, load_dotenv\n",
    "\n",
    "load_dotenv()\n",
    "\n",
    "config=dotenv_values(\".env\")\n",
    "azure_endpoint = os.getenv(\"AZURE_OPENAI_API_EASTUS_ENDPOINT\")\n",
    "api_key = os.getenv(\"AZURE_OPENAI_EASTUS_API_KEY\")\n",
    "embedding_model=\"text-embedding-3-small-eastus\"\n",
    "deployment='gpt-4o-mini-eastus-0718'\n",
    "\n",
    "\n",
    "\n",
    "turbo = dspy.AzureOpenAI(\n",
    "    api_key=api_key,\n",
    "    api_version= \"2024-06-01\",\n",
    "    api_base=azure_endpoint,\n",
    "    model=deployment,\n",
    ")\n",
    "\n",
    "dspy.configure(lm=turbo)\n"
   ]
  },
  {
   "cell_type": "code",
   "execution_count": null,
   "metadata": {},
   "outputs": [],
   "source": [
    "#Test DSpy with AzureOpenAI 01\n",
    "qa = dspy.Predict('question: str -> response: str')\n",
    "qa(question=\"What is a blackhole?\").response"
   ]
  },
  {
   "cell_type": "markdown",
   "metadata": {},
   "source": [
    "# Create the Contracts \n",
    "\n",
    "We will use gpt-4o to create the legal documents.\n",
    "Each document can have one or more of the 8 clauses we will use to classify the documents. \n",
    "\n",
    "\n",
    "\n",
    "\n"
   ]
  },
  {
   "cell_type": "code",
   "execution_count": null,
   "metadata": {},
   "outputs": [],
   "source": [
    "import os\n",
    "import pandas as pd\n",
    "import random\n",
    "import concurrent.futures\n",
    "from openai import AzureOpenAI\n",
    "from dotenv import load_dotenv\n",
    "from tqdm import tqdm\n",
    "\n",
    "# Load environment variables\n",
    "load_dotenv()\n",
    "\n",
    "# Define the OpenAI client\n",
    "deployment = 'gpt-4o-eastus-0806'\n",
    "client = AzureOpenAI(\n",
    "    api_key=os.getenv(\"AZURE_OPENAI_EASTUS_API_KEY\"),  \n",
    "    api_version=\"2024-06-01\",\n",
    "    azure_endpoint=os.getenv(\"AZURE_OPENAI_API_EASTUS_ENDPOINT\")\n",
    ")\n",
    "\n",
    "# Create a contracts folder if it doesn't already exist\n",
    "if not os.path.exists(\"contracts_advanced\"):\n",
    "    os.makedirs(\"contracts_advanced\")\n",
    "\n",
    "# Define clause types with descriptions encouraging variation\n",
    "clauses = [\n",
    "    (\"Non-Disclosure Agreement (NDA) clause\", \"Ensure confidentiality by limiting information sharing. Vary the length, use synonyms, and include creative wording to reflect different legal styles.\"),\n",
    "    (\"Termination Clause\", \"Define conditions for agreement termination, e.g., 'breach of obligations' or 'failure to meet performance standards'. Use varied language and structure.\"),\n",
    "    (\"Indemnity Clause\", \"Address liability protection with terms like 'hold harmless' or 'claims arising from third parties'. Use unique phrasing and optional expressions.\"),\n",
    "    (\"Force Majeure Clause\", \"Release obligations under unexpected events like natural disasters or government mandates. Include optional wording and different legal terminologies.\"),\n",
    "    (\"Data Protection Clause\", \"Define data handling practices to protect privacy, including compliance with GDPR or CCPA. Use diverse expressions and synonyms.\")\n",
    "]\n",
    "\n",
    "# Ensure balanced number of contracts per class\n",
    "num_contracts_per_class = 20\n",
    "total_contracts = num_contracts_per_class * len(clauses)\n",
    "\n",
    "# Set the average token length for each contract\n",
    "target_tokens = 3000\n",
    "\n",
    "# Function to make a single API call with dynamic token control\n",
    "def generate_clause_variants(clause_type, clause_description, max_tokens=500, max_retries=3):\n",
    "    messages = [\n",
    "    {\n",
    "        \"role\": \"system\",\n",
    "        \"content\": (\n",
    "            \"You are a highly skilled legal assistant tasked with drafting contract clauses. Each clause should be unique in phrasing, \"\n",
    "            \"utilize creative language, and include variations in legal terminology. Focus on making the clause appear as though it could \"\n",
    "            \"have been written by different lawyers, incorporating optional phrases and alternative wordings that maintain the clause’s intent.\"\n",
    "        )\n",
    "    },\n",
    "    {\n",
    "        \"role\": \"user\",\n",
    "        \"content\": (\n",
    "            f\"Create a contract clause for '{clause_type}'. Ensure the clause:\\n\\n\"\n",
    "            f\"1. Clearly covers the intended purpose, providing necessary protections or definitions for '{clause_type}'.\\n\\n\"\n",
    "            f\"2. Uses varied wording and synonyms for key terms to enhance uniqueness. Avoid exact repetition of standard legal phrases \"\n",
    "            f\"by using alternative ways of expressing core ideas.\\n\\n\"\n",
    "            f\"3. Includes optional phrases and varied sentence structures, making the clause adaptable to different legal interpretations. \"\n",
    "            f\"For example, 'one party shall indemnify,' might appear as 'the other party holds no responsibility for claims,' or \"\n",
    "            f\"'both parties agree to limit liability in cases...'.\\n\\n\"\n",
    "            f\"4. Is written as if crafted by different legal minds, with subtle style variations—some clauses may be concise and direct, \"\n",
    "            f\"others more elaborate, including additional qualifications or conditions where appropriate.\\n\\n\"\n",
    "            f\"5. Avoids excessive specificity or direct keywords, yet includes enough nuanced legal terminology for identification by intent. \"\n",
    "            f\"Clause Description: {clause_description}\\n\\n\"\n",
    "            f\"Make it look like it has been written by different lawyers, using optional phrases, synonyms, and creative structure to \"\n",
    "            f\"prevent simple keyword detection.\"\n",
    "        )\n",
    "    }\n",
    "]\n",
    "\n",
    "    for attempt in range(max_retries):\n",
    "        try:\n",
    "            completion = client.chat.completions.create(\n",
    "                model=deployment,\n",
    "                messages=messages,\n",
    "                max_tokens=max_tokens\n",
    "            )\n",
    "            return completion.choices[0].message.content.strip()\n",
    "        \n",
    "        except Exception as e:\n",
    "            if \"429\" in str(e):\n",
    "                time.sleep(1)  # Basic backoff on rate limit\n",
    "            else:\n",
    "                print(f\"Error generating clause for '{clause_type}': {e}\")\n",
    "                return \"\"\n",
    "    print(f\"Failed to generate clause for '{clause_type}' after {max_retries} attempts.\")\n",
    "    return \"\"\n",
    "\n",
    "# Pre-generate filler clauses to reuse and avoid extra API calls\n",
    "filler_clauses = {clause[0]: generate_clause_variants(clause[0], clause[1], max_tokens=400) for clause in clauses}\n",
    "\n",
    "# Function to generate a complete contract with token-based size control\n",
    "def generate_and_save_contract(contract_num, clause_type, clause_description, target_tokens=3000):\n",
    "    contract_sections = []\n",
    "    labels = {clause[0]: \"Absent\" for clause in clauses}\n",
    "    labels[clause_type] = \"Present\"\n",
    "\n",
    "    # Track token usage\n",
    "    current_tokens = 0\n",
    "\n",
    "    # Generate the main clause for the contract\n",
    "    clause_text = generate_clause_variants(clause_type, clause_description, max_tokens=600)\n",
    "    if not clause_text:\n",
    "        print(f\"Warning: Failed to generate text for {clause_type} in contract {contract_num}\")\n",
    "        return None\n",
    "    contract_sections.append(clause_text)\n",
    "    current_tokens += len(clause_text.split())\n",
    "\n",
    "    # Add filler clauses until reaching target token size\n",
    "    while current_tokens < target_tokens:\n",
    "        for other_clause, desc in random.sample(clauses, len(clauses)):\n",
    "            if other_clause != clause_type and current_tokens < target_tokens:\n",
    "                filler_text = filler_clauses.get(other_clause, \"\")\n",
    "                if filler_text:\n",
    "                    contract_sections.append(filler_text)\n",
    "                    current_tokens += len(filler_text.split())\n",
    "    \n",
    "    # Define the filename with proper numbering\n",
    "    filename = f\"contracts_advanced/contract{contract_num:03}.txt\"\n",
    "\n",
    "    # Write the contract to a file\n",
    "    try:\n",
    "        with open(filename, \"w\", encoding=\"utf-8\") as file:\n",
    "            file.write(\" \".join(contract_sections))\n",
    "    except Exception as e:\n",
    "        print(f\"Error saving contract {contract_num}: {e}\")\n",
    "        return None\n",
    "\n",
    "    # Append the labels for DataFrame storage\n",
    "    return {\n",
    "        \"filename\": filename,\n",
    "        \"contract_type\": clause_type,\n",
    "        \"contains_nda\": labels.get(\"Non-Disclosure Agreement (NDA) clause\", \"Absent\"),\n",
    "        \"contains_termination\": labels.get(\"Termination Clause\", \"Absent\"),\n",
    "        \"contains_indemnity\": labels.get(\"Indemnity Clause\", \"Absent\"),\n",
    "        \"contains_force_majeure\": labels.get(\"Force Majeure Clause\", \"Absent\"),\n",
    "        \"contains_data_protection\": labels.get(\"Data Protection Clause\", \"Absent\"),\n",
    "    }\n",
    "\n",
    "# Function to generate contracts with balanced classes\n",
    "def generate_balanced_contracts(num_contracts_per_class, target_tokens=3000):\n",
    "    contract_labels = []\n",
    "    contract_num = 1\n",
    "    \n",
    "    with concurrent.futures.ThreadPoolExecutor(max_workers=2) as executor:\n",
    "        futures = []\n",
    "        \n",
    "        for clause_type, clause_desc in clauses:\n",
    "            for _ in range(num_contracts_per_class):\n",
    "                futures.append(executor.submit(generate_and_save_contract, contract_num, clause_type, clause_desc, target_tokens))\n",
    "                contract_num += 1\n",
    "        \n",
    "        for future in tqdm(concurrent.futures.as_completed(futures), total=total_contracts, desc=\"Generating contracts\"):\n",
    "            result = future.result()\n",
    "            if result:\n",
    "                contract_labels.append(result)\n",
    "\n",
    "    return contract_labels\n",
    "\n",
    "# Generate contracts and gather labels\n",
    "labels = generate_balanced_contracts(num_contracts_per_class, target_tokens=target_tokens)\n",
    "\n",
    "# Save the labels if contracts were generated\n",
    "if labels:\n",
    "    df = pd.DataFrame(labels)\n",
    "    df.to_csv(\"contracts_advanced/contract_labels.csv\", index=False)\n",
    "    print(\"Contract labels saved as contracts_advanced/contract_labels.csv\")\n",
    "else:\n",
    "    print(\"No contracts generated.\")\n",
    "#"
   ]
  },
  {
   "cell_type": "code",
   "execution_count": null,
   "metadata": {},
   "outputs": [],
   "source": [
    "import os\n",
    "import pandas as pd\n",
    "import random\n",
    "import concurrent.futures\n",
    "from openai import AzureOpenAI\n",
    "from dotenv import load_dotenv\n",
    "from tqdm import tqdm\n",
    "import time\n",
    "\n",
    "# Load environment variables\n",
    "load_dotenv()\n",
    "\n",
    "# Initialize OpenAI client with deployment details\n",
    "deployment = 'gpt-4o-eastus-0806'\n",
    "client = AzureOpenAI(\n",
    "    api_key=os.getenv(\"AZURE_OPENAI_EASTUS_API_KEY\"),\n",
    "    api_version=\"2024-06-01\",\n",
    "    azure_endpoint=os.getenv(\"AZURE_OPENAI_API_EASTUS_ENDPOINT\")\n",
    ")\n",
    "\n",
    "# Ensure directory exists for generated contracts\n",
    "os.makedirs(\"contracts_advanced\", exist_ok=True)\n",
    "\n",
    "# Define clause types with varied descriptions for generating diversity\n",
    "clauses = [\n",
    "    (\"Non-Disclosure Agreement (NDA) clause\", \"Ensure confidentiality by limiting information sharing. Vary wording, use synonyms, and creative language.\"),\n",
    "    (\"Termination Clause\", \"Define conditions for ending the agreement, e.g., breach of obligations or performance failures. Incorporate unique language and structure.\"),\n",
    "    (\"Indemnity Clause\", \"Protect against liabilities, using terms like 'hold harmless' or 'third-party claims'. Encourage distinctive phrasing.\"),\n",
    "    (\"Force Majeure Clause\", \"Release obligations due to unforeseen events, like natural disasters. Use optional wording and varied legal terms.\"),\n",
    "    (\"Data Protection Clause\", \"Outline data handling practices and privacy protection, such as GDPR or CCPA compliance. Use a range of expressions and synonyms.\")\n",
    "]\n",
    "\n",
    "# Set contract generation parameters\n",
    "num_contracts_per_class = 20\n",
    "total_contracts = num_contracts_per_class * len(clauses)\n",
    "target_tokens = 3000  # Average token length per contract\n",
    "\n",
    "# Function to generate clause variants with unique legal language\n",
    "def generate_clause_variants(clause_type, clause_description, max_tokens=500, max_retries=3):\n",
    "    messages = [\n",
    "        {\n",
    "            \"role\": \"system\",\n",
    "            \"content\": (\n",
    "                \"You are a skilled legal assistant drafting diverse contract clauses. Each clause should be uniquely phrased, \"\n",
    "                \"using creative language and variations in legal terminology. Make it appear as though crafted by different lawyers, \"\n",
    "                \"with alternative expressions and optional phrasing to prevent pattern detection.\"\n",
    "            )\n",
    "        },\n",
    "        {\n",
    "            \"role\": \"user\",\n",
    "            \"content\": (\n",
    "                f\"Create a contract clause for '{clause_type}' with the following qualities:\\n\\n\"\n",
    "                f\"1. Clearly addresses the purpose, providing necessary protections or definitions.\\n\"\n",
    "                f\"2. Uses synonyms and varied wording to enhance uniqueness, avoiding standard legal phrases.\\n\"\n",
    "                f\"3. Includes optional expressions and sentence variations for adaptability.\\n\"\n",
    "                f\"4. Appears as if written by various legal experts with diverse styles, adding subtle variations.\\n\"\n",
    "                f\"5. Avoids exact legal terms to reduce keyword detection, while maintaining legal clarity.\\n\"\n",
    "                f\"Clause Description: {clause_description}\"\n",
    "            )\n",
    "        }\n",
    "    ]\n",
    "\n",
    "    for attempt in range(max_retries):\n",
    "        try:\n",
    "            completion = client.chat.completions.create(\n",
    "                model=deployment,\n",
    "                messages=messages,\n",
    "                max_tokens=max_tokens\n",
    "            )\n",
    "            return completion.choices[0].message.content.strip()\n",
    "        except Exception as e:\n",
    "            if \"429\" in str(e):\n",
    "                time.sleep(1)  # Simple backoff for rate limits\n",
    "            else:\n",
    "                print(f\"Error generating clause for '{clause_type}': {e}\")\n",
    "                return \"\"\n",
    "    print(f\"Failed to generate clause for '{clause_type}' after {max_retries} attempts.\")\n",
    "    return \"\"\n",
    "\n",
    "# Pre-generate filler clauses for reuse to reduce API calls\n",
    "filler_clauses = {clause[0]: generate_clause_variants(clause[0], clause[1], max_tokens=400) for clause in clauses}\n",
    "\n",
    "# Function to create a full contract with controlled token length\n",
    "def generate_and_save_contract(contract_num, clause_type, clause_description, target_tokens=3000):\n",
    "    contract_sections = []\n",
    "    labels = {clause[0]: \"Absent\" for clause in clauses}\n",
    "    labels[clause_type] = \"Present\"\n",
    "\n",
    "    current_tokens = 0\n",
    "\n",
    "    # Generate primary clause for the contract\n",
    "    clause_text = generate_clause_variants(clause_type, clause_description, max_tokens=600)\n",
    "    if not clause_text:\n",
    "        print(f\"Warning: Failed to generate text for {clause_type} in contract {contract_num}\")\n",
    "        return None\n",
    "    contract_sections.append(clause_text)\n",
    "    current_tokens += len(clause_text.split())\n",
    "\n",
    "    # Add filler clauses until reaching the target token count\n",
    "    while current_tokens < target_tokens:\n",
    "        for other_clause, _ in random.sample(clauses, len(clauses)):\n",
    "            if other_clause != clause_type and current_tokens < target_tokens:\n",
    "                filler_text = filler_clauses.get(other_clause, \"\")\n",
    "                if filler_text:\n",
    "                    contract_sections.append(filler_text)\n",
    "                    current_tokens += len(filler_text.split())\n",
    "\n",
    "    # Set filename for contract and save to file\n",
    "    filename = f\"contracts_advanced/contract{contract_num:03}.txt\"\n",
    "    try:\n",
    "        with open(filename, \"w\", encoding=\"utf-8\") as file:\n",
    "            file.write(\" \".join(contract_sections))\n",
    "    except Exception as e:\n",
    "        print(f\"Error saving contract {contract_num}: {e}\")\n",
    "        return None\n",
    "\n",
    "    # Return label data for DataFrame\n",
    "    return {\n",
    "        \"filename\": filename,\n",
    "        \"contract_type\": clause_type,\n",
    "        \"contains_nda\": labels.get(\"Non-Disclosure Agreement (NDA) clause\", \"Absent\"),\n",
    "        \"contains_termination\": labels.get(\"Termination Clause\", \"Absent\"),\n",
    "        \"contains_indemnity\": labels.get(\"Indemnity Clause\", \"Absent\"),\n",
    "        \"contains_force_majeure\": labels.get(\"Force Majeure Clause\", \"Absent\"),\n",
    "        \"contains_data_protection\": labels.get(\"Data Protection Clause\", \"Absent\"),\n",
    "    }\n",
    "\n",
    "# Function to generate a balanced set of contracts across clause types\n",
    "def generate_balanced_contracts(num_contracts_per_class, target_tokens=3000):\n",
    "    contract_labels = []\n",
    "    contract_num = 1\n",
    "    \n",
    "    with concurrent.futures.ThreadPoolExecutor(max_workers=2) as executor:\n",
    "        futures = []\n",
    "        \n",
    "        for clause_type, clause_desc in clauses:\n",
    "            for _ in range(num_contracts_per_class):\n",
    "                futures.append(executor.submit(generate_and_save_contract, contract_num, clause_type, clause_desc, target_tokens))\n",
    "                contract_num += 1\n",
    "        \n",
    "        for future in tqdm(concurrent.futures.as_completed(futures), total=total_contracts, desc=\"Generating contracts\"):\n",
    "            result = future.result()\n",
    "            if result:\n",
    "                contract_labels.append(result)\n",
    "\n",
    "    return contract_labels\n",
    "\n",
    "# Generate contracts and save labels\n",
    "labels = generate_balanced_contracts(num_contracts_per_class, target_tokens=target_tokens)\n",
    "\n",
    "# Save label data to CSV if contracts were generated\n",
    "if labels:\n",
    "    df = pd.DataFrame(labels)\n",
    "    df.to_csv(\"contracts_advanced/contract_labels.csv\", index=False)\n",
    "    print(\"Contract labels saved as contracts_advanced/contract_labels.csv\")\n",
    "else:\n",
    "    print(\"No contracts generated.\")\n"
   ]
  },
  {
   "cell_type": "code",
   "execution_count": null,
   "metadata": {},
   "outputs": [],
   "source": []
  },
  {
   "cell_type": "markdown",
   "metadata": {},
   "source": [
    "# Eval with gpt-4o-mini & gpt-4o"
   ]
  },
  {
   "cell_type": "code",
   "execution_count": 33,
   "metadata": {},
   "outputs": [
    {
     "name": "stderr",
     "output_type": "stream",
     "text": [
      "Evaluating contracts with gpt-4o-mini-eastus-0718:   5%|▌         | 5/100 [00:35<11:17,  7.13s/it]"
     ]
    },
    {
     "name": "stdout",
     "output_type": "stream",
     "text": [
      "\n",
      "Intermediate Evaluation Results after 5 contracts with gpt-4o-mini-eastus-0718:\n",
      "Non-Disclosure Agreement (NDA) clause: 100.00%\n",
      "Termination Clause: 20.00%\n",
      "Indemnity Clause: 60.00%\n",
      "Force Majeure Clause: 20.00%\n",
      "Data Protection Clause: 0.00%\n"
     ]
    },
    {
     "name": "stderr",
     "output_type": "stream",
     "text": [
      "Evaluating contracts with gpt-4o-mini-eastus-0718:  10%|█         | 10/100 [01:36<13:27,  8.97s/it]"
     ]
    },
    {
     "name": "stdout",
     "output_type": "stream",
     "text": [
      "\n",
      "Intermediate Evaluation Results after 10 contracts with gpt-4o-mini-eastus-0718:\n",
      "Non-Disclosure Agreement (NDA) clause: 100.00%\n",
      "Termination Clause: 50.00%\n",
      "Indemnity Clause: 60.00%\n",
      "Force Majeure Clause: 30.00%\n",
      "Data Protection Clause: 0.00%\n"
     ]
    },
    {
     "name": "stderr",
     "output_type": "stream",
     "text": [
      "Evaluating contracts with gpt-4o-mini-eastus-0718:  15%|█▌        | 15/100 [02:38<13:26,  9.49s/it]"
     ]
    },
    {
     "name": "stdout",
     "output_type": "stream",
     "text": [
      "\n",
      "Intermediate Evaluation Results after 15 contracts with gpt-4o-mini-eastus-0718:\n",
      "Non-Disclosure Agreement (NDA) clause: 100.00%\n",
      "Termination Clause: 40.00%\n",
      "Indemnity Clause: 66.67%\n",
      "Force Majeure Clause: 26.67%\n",
      "Data Protection Clause: 0.00%\n"
     ]
    },
    {
     "name": "stderr",
     "output_type": "stream",
     "text": [
      "Evaluating contracts with gpt-4o-mini-eastus-0718:  20%|██        | 20/100 [03:43<13:31, 10.14s/it]"
     ]
    },
    {
     "name": "stdout",
     "output_type": "stream",
     "text": [
      "\n",
      "Intermediate Evaluation Results after 20 contracts with gpt-4o-mini-eastus-0718:\n",
      "Non-Disclosure Agreement (NDA) clause: 100.00%\n",
      "Termination Clause: 45.00%\n",
      "Indemnity Clause: 65.00%\n",
      "Force Majeure Clause: 25.00%\n",
      "Data Protection Clause: 0.00%\n"
     ]
    },
    {
     "name": "stderr",
     "output_type": "stream",
     "text": [
      "Evaluating contracts with gpt-4o-mini-eastus-0718:  25%|██▌       | 25/100 [04:45<12:09,  9.73s/it]"
     ]
    },
    {
     "name": "stdout",
     "output_type": "stream",
     "text": [
      "\n",
      "Intermediate Evaluation Results after 25 contracts with gpt-4o-mini-eastus-0718:\n",
      "Non-Disclosure Agreement (NDA) clause: 84.00%\n",
      "Termination Clause: 56.00%\n",
      "Indemnity Clause: 56.00%\n",
      "Force Majeure Clause: 24.00%\n",
      "Data Protection Clause: 12.00%\n"
     ]
    },
    {
     "name": "stderr",
     "output_type": "stream",
     "text": [
      "Evaluating contracts with gpt-4o-mini-eastus-0718:  30%|███       | 30/100 [05:48<11:34,  9.93s/it]"
     ]
    },
    {
     "name": "stdout",
     "output_type": "stream",
     "text": [
      "\n",
      "Intermediate Evaluation Results after 30 contracts with gpt-4o-mini-eastus-0718:\n",
      "Non-Disclosure Agreement (NDA) clause: 73.33%\n",
      "Termination Clause: 63.33%\n",
      "Indemnity Clause: 60.00%\n",
      "Force Majeure Clause: 20.00%\n",
      "Data Protection Clause: 23.33%\n"
     ]
    },
    {
     "name": "stderr",
     "output_type": "stream",
     "text": [
      "Evaluating contracts with gpt-4o-mini-eastus-0718:  35%|███▌      | 35/100 [06:49<10:57, 10.12s/it]"
     ]
    },
    {
     "name": "stdout",
     "output_type": "stream",
     "text": [
      "\n",
      "Intermediate Evaluation Results after 35 contracts with gpt-4o-mini-eastus-0718:\n",
      "Non-Disclosure Agreement (NDA) clause: 62.86%\n",
      "Termination Clause: 68.57%\n",
      "Indemnity Clause: 62.86%\n",
      "Force Majeure Clause: 17.14%\n",
      "Data Protection Clause: 25.71%\n"
     ]
    },
    {
     "name": "stderr",
     "output_type": "stream",
     "text": [
      "Evaluating contracts with gpt-4o-mini-eastus-0718:  40%|████      | 40/100 [07:49<09:54,  9.91s/it]"
     ]
    },
    {
     "name": "stdout",
     "output_type": "stream",
     "text": [
      "\n",
      "Intermediate Evaluation Results after 40 contracts with gpt-4o-mini-eastus-0718:\n",
      "Non-Disclosure Agreement (NDA) clause: 57.50%\n",
      "Termination Clause: 72.50%\n",
      "Indemnity Clause: 62.50%\n",
      "Force Majeure Clause: 17.50%\n",
      "Data Protection Clause: 22.50%\n"
     ]
    },
    {
     "name": "stderr",
     "output_type": "stream",
     "text": [
      "Evaluating contracts with gpt-4o-mini-eastus-0718:  45%|████▌     | 45/100 [08:50<09:16, 10.11s/it]"
     ]
    },
    {
     "name": "stdout",
     "output_type": "stream",
     "text": [
      "\n",
      "Intermediate Evaluation Results after 45 contracts with gpt-4o-mini-eastus-0718:\n",
      "Non-Disclosure Agreement (NDA) clause: 51.11%\n",
      "Termination Clause: 66.67%\n",
      "Indemnity Clause: 66.67%\n",
      "Force Majeure Clause: 15.56%\n",
      "Data Protection Clause: 22.22%\n"
     ]
    },
    {
     "name": "stderr",
     "output_type": "stream",
     "text": [
      "Evaluating contracts with gpt-4o-mini-eastus-0718:  50%|█████     | 50/100 [09:52<08:36, 10.33s/it]"
     ]
    },
    {
     "name": "stdout",
     "output_type": "stream",
     "text": [
      "\n",
      "Intermediate Evaluation Results after 50 contracts with gpt-4o-mini-eastus-0718:\n",
      "Non-Disclosure Agreement (NDA) clause: 46.00%\n",
      "Termination Clause: 62.00%\n",
      "Indemnity Clause: 70.00%\n",
      "Force Majeure Clause: 14.00%\n",
      "Data Protection Clause: 20.00%\n"
     ]
    },
    {
     "name": "stderr",
     "output_type": "stream",
     "text": [
      "Evaluating contracts with gpt-4o-mini-eastus-0718:  55%|█████▌    | 55/100 [10:55<07:41, 10.26s/it]"
     ]
    },
    {
     "name": "stdout",
     "output_type": "stream",
     "text": [
      "\n",
      "Intermediate Evaluation Results after 55 contracts with gpt-4o-mini-eastus-0718:\n",
      "Non-Disclosure Agreement (NDA) clause: 43.64%\n",
      "Termination Clause: 56.36%\n",
      "Indemnity Clause: 72.73%\n",
      "Force Majeure Clause: 12.73%\n",
      "Data Protection Clause: 23.64%\n"
     ]
    },
    {
     "name": "stderr",
     "output_type": "stream",
     "text": [
      "Evaluating contracts with gpt-4o-mini-eastus-0718:  60%|██████    | 60/100 [11:56<06:39,  9.99s/it]"
     ]
    },
    {
     "name": "stdout",
     "output_type": "stream",
     "text": [
      "\n",
      "Intermediate Evaluation Results after 60 contracts with gpt-4o-mini-eastus-0718:\n",
      "Non-Disclosure Agreement (NDA) clause: 40.00%\n",
      "Termination Clause: 56.67%\n",
      "Indemnity Clause: 75.00%\n",
      "Force Majeure Clause: 11.67%\n",
      "Data Protection Clause: 23.33%\n"
     ]
    },
    {
     "name": "stderr",
     "output_type": "stream",
     "text": [
      "Evaluating contracts with gpt-4o-mini-eastus-0718:  65%|██████▌   | 65/100 [12:58<05:42,  9.79s/it]"
     ]
    },
    {
     "name": "stdout",
     "output_type": "stream",
     "text": [
      "\n",
      "Intermediate Evaluation Results after 65 contracts with gpt-4o-mini-eastus-0718:\n",
      "Non-Disclosure Agreement (NDA) clause: 36.92%\n",
      "Termination Clause: 53.85%\n",
      "Indemnity Clause: 75.38%\n",
      "Force Majeure Clause: 18.46%\n",
      "Data Protection Clause: 23.08%\n"
     ]
    },
    {
     "name": "stderr",
     "output_type": "stream",
     "text": [
      "Evaluating contracts with gpt-4o-mini-eastus-0718:  70%|███████   | 70/100 [14:00<04:55,  9.83s/it]"
     ]
    },
    {
     "name": "stdout",
     "output_type": "stream",
     "text": [
      "\n",
      "Intermediate Evaluation Results after 70 contracts with gpt-4o-mini-eastus-0718:\n",
      "Non-Disclosure Agreement (NDA) clause: 34.29%\n",
      "Termination Clause: 50.00%\n",
      "Indemnity Clause: 72.86%\n",
      "Force Majeure Clause: 24.29%\n",
      "Data Protection Clause: 21.43%\n"
     ]
    },
    {
     "name": "stderr",
     "output_type": "stream",
     "text": [
      "Evaluating contracts with gpt-4o-mini-eastus-0718:  75%|███████▌  | 75/100 [15:01<04:03,  9.74s/it]"
     ]
    },
    {
     "name": "stdout",
     "output_type": "stream",
     "text": [
      "\n",
      "Intermediate Evaluation Results after 75 contracts with gpt-4o-mini-eastus-0718:\n",
      "Non-Disclosure Agreement (NDA) clause: 33.33%\n",
      "Termination Clause: 50.67%\n",
      "Indemnity Clause: 74.67%\n",
      "Force Majeure Clause: 29.33%\n",
      "Data Protection Clause: 21.33%\n"
     ]
    },
    {
     "name": "stderr",
     "output_type": "stream",
     "text": [
      "Evaluating contracts with gpt-4o-mini-eastus-0718:  80%|████████  | 80/100 [16:02<03:14,  9.72s/it]"
     ]
    },
    {
     "name": "stdout",
     "output_type": "stream",
     "text": [
      "\n",
      "Intermediate Evaluation Results after 80 contracts with gpt-4o-mini-eastus-0718:\n",
      "Non-Disclosure Agreement (NDA) clause: 33.75%\n",
      "Termination Clause: 50.00%\n",
      "Indemnity Clause: 76.25%\n",
      "Force Majeure Clause: 33.75%\n",
      "Data Protection Clause: 20.00%\n"
     ]
    },
    {
     "name": "stderr",
     "output_type": "stream",
     "text": [
      "Evaluating contracts with gpt-4o-mini-eastus-0718:  85%|████████▌ | 85/100 [17:02<02:19,  9.32s/it]"
     ]
    },
    {
     "name": "stdout",
     "output_type": "stream",
     "text": [
      "\n",
      "Intermediate Evaluation Results after 85 contracts with gpt-4o-mini-eastus-0718:\n",
      "Non-Disclosure Agreement (NDA) clause: 31.76%\n",
      "Termination Clause: 52.94%\n",
      "Indemnity Clause: 77.65%\n",
      "Force Majeure Clause: 32.94%\n",
      "Data Protection Clause: 24.71%\n"
     ]
    },
    {
     "name": "stderr",
     "output_type": "stream",
     "text": [
      "Evaluating contracts with gpt-4o-mini-eastus-0718:  90%|█████████ | 90/100 [18:03<01:37,  9.72s/it]"
     ]
    },
    {
     "name": "stdout",
     "output_type": "stream",
     "text": [
      "\n",
      "Intermediate Evaluation Results after 90 contracts with gpt-4o-mini-eastus-0718:\n",
      "Non-Disclosure Agreement (NDA) clause: 30.00%\n",
      "Termination Clause: 55.56%\n",
      "Indemnity Clause: 78.89%\n",
      "Force Majeure Clause: 35.56%\n",
      "Data Protection Clause: 28.89%\n"
     ]
    },
    {
     "name": "stderr",
     "output_type": "stream",
     "text": [
      "Evaluating contracts with gpt-4o-mini-eastus-0718:  95%|█████████▌| 95/100 [19:07<00:51, 10.26s/it]"
     ]
    },
    {
     "name": "stdout",
     "output_type": "stream",
     "text": [
      "\n",
      "Intermediate Evaluation Results after 95 contracts with gpt-4o-mini-eastus-0718:\n",
      "Non-Disclosure Agreement (NDA) clause: 28.42%\n",
      "Termination Clause: 55.79%\n",
      "Indemnity Clause: 78.95%\n",
      "Force Majeure Clause: 35.79%\n",
      "Data Protection Clause: 32.63%\n"
     ]
    },
    {
     "name": "stderr",
     "output_type": "stream",
     "text": [
      "Evaluating contracts with gpt-4o-mini-eastus-0718: 100%|██████████| 100/100 [20:08<00:00, 12.09s/it]\n"
     ]
    },
    {
     "name": "stdout",
     "output_type": "stream",
     "text": [
      "\n",
      "Intermediate Evaluation Results after 100 contracts with gpt-4o-mini-eastus-0718:\n",
      "Non-Disclosure Agreement (NDA) clause: 27.00%\n",
      "Termination Clause: 55.00%\n",
      "Indemnity Clause: 79.00%\n",
      "Force Majeure Clause: 35.00%\n",
      "Data Protection Clause: 36.00%\n"
     ]
    },
    {
     "name": "stderr",
     "output_type": "stream",
     "text": [
      "Evaluating contracts with gpt-4o-eastus-0806:   5%|▌         | 5/100 [03:03<1:08:05, 43.00s/it]"
     ]
    },
    {
     "name": "stdout",
     "output_type": "stream",
     "text": [
      "\n",
      "Intermediate Evaluation Results after 5 contracts with gpt-4o-eastus-0806:\n",
      "Non-Disclosure Agreement (NDA) clause: 100.00%\n",
      "Termination Clause: 40.00%\n",
      "Indemnity Clause: 20.00%\n",
      "Force Majeure Clause: 20.00%\n",
      "Data Protection Clause: 40.00%\n"
     ]
    },
    {
     "name": "stderr",
     "output_type": "stream",
     "text": [
      "Evaluating contracts with gpt-4o-eastus-0806:  10%|█         | 10/100 [06:07<1:02:59, 41.99s/it]"
     ]
    },
    {
     "name": "stdout",
     "output_type": "stream",
     "text": [
      "\n",
      "Intermediate Evaluation Results after 10 contracts with gpt-4o-eastus-0806:\n",
      "Non-Disclosure Agreement (NDA) clause: 100.00%\n",
      "Termination Clause: 30.00%\n",
      "Indemnity Clause: 20.00%\n",
      "Force Majeure Clause: 20.00%\n",
      "Data Protection Clause: 60.00%\n"
     ]
    },
    {
     "name": "stderr",
     "output_type": "stream",
     "text": [
      "Evaluating contracts with gpt-4o-eastus-0806:  15%|█▌        | 15/100 [09:14<57:11, 40.37s/it]  "
     ]
    },
    {
     "name": "stdout",
     "output_type": "stream",
     "text": [
      "\n",
      "Intermediate Evaluation Results after 15 contracts with gpt-4o-eastus-0806:\n",
      "Non-Disclosure Agreement (NDA) clause: 100.00%\n",
      "Termination Clause: 20.00%\n",
      "Indemnity Clause: 13.33%\n",
      "Force Majeure Clause: 13.33%\n",
      "Data Protection Clause: 46.67%\n"
     ]
    },
    {
     "name": "stderr",
     "output_type": "stream",
     "text": [
      "Evaluating contracts with gpt-4o-eastus-0806:  20%|██        | 20/100 [12:21<53:42, 40.28s/it]"
     ]
    },
    {
     "name": "stdout",
     "output_type": "stream",
     "text": [
      "\n",
      "Intermediate Evaluation Results after 20 contracts with gpt-4o-eastus-0806:\n",
      "Non-Disclosure Agreement (NDA) clause: 100.00%\n",
      "Termination Clause: 15.00%\n",
      "Indemnity Clause: 10.00%\n",
      "Force Majeure Clause: 15.00%\n",
      "Data Protection Clause: 40.00%\n"
     ]
    },
    {
     "name": "stderr",
     "output_type": "stream",
     "text": [
      "Evaluating contracts with gpt-4o-eastus-0806:  25%|██▌       | 25/100 [15:26<49:32, 39.64s/it]"
     ]
    },
    {
     "name": "stdout",
     "output_type": "stream",
     "text": [
      "\n",
      "Intermediate Evaluation Results after 25 contracts with gpt-4o-eastus-0806:\n",
      "Non-Disclosure Agreement (NDA) clause: 88.00%\n",
      "Termination Clause: 32.00%\n",
      "Indemnity Clause: 12.00%\n",
      "Force Majeure Clause: 20.00%\n",
      "Data Protection Clause: 40.00%\n"
     ]
    },
    {
     "name": "stderr",
     "output_type": "stream",
     "text": [
      "Evaluating contracts with gpt-4o-eastus-0806:  30%|███       | 30/100 [18:30<46:08, 39.55s/it]"
     ]
    },
    {
     "name": "stdout",
     "output_type": "stream",
     "text": [
      "\n",
      "Intermediate Evaluation Results after 30 contracts with gpt-4o-eastus-0806:\n",
      "Non-Disclosure Agreement (NDA) clause: 76.67%\n",
      "Termination Clause: 43.33%\n",
      "Indemnity Clause: 10.00%\n",
      "Force Majeure Clause: 20.00%\n",
      "Data Protection Clause: 50.00%\n"
     ]
    },
    {
     "name": "stderr",
     "output_type": "stream",
     "text": [
      "Evaluating contracts with gpt-4o-eastus-0806:  35%|███▌      | 35/100 [21:44<46:19, 42.76s/it]"
     ]
    },
    {
     "name": "stdout",
     "output_type": "stream",
     "text": [
      "\n",
      "Intermediate Evaluation Results after 35 contracts with gpt-4o-eastus-0806:\n",
      "Non-Disclosure Agreement (NDA) clause: 68.57%\n",
      "Termination Clause: 51.43%\n",
      "Indemnity Clause: 8.57%\n",
      "Force Majeure Clause: 17.14%\n",
      "Data Protection Clause: 51.43%\n"
     ]
    },
    {
     "name": "stderr",
     "output_type": "stream",
     "text": [
      "Evaluating contracts with gpt-4o-eastus-0806:  40%|████      | 40/100 [24:48<40:54, 40.90s/it]"
     ]
    },
    {
     "name": "stdout",
     "output_type": "stream",
     "text": [
      "\n",
      "Intermediate Evaluation Results after 40 contracts with gpt-4o-eastus-0806:\n",
      "Non-Disclosure Agreement (NDA) clause: 60.00%\n",
      "Termination Clause: 55.00%\n",
      "Indemnity Clause: 10.00%\n",
      "Force Majeure Clause: 17.50%\n",
      "Data Protection Clause: 47.50%\n"
     ]
    },
    {
     "name": "stderr",
     "output_type": "stream",
     "text": [
      "Evaluating contracts with gpt-4o-eastus-0806:  45%|████▌     | 45/100 [27:53<35:17, 38.50s/it]"
     ]
    },
    {
     "name": "stdout",
     "output_type": "stream",
     "text": [
      "\n",
      "Intermediate Evaluation Results after 45 contracts with gpt-4o-eastus-0806:\n",
      "Non-Disclosure Agreement (NDA) clause: 53.33%\n",
      "Termination Clause: 51.11%\n",
      "Indemnity Clause: 17.78%\n",
      "Force Majeure Clause: 15.56%\n",
      "Data Protection Clause: 44.44%\n"
     ]
    },
    {
     "name": "stderr",
     "output_type": "stream",
     "text": [
      "Evaluating contracts with gpt-4o-eastus-0806:  50%|█████     | 50/100 [31:13<35:33, 42.67s/it]"
     ]
    },
    {
     "name": "stdout",
     "output_type": "stream",
     "text": [
      "\n",
      "Intermediate Evaluation Results after 50 contracts with gpt-4o-eastus-0806:\n",
      "Non-Disclosure Agreement (NDA) clause: 50.00%\n",
      "Termination Clause: 50.00%\n",
      "Indemnity Clause: 26.00%\n",
      "Force Majeure Clause: 14.00%\n",
      "Data Protection Clause: 50.00%\n"
     ]
    },
    {
     "name": "stderr",
     "output_type": "stream",
     "text": [
      "Evaluating contracts with gpt-4o-eastus-0806:  55%|█████▌    | 55/100 [34:19<30:38, 40.86s/it]"
     ]
    },
    {
     "name": "stdout",
     "output_type": "stream",
     "text": [
      "\n",
      "Intermediate Evaluation Results after 55 contracts with gpt-4o-eastus-0806:\n",
      "Non-Disclosure Agreement (NDA) clause: 45.45%\n",
      "Termination Clause: 45.45%\n",
      "Indemnity Clause: 32.73%\n",
      "Force Majeure Clause: 14.55%\n",
      "Data Protection Clause: 50.91%\n"
     ]
    },
    {
     "name": "stderr",
     "output_type": "stream",
     "text": [
      "Evaluating contracts with gpt-4o-eastus-0806:  60%|██████    | 60/100 [37:23<26:51, 40.28s/it]"
     ]
    },
    {
     "name": "stdout",
     "output_type": "stream",
     "text": [
      "\n",
      "Intermediate Evaluation Results after 60 contracts with gpt-4o-eastus-0806:\n",
      "Non-Disclosure Agreement (NDA) clause: 41.67%\n",
      "Termination Clause: 41.67%\n",
      "Indemnity Clause: 38.33%\n",
      "Force Majeure Clause: 13.33%\n",
      "Data Protection Clause: 50.00%\n"
     ]
    },
    {
     "name": "stderr",
     "output_type": "stream",
     "text": [
      "Evaluating contracts with gpt-4o-eastus-0806:  65%|██████▌   | 65/100 [40:34<23:35, 40.46s/it]"
     ]
    },
    {
     "name": "stdout",
     "output_type": "stream",
     "text": [
      "\n",
      "Intermediate Evaluation Results after 65 contracts with gpt-4o-eastus-0806:\n",
      "Non-Disclosure Agreement (NDA) clause: 40.00%\n",
      "Termination Clause: 40.00%\n",
      "Indemnity Clause: 36.92%\n",
      "Force Majeure Clause: 20.00%\n",
      "Data Protection Clause: 50.77%\n"
     ]
    },
    {
     "name": "stderr",
     "output_type": "stream",
     "text": [
      "Evaluating contracts with gpt-4o-eastus-0806:  70%|███████   | 70/100 [43:40<19:49, 39.63s/it]"
     ]
    },
    {
     "name": "stdout",
     "output_type": "stream",
     "text": [
      "\n",
      "Intermediate Evaluation Results after 70 contracts with gpt-4o-eastus-0806:\n",
      "Non-Disclosure Agreement (NDA) clause: 38.57%\n",
      "Termination Clause: 37.14%\n",
      "Indemnity Clause: 35.71%\n",
      "Force Majeure Clause: 25.71%\n",
      "Data Protection Clause: 52.86%\n"
     ]
    },
    {
     "name": "stderr",
     "output_type": "stream",
     "text": [
      "Evaluating contracts with gpt-4o-eastus-0806:  75%|███████▌  | 75/100 [46:45<15:48, 37.94s/it]"
     ]
    },
    {
     "name": "stdout",
     "output_type": "stream",
     "text": [
      "\n",
      "Intermediate Evaluation Results after 75 contracts with gpt-4o-eastus-0806:\n",
      "Non-Disclosure Agreement (NDA) clause: 36.00%\n",
      "Termination Clause: 36.00%\n",
      "Indemnity Clause: 34.67%\n",
      "Force Majeure Clause: 30.67%\n",
      "Data Protection Clause: 53.33%\n"
     ]
    },
    {
     "name": "stderr",
     "output_type": "stream",
     "text": [
      "Evaluating contracts with gpt-4o-eastus-0806:  80%|████████  | 80/100 [49:50<12:32, 37.64s/it]"
     ]
    },
    {
     "name": "stdout",
     "output_type": "stream",
     "text": [
      "\n",
      "Intermediate Evaluation Results after 80 contracts with gpt-4o-eastus-0806:\n",
      "Non-Disclosure Agreement (NDA) clause: 33.75%\n",
      "Termination Clause: 33.75%\n",
      "Indemnity Clause: 32.50%\n",
      "Force Majeure Clause: 35.00%\n",
      "Data Protection Clause: 52.50%\n"
     ]
    },
    {
     "name": "stderr",
     "output_type": "stream",
     "text": [
      "Evaluating contracts with gpt-4o-eastus-0806:  85%|████████▌ | 85/100 [52:54<09:16, 37.13s/it]"
     ]
    },
    {
     "name": "stdout",
     "output_type": "stream",
     "text": [
      "\n",
      "Intermediate Evaluation Results after 85 contracts with gpt-4o-eastus-0806:\n",
      "Non-Disclosure Agreement (NDA) clause: 31.76%\n",
      "Termination Clause: 31.76%\n",
      "Indemnity Clause: 30.59%\n",
      "Force Majeure Clause: 32.94%\n",
      "Data Protection Clause: 55.29%\n"
     ]
    },
    {
     "name": "stderr",
     "output_type": "stream",
     "text": [
      "Evaluating contracts with gpt-4o-eastus-0806:  90%|█████████ | 90/100 [56:00<06:09, 36.96s/it]"
     ]
    },
    {
     "name": "stdout",
     "output_type": "stream",
     "text": [
      "\n",
      "Intermediate Evaluation Results after 90 contracts with gpt-4o-eastus-0806:\n",
      "Non-Disclosure Agreement (NDA) clause: 30.00%\n",
      "Termination Clause: 30.00%\n",
      "Indemnity Clause: 31.11%\n",
      "Force Majeure Clause: 32.22%\n",
      "Data Protection Clause: 57.78%\n"
     ]
    },
    {
     "name": "stderr",
     "output_type": "stream",
     "text": [
      "Evaluating contracts with gpt-4o-eastus-0806:  95%|█████████▌| 95/100 [59:03<02:58, 35.77s/it]"
     ]
    },
    {
     "name": "stdout",
     "output_type": "stream",
     "text": [
      "\n",
      "Intermediate Evaluation Results after 95 contracts with gpt-4o-eastus-0806:\n",
      "Non-Disclosure Agreement (NDA) clause: 28.42%\n",
      "Termination Clause: 28.42%\n",
      "Indemnity Clause: 29.47%\n",
      "Force Majeure Clause: 30.53%\n",
      "Data Protection Clause: 60.00%\n"
     ]
    },
    {
     "name": "stderr",
     "output_type": "stream",
     "text": [
      "Evaluating contracts with gpt-4o-eastus-0806: 100%|██████████| 100/100 [1:02:08<00:00, 37.28s/it]"
     ]
    },
    {
     "name": "stdout",
     "output_type": "stream",
     "text": [
      "\n",
      "Intermediate Evaluation Results after 100 contracts with gpt-4o-eastus-0806:\n",
      "Non-Disclosure Agreement (NDA) clause: 27.00%\n",
      "Termination Clause: 27.00%\n",
      "Indemnity Clause: 28.00%\n",
      "Force Majeure Clause: 29.00%\n",
      "Data Protection Clause: 62.00%\n",
      "\n",
      "Final Evaluation Results for gpt-4o-mini:\n",
      "                                  Clause  Accuracy (%)\n",
      "0  Non-Disclosure Agreement (NDA) clause          27.0\n",
      "1                     Termination Clause          55.0\n",
      "2                       Indemnity Clause          79.0\n",
      "3                   Force Majeure Clause          35.0\n",
      "4                 Data Protection Clause          36.0\n",
      "\n",
      "Final Evaluation Results for gpt-4o:\n",
      "                                  Clause  Accuracy (%)\n",
      "0  Non-Disclosure Agreement (NDA) clause          27.0\n",
      "1                     Termination Clause          27.0\n",
      "2                       Indemnity Clause          28.0\n",
      "3                   Force Majeure Clause          29.0\n",
      "4                 Data Protection Clause          62.0\n"
     ]
    },
    {
     "name": "stderr",
     "output_type": "stream",
     "text": [
      "\n"
     ]
    }
   ],
   "source": [
    "import os\n",
    "import re\n",
    "import pandas as pd\n",
    "import random\n",
    "import concurrent.futures\n",
    "from openai import AzureOpenAI\n",
    "from dotenv import load_dotenv\n",
    "from tqdm import tqdm\n",
    "import time\n",
    "\n",
    "# Load environment variables\n",
    "load_dotenv()\n",
    "\n",
    "# Initialize the Azure OpenAI client\n",
    "client = AzureOpenAI(\n",
    "    api_key=os.getenv(\"AZURE_OPENAI_EASTUS_API_KEY\"),\n",
    "    api_version=\"2024-06-01\",\n",
    "    azure_endpoint=os.getenv(\"AZURE_OPENAI_API_EASTUS_ENDPOINT\")\n",
    ")\n",
    "\n",
    "# Define deployment names for both models\n",
    "deployments = {\n",
    "    \"gpt-4o-mini\": \"gpt-4o-mini-eastus-0718\",\n",
    "    \"gpt-4o\": \"gpt-4o-eastus-0806\"\n",
    "}\n",
    "\n",
    "# Define clause types and map to DataFrame columns\n",
    "clauses = [\n",
    "    \"Non-Disclosure Agreement (NDA) clause\",\n",
    "    \"Termination Clause\",\n",
    "    \"Indemnity Clause\",\n",
    "    \"Force Majeure Clause\",\n",
    "    \"Data Protection Clause\"\n",
    "]\n",
    "\n",
    "clause_to_column = {\n",
    "    \"Non-Disclosure Agreement (NDA) clause\": \"contains_nda\",\n",
    "    \"Termination Clause\": \"contains_termination\",\n",
    "    \"Indemnity Clause\": \"contains_indemnity\",\n",
    "    \"Force Majeure Clause\": \"contains_force_majeure\",\n",
    "    \"Data Protection Clause\": \"contains_data_protection\"\n",
    "}\n",
    "\n",
    "# Load contract label data and standardize column names\n",
    "df = pd.read_csv(\"contracts_advanced/contract_labels.csv\")\n",
    "df.columns = [col.lower() for col in df.columns]\n",
    "\n",
    "# Function to classify contract content for each clause type\n",
    "def classify_contract(client, deployment, contract_text, clauses, retries=3):\n",
    "    responses = {clause: \"Unknown\" for clause in clauses}  # Initialize all responses as \"Unknown\"\n",
    "    \n",
    "    for clause in clauses:\n",
    "        for attempt in range(retries):\n",
    "            try:\n",
    "                completion = client.chat.completions.create(\n",
    "                    model=deployment,\n",
    "                    messages=[\n",
    "                        {\"role\": \"system\", \"content\": \"You are a contract classification assistant.\"},\n",
    "                        {\n",
    "                            \"role\": \"user\",\n",
    "                            \"content\": (\n",
    "                            f\"As a legal analyst, assess whether the following contract contains a clause that fulfills the described purpose. \"\n",
    "                            f\"Analyze the contract thoroughly, considering that the clause may be phrased in various ways or use uncommon legal terminology. \"\n",
    "                            f\"Focus on the legal intent and function, not just specific terms or phrases. Answer 'Present' or 'Absent'.\\n\\n\"\n",
    "                            f\"Contract: {contract_text}\\n\\n\"\n",
    "                            f\"Your final answer should be 'Present' or 'Absent' on a new line. Assess based on the purpose and function of '{clause}', rather than specific keywords.\"\n",
    "                            \n",
    "                            )\n",
    "                        }\n",
    "                    ],\n",
    "                    max_tokens=50,\n",
    "                    temperature=0  # Limit response length\n",
    "                )\n",
    "                content = completion.choices[0].message.content.strip().lower()\n",
    "                #responses[clause] = \"Present\" if \"present\" in content else \"Absent\" if \"absent\" in content else \"Unknown\"\n",
    "                match = re.search(r'\\b(Present|Absent)\\b', content, re.IGNORECASE)\n",
    "                if match:\n",
    "                    responses[clause] = match.group(1).capitalize()\n",
    "                else:\n",
    "                    responses[clause] = \"Unknown\"\n",
    "#                   break\n",
    "            except Exception as e:\n",
    "                print(f\"Error classifying '{clause}' on attempt {attempt + 1}: {e}\")\n",
    "                time.sleep(1)\n",
    "    \n",
    "    return responses\n",
    "\n",
    "# Function to calculate accuracy for each clause\n",
    "def calculate_accuracy(predictions, clauses):\n",
    "    clause_correct_counts = {clause: 0 for clause in clauses}\n",
    "    clause_total_counts = {clause: 0 for clause in clauses}\n",
    "\n",
    "    for result in predictions:\n",
    "        actual_labels = result[\"actual_labels\"]\n",
    "        predicted_labels = result[\"predicted_labels\"]\n",
    "        \n",
    "        for clause in clauses:\n",
    "            if actual_labels[clause] != \"Unknown\":\n",
    "                clause_total_counts[clause] += 1\n",
    "                if actual_labels[clause].lower() == predicted_labels[clause].lower():\n",
    "                    clause_correct_counts[clause] += 1\n",
    "\n",
    "    # Calculate accuracy per clause\n",
    "    accuracy = {\n",
    "        clause: (clause_correct_counts[clause] / clause_total_counts[clause] * 100)\n",
    "        if clause_total_counts[clause] > 0 else 0 for clause in clauses\n",
    "    }\n",
    "    return accuracy\n",
    "\n",
    "# Function to evaluate contracts for each deployment\n",
    "def evaluate_model(client, deployment, df, clauses):\n",
    "    predictions = []\n",
    "    for i, row in tqdm(df.iterrows(), total=df.shape[0], desc=f\"Evaluating contracts with {deployment}\"):\n",
    "        with open(row[\"filename\"], \"r\", encoding=\"utf-8\") as file:\n",
    "            contract_text = file.read()\n",
    "        \n",
    "        # Create dictionary of actual labels based on row data\n",
    "        actual_labels = {\n",
    "            clause: row.get(clause_to_column[clause], \"Unknown\") for clause in clauses\n",
    "        }\n",
    "        \n",
    "        # Get predicted labels\n",
    "        predicted_labels = classify_contract(client, deployment, contract_text, clauses)\n",
    "        \n",
    "        # Append results\n",
    "        predictions.append({\n",
    "            \"filename\": row[\"filename\"],\n",
    "            \"actual_labels\": actual_labels,\n",
    "            \"predicted_labels\": predicted_labels\n",
    "        })\n",
    "\n",
    "        # Print intermediary stats every 5 contracts\n",
    "        if (i + 1) % 5 == 0:\n",
    "            intermediate_accuracy = calculate_accuracy(predictions, clauses)\n",
    "            print(f\"\\nIntermediate Evaluation Results after {i + 1} contracts with {deployment}:\")\n",
    "            for clause, acc in intermediate_accuracy.items():\n",
    "                print(f\"{clause}: {acc:.2f}%\")\n",
    "\n",
    "    return predictions\n",
    "\n",
    "# Evaluate models and collect results\n",
    "results = {}\n",
    "for model_name, deployment_name in deployments.items():\n",
    "    predictions = evaluate_model(client, deployment_name, df, clauses)\n",
    "    accuracy = calculate_accuracy(predictions, clauses)\n",
    "    results[model_name] = accuracy\n",
    "\n",
    "# Display final results\n",
    "for model_name, accuracy in results.items():\n",
    "    print(f\"\\nFinal Evaluation Results for {model_name}:\")\n",
    "    accuracy_df = pd.DataFrame({\n",
    "        \"Clause\": clauses,\n",
    "        \"Accuracy (%)\": [accuracy[clause] for clause in clauses]\n",
    "    })\n",
    "    print(accuracy_df)\n"
   ]
  }
 ],
 "metadata": {
  "kernelspec": {
   "display_name": "venv",
   "language": "python",
   "name": "python3"
  },
  "language_info": {
   "codemirror_mode": {
    "name": "ipython",
    "version": 3
   },
   "file_extension": ".py",
   "mimetype": "text/x-python",
   "name": "python",
   "nbconvert_exporter": "python",
   "pygments_lexer": "ipython3",
   "version": "3.12.7"
  }
 },
 "nbformat": 4,
 "nbformat_minor": 2
}
