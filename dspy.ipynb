{
 "cells": [
  {
   "cell_type": "markdown",
   "metadata": {},
   "source": [
    "# DSPy on Azure OpenAI - 241026"
   ]
  },
  {
   "cell_type": "code",
   "execution_count": null,
   "metadata": {},
   "outputs": [],
   "source": [
    "# Test AzureOpenAI endpoints \n",
    "import os\n",
    "from openai import AzureOpenAI\n",
    "from dotenv import load_dotenv\n",
    "\n",
    "load_dotenv()\n",
    "\n",
    "deployment='gpt-4o-mini-eastus-071'\n",
    "\n",
    "    \n",
    "client = AzureOpenAI(\n",
    "    api_key=os.getenv(\"AZURE_OPENAI_EASTUS_API_KEY\"),  \n",
    "    api_version=\"2024-06-01\",\n",
    "    azure_endpoint = os.getenv(\"AZURE_OPENAI_API_EASTUS_ENDPOINT\")\n",
    "    )\n",
    "        \n",
    "# Send a completion call to generate an answer\n",
    "completion = client.chat.completions.create(\n",
    "    model=deployment,\n",
    "    messages = [\n",
    "        {\n",
    "        \"role\": \"system\",\n",
    "        \"content\": \"You are an MIT PhD in Physics, specializing in quantum physics.\"\n",
    "        },\n",
    "        {\n",
    "        \"role\": \"user\",\n",
    "        \"content\": \"What is a black hole?\"\n",
    "        }\n",
    "    ]\n",
    "    # max_tokens=4096\n",
    ")\n",
    "\n",
    "#print(completion.model_dump_json(indent=2))\n",
    "content = completion.choices[0].message.content\n",
    "print(content)\n",
    "print(len(content))"
   ]
  },
  {
   "cell_type": "code",
   "execution_count": 17,
   "metadata": {},
   "outputs": [],
   "source": [
    "import os \n",
    "import dspy\n",
    "from dotenv import dotenv_values, load_dotenv\n",
    "\n",
    "load_dotenv()\n",
    "\n",
    "config=dotenv_values(\".env\")\n",
    "azure_endpoint = os.getenv(\"AZURE_OPENAI_API_EASTUS_ENDPOINT\")\n",
    "api_key = os.getenv(\"AZURE_OPENAI_EASTUS_API_KEY\")\n",
    "embedding_model=\"text-embedding-3-small-eastus\"\n",
    "deployment='gpt-4o-mini-eastus-0718'\n",
    "\n",
    "\n",
    "\n",
    "turbo = dspy.AzureOpenAI(\n",
    "    api_key=api_key,\n",
    "    api_version= \"2024-06-01\",\n",
    "    api_base=azure_endpoint,\n",
    "    model=deployment,\n",
    ")\n",
    "\n",
    "dspy.configure(lm=turbo)\n"
   ]
  },
  {
   "cell_type": "code",
   "execution_count": null,
   "metadata": {},
   "outputs": [],
   "source": [
    "#Test DSpy with AzureOpenAI 01\n",
    "qa = dspy.Predict('question: str -> response: str')\n",
    "qa(question=\"What is a blackhole?\").response"
   ]
  },
  {
   "cell_type": "markdown",
   "metadata": {},
   "source": [
    "# Create the Contracts "
   ]
  },
  {
   "cell_type": "code",
   "execution_count": null,
   "metadata": {},
   "outputs": [],
   "source": [
    "import os\n",
    "import pandas as pd\n",
    "import random\n",
    "import concurrent.futures\n",
    "from openai import AzureOpenAI\n",
    "from dotenv import load_dotenv\n",
    "from time import sleep\n",
    "from tqdm import tqdm\n",
    "\n",
    "# Load environment variables\n",
    "load_dotenv()\n",
    "\n",
    "# Define the OpenAI client\n",
    "deployment = 'gpt-4o-eastus-0806'\n",
    "\n",
    "client = AzureOpenAI(\n",
    "    api_key=os.getenv(\"AZURE_OPENAI_EASTUS_API_KEY\"),  \n",
    "    api_version=\"2024-06-01\",\n",
    "    azure_endpoint = os.getenv(\"AZURE_OPENAI_API_EASTUS_ENDPOINT\")\n",
    "    )\n",
    "\n",
    "# Create a contracts folder if it doesn't already exist\n",
    "if not os.path.exists(\"contracts\"):\n",
    "    os.makedirs(\"contracts\")\n",
    "\n",
    "# Define clause types for the contract\n",
    "clauses = [\n",
    "    \"Non-Disclosure Agreement (NDA) clause, which ensures confidentiality and protects sensitive business information.\",\n",
    "    \"Termination Clause, detailing conditions under which either party may terminate the agreement.\",\n",
    "    \"Indemnity Clause, covering liabilities, damages, and third-party claims arising from contract performance.\",\n",
    "    \"Force Majeure Clause, specifying conditions where obligations are waived due to unforeseen events.\",\n",
    "    \"Governing Law Clause, identifying the legal jurisdiction governing the contract.\",\n",
    "    \"Arbitration Clause, defining dispute resolution through arbitration rather than court litigation.\",\n",
    "    \"Confidentiality Agreement, ensuring restricted access to proprietary data and business secrets.\",\n",
    "    \"Data Protection Clause, detailing how personal and sensitive data must be handled and secured.\"\n",
    "]\n",
    "\n",
    "# Function to make a single API call to generate content for multiple clauses\n",
    "def generate_clauses(clause_types):\n",
    "    messages = [{\"role\": \"system\", \"content\": \"You are a legal assistant generating detailed contract clauses.\"}]\n",
    "    for clause_type in clause_types:\n",
    "        messages.append(\n",
    "            {\"role\": \"user\", \"content\": f\"Generate an 800-word section for a legal contract that includes a sophisticated {clause_type} with extensive legal language.\"}\n",
    "        )\n",
    "    try:\n",
    "        completion = client.chat.completions.create(\n",
    "            model=deployment,\n",
    "            messages=messages,\n",
    "            max_tokens=3000  # Approximate max tokens for multiple clauses\n",
    "        )\n",
    "        return completion.choices[0].message.content.strip().split(\"\\n\\n\")\n",
    "    except Exception as e:\n",
    "        print(f\"Error generating clauses for types '{clause_types}': {e}\")\n",
    "        return [\"\"] * len(clause_types)\n",
    "\n",
    "# Function to generate a complete contract and save it to a file\n",
    "def generate_and_save_contract(contract_num):\n",
    "    contract_sections = []\n",
    "    labels = {}\n",
    "\n",
    "    # Randomly decide if each clause will be \"Present\" or \"Absent\" and call generate_clauses in batches\n",
    "    clause_requests = []\n",
    "    for clause_type in clauses:\n",
    "        if random.choice([True, False]):\n",
    "            clause_requests.append(clause_type)\n",
    "            labels[clause_type] = \"Present\"\n",
    "        else:\n",
    "            labels[clause_type] = \"Absent\"\n",
    "\n",
    "    # Generate clauses in batches\n",
    "    if clause_requests:\n",
    "        clause_texts = generate_clauses(clause_requests)\n",
    "        for text in clause_texts:\n",
    "            contract_sections.append(text)\n",
    "\n",
    "    # Generate additional filler sections to reach approx 8000 tokens\n",
    "    filler_texts = generate_clauses([\"General Contract Terms and Conditions\"] * 5)\n",
    "    contract_sections.extend(filler_texts)\n",
    "\n",
    "    # Combine all sections into one contract text\n",
    "    contract_text = \" \".join(contract_sections)\n",
    "\n",
    "    # Define the filename with proper numbering\n",
    "    filename = f\"contracts/contract{contract_num:02}.txt\"\n",
    "\n",
    "    # Write the contract to a file\n",
    "    with open(filename, \"w\", encoding=\"utf-8\") as file:\n",
    "        file.write(contract_text)\n",
    "\n",
    "    # Append the labels to be saved later in a DataFrame\n",
    "    return {\n",
    "        \"filename\": filename,\n",
    "        \"contains_nda\": labels.get(\"Non-Disclosure Agreement (NDA) clause, which ensures confidentiality and protects sensitive business information.\", \"Absent\"),\n",
    "        \"contains_termination\": labels.get(\"Termination Clause, detailing conditions under which either party may terminate the agreement.\", \"Absent\"),\n",
    "        \"contains_indemnity\": labels.get(\"Indemnity Clause, covering liabilities, damages, and third-party claims arising from contract performance.\", \"Absent\"),\n",
    "        \"contains_force_majeure\": labels.get(\"Force Majeure Clause, specifying conditions where obligations are waived due to unforeseen events.\", \"Absent\"),\n",
    "        \"contains_governing_law\": labels.get(\"Governing Law Clause, identifying the legal jurisdiction governing the contract.\", \"Absent\"),\n",
    "        \"contains_arbitration\": labels.get(\"Arbitration Clause, defining dispute resolution through arbitration rather than court litigation.\", \"Absent\"),\n",
    "        \"contains_confidentiality\": labels.get(\"Confidentiality Agreement, ensuring restricted access to proprietary data and business secrets.\", \"Absent\"),\n",
    "        \"contains_data_protection\": labels.get(\"Data Protection Clause, detailing how personal and sensitive data must be handled and secured.\", \"Absent\")\n",
    "    }\n",
    "\n",
    "# Function to run contract generation in parallel\n",
    "def generate_contracts(num_contracts=50):\n",
    "    contract_labels = []\n",
    "    \n",
    "    with concurrent.futures.ThreadPoolExecutor() as executor:\n",
    "        futures = [executor.submit(generate_and_save_contract, i + 1) for i in range(num_contracts)]\n",
    "        \n",
    "        for future in tqdm(concurrent.futures.as_completed(futures), total=num_contracts, desc=\"Generating contracts\"):\n",
    "            result = future.result()\n",
    "            contract_labels.append(result)\n",
    "\n",
    "    return contract_labels\n",
    "\n",
    "# Generate contracts and gather labels\n",
    "labels = generate_contracts(50)\n",
    "\n",
    "# Save the labels to a DataFrame and store it in the contracts folder\n",
    "df = pd.DataFrame(labels)\n",
    "df.to_csv(\"contracts/contract_labels.csv\", index=False)\n",
    "print(\"Contract labels saved as contracts/contract_labels.csv\")\n"
   ]
  },
  {
   "cell_type": "markdown",
   "metadata": {},
   "source": [
    "# Eval with gpt-4o-mini"
   ]
  },
  {
   "cell_type": "code",
   "execution_count": 1,
   "metadata": {},
   "outputs": [
    {
     "name": "stderr",
     "output_type": "stream",
     "text": [
      "Processing contracts:   0%|          | 0/50 [00:00<?, ?it/s]"
     ]
    },
    {
     "name": "stdout",
     "output_type": "stream",
     "text": [
      "\n",
      "[INFO] Querying model to check presence of 'Non-Disclosure Agreement (NDA)' in the contract.\n",
      "[DEBUG] Model response for 'Non-Disclosure Agreement (NDA)': 'Absent'\n",
      "\n",
      "[INFO] Querying model to check presence of 'Termination Clause' in the contract.\n",
      "[DEBUG] Model response for 'Termination Clause': 'Present'\n",
      "\n",
      "[INFO] Querying model to check presence of 'Indemnity Clause' in the contract.\n",
      "[DEBUG] Model response for 'Indemnity Clause': 'Present'\n",
      "\n",
      "[INFO] Querying model to check presence of 'Force Majeure Clause' in the contract.\n",
      "[DEBUG] Model response for 'Force Majeure Clause': 'Present'\n",
      "\n",
      "[INFO] Querying model to check presence of 'Governing Law Clause' in the contract.\n",
      "[DEBUG] Model response for 'Governing Law Clause': 'Present'\n",
      "\n",
      "[INFO] Querying model to check presence of 'Arbitration Clause' in the contract.\n",
      "[DEBUG] Model response for 'Arbitration Clause': 'Absent'\n",
      "\n",
      "[INFO] Querying model to check presence of 'Confidentiality Agreement' in the contract.\n",
      "[DEBUG] Model response for 'Confidentiality Agreement': 'Present'\n",
      "\n",
      "[INFO] Querying model to check presence of 'Data Protection Clause' in the contract.\n"
     ]
    },
    {
     "name": "stderr",
     "output_type": "stream",
     "text": [
      "Processing contracts:   2%|▏         | 1/50 [00:03<03:11,  3.90s/it]"
     ]
    },
    {
     "name": "stdout",
     "output_type": "stream",
     "text": [
      "[DEBUG] Model response for 'Data Protection Clause': 'Present'\n",
      "\n",
      "[INFO] Actual Labels: {'Non-Disclosure Agreement (NDA)': 'Present', 'Termination Clause': 'Present', 'Indemnity Clause': 'Present', 'Force Majeure Clause': 'Absent', 'Governing Law Clause': 'Absent', 'Arbitration Clause': 'Present', 'Confidentiality Agreement': 'Absent', 'Data Protection Clause': 'Present'}\n",
      "[INFO] Predicted Labels: {'Non-Disclosure Agreement (NDA)': 'Absent', 'Termination Clause': 'Present', 'Indemnity Clause': 'Present', 'Force Majeure Clause': 'Present', 'Governing Law Clause': 'Present', 'Arbitration Clause': 'Absent', 'Confidentiality Agreement': 'Present', 'Data Protection Clause': 'Present'}\n",
      "[RESULT] Clause-by-clause correctness: {'Non-Disclosure Agreement (NDA)': False, 'Termination Clause': True, 'Indemnity Clause': True, 'Force Majeure Clause': False, 'Governing Law Clause': False, 'Arbitration Clause': False, 'Confidentiality Agreement': False, 'Data Protection Clause': True}\n",
      "--------------------------------------------------\n",
      "\n",
      "[INFO] Querying model to check presence of 'Non-Disclosure Agreement (NDA)' in the contract.\n",
      "[DEBUG] Model response for 'Non-Disclosure Agreement (NDA)': 'Present'\n",
      "\n",
      "[INFO] Querying model to check presence of 'Termination Clause' in the contract.\n",
      "[DEBUG] Model response for 'Termination Clause': 'Present'\n",
      "\n",
      "[INFO] Querying model to check presence of 'Indemnity Clause' in the contract.\n",
      "[DEBUG] Model response for 'Indemnity Clause': 'Present'\n",
      "\n",
      "[INFO] Querying model to check presence of 'Force Majeure Clause' in the contract.\n",
      "[DEBUG] Model response for 'Force Majeure Clause': 'Present'\n",
      "\n",
      "[INFO] Querying model to check presence of 'Governing Law Clause' in the contract.\n",
      "[DEBUG] Model response for 'Governing Law Clause': 'Present'\n",
      "\n",
      "[INFO] Querying model to check presence of 'Arbitration Clause' in the contract.\n",
      "[DEBUG] Model response for 'Arbitration Clause': 'Absent'\n",
      "\n",
      "[INFO] Querying model to check presence of 'Confidentiality Agreement' in the contract.\n",
      "[DEBUG] Model response for 'Confidentiality Agreement': 'Present'\n",
      "\n",
      "[INFO] Querying model to check presence of 'Data Protection Clause' in the contract.\n"
     ]
    },
    {
     "name": "stderr",
     "output_type": "stream",
     "text": [
      "Processing contracts:   4%|▍         | 2/50 [00:06<02:42,  3.38s/it]"
     ]
    },
    {
     "name": "stdout",
     "output_type": "stream",
     "text": [
      "[DEBUG] Model response for 'Data Protection Clause': 'Absent'\n",
      "\n",
      "[INFO] Actual Labels: {'Non-Disclosure Agreement (NDA)': 'Absent', 'Termination Clause': 'Present', 'Indemnity Clause': 'Absent', 'Force Majeure Clause': 'Present', 'Governing Law Clause': 'Absent', 'Arbitration Clause': 'Absent', 'Confidentiality Agreement': 'Absent', 'Data Protection Clause': 'Absent'}\n",
      "[INFO] Predicted Labels: {'Non-Disclosure Agreement (NDA)': 'Present', 'Termination Clause': 'Present', 'Indemnity Clause': 'Present', 'Force Majeure Clause': 'Present', 'Governing Law Clause': 'Present', 'Arbitration Clause': 'Absent', 'Confidentiality Agreement': 'Present', 'Data Protection Clause': 'Absent'}\n",
      "[RESULT] Clause-by-clause correctness: {'Non-Disclosure Agreement (NDA)': False, 'Termination Clause': True, 'Indemnity Clause': False, 'Force Majeure Clause': True, 'Governing Law Clause': False, 'Arbitration Clause': True, 'Confidentiality Agreement': False, 'Data Protection Clause': True}\n",
      "--------------------------------------------------\n",
      "\n",
      "[INFO] Querying model to check presence of 'Non-Disclosure Agreement (NDA)' in the contract.\n",
      "[DEBUG] Model response for 'Non-Disclosure Agreement (NDA)': 'Present'\n",
      "\n",
      "[INFO] Querying model to check presence of 'Termination Clause' in the contract.\n",
      "[DEBUG] Model response for 'Termination Clause': 'Present'\n",
      "\n",
      "[INFO] Querying model to check presence of 'Indemnity Clause' in the contract.\n",
      "[DEBUG] Model response for 'Indemnity Clause': 'Present'\n",
      "\n",
      "[INFO] Querying model to check presence of 'Force Majeure Clause' in the contract.\n",
      "[DEBUG] Model response for 'Force Majeure Clause': 'Present'\n",
      "\n",
      "[INFO] Querying model to check presence of 'Governing Law Clause' in the contract.\n",
      "[DEBUG] Model response for 'Governing Law Clause': 'Present'\n",
      "\n",
      "[INFO] Querying model to check presence of 'Arbitration Clause' in the contract.\n",
      "[DEBUG] Model response for 'Arbitration Clause': 'Present'\n",
      "\n",
      "[INFO] Querying model to check presence of 'Confidentiality Agreement' in the contract.\n",
      "[DEBUG] Model response for 'Confidentiality Agreement': 'Present'\n",
      "\n",
      "[INFO] Querying model to check presence of 'Data Protection Clause' in the contract.\n"
     ]
    },
    {
     "name": "stderr",
     "output_type": "stream",
     "text": [
      "Processing contracts:   6%|▌         | 3/50 [00:09<02:27,  3.14s/it]"
     ]
    },
    {
     "name": "stdout",
     "output_type": "stream",
     "text": [
      "[DEBUG] Model response for 'Data Protection Clause': 'Present'\n",
      "\n",
      "[INFO] Actual Labels: {'Non-Disclosure Agreement (NDA)': 'Absent', 'Termination Clause': 'Absent', 'Indemnity Clause': 'Present', 'Force Majeure Clause': 'Absent', 'Governing Law Clause': 'Absent', 'Arbitration Clause': 'Present', 'Confidentiality Agreement': 'Absent', 'Data Protection Clause': 'Present'}\n",
      "[INFO] Predicted Labels: {'Non-Disclosure Agreement (NDA)': 'Present', 'Termination Clause': 'Present', 'Indemnity Clause': 'Present', 'Force Majeure Clause': 'Present', 'Governing Law Clause': 'Present', 'Arbitration Clause': 'Present', 'Confidentiality Agreement': 'Present', 'Data Protection Clause': 'Present'}\n",
      "[RESULT] Clause-by-clause correctness: {'Non-Disclosure Agreement (NDA)': False, 'Termination Clause': False, 'Indemnity Clause': True, 'Force Majeure Clause': False, 'Governing Law Clause': False, 'Arbitration Clause': True, 'Confidentiality Agreement': False, 'Data Protection Clause': True}\n",
      "--------------------------------------------------\n",
      "\n",
      "[INFO] Querying model to check presence of 'Non-Disclosure Agreement (NDA)' in the contract.\n",
      "[DEBUG] Model response for 'Non-Disclosure Agreement (NDA)': 'Present'\n",
      "\n",
      "[INFO] Querying model to check presence of 'Termination Clause' in the contract.\n",
      "[DEBUG] Model response for 'Termination Clause': 'Present'\n",
      "\n",
      "[INFO] Querying model to check presence of 'Indemnity Clause' in the contract.\n",
      "[DEBUG] Model response for 'Indemnity Clause': 'Present'\n",
      "\n",
      "[INFO] Querying model to check presence of 'Force Majeure Clause' in the contract.\n",
      "[DEBUG] Model response for 'Force Majeure Clause': 'Present'\n",
      "\n",
      "[INFO] Querying model to check presence of 'Governing Law Clause' in the contract.\n",
      "[DEBUG] Model response for 'Governing Law Clause': 'Present'\n",
      "\n",
      "[INFO] Querying model to check presence of 'Arbitration Clause' in the contract.\n",
      "[DEBUG] Model response for 'Arbitration Clause': 'Present'\n",
      "\n",
      "[INFO] Querying model to check presence of 'Confidentiality Agreement' in the contract.\n",
      "[DEBUG] Model response for 'Confidentiality Agreement': 'Present'\n",
      "\n",
      "[INFO] Querying model to check presence of 'Data Protection Clause' in the contract.\n"
     ]
    },
    {
     "name": "stderr",
     "output_type": "stream",
     "text": [
      "Processing contracts:   8%|▊         | 4/50 [00:14<02:58,  3.88s/it]"
     ]
    },
    {
     "name": "stdout",
     "output_type": "stream",
     "text": [
      "[DEBUG] Model response for 'Data Protection Clause': 'Absent'\n",
      "\n",
      "[INFO] Actual Labels: {'Non-Disclosure Agreement (NDA)': 'Present', 'Termination Clause': 'Absent', 'Indemnity Clause': 'Present', 'Force Majeure Clause': 'Present', 'Governing Law Clause': 'Absent', 'Arbitration Clause': 'Absent', 'Confidentiality Agreement': 'Present', 'Data Protection Clause': 'Absent'}\n",
      "[INFO] Predicted Labels: {'Non-Disclosure Agreement (NDA)': 'Present', 'Termination Clause': 'Present', 'Indemnity Clause': 'Present', 'Force Majeure Clause': 'Present', 'Governing Law Clause': 'Present', 'Arbitration Clause': 'Present', 'Confidentiality Agreement': 'Present', 'Data Protection Clause': 'Absent'}\n",
      "[RESULT] Clause-by-clause correctness: {'Non-Disclosure Agreement (NDA)': True, 'Termination Clause': False, 'Indemnity Clause': True, 'Force Majeure Clause': True, 'Governing Law Clause': False, 'Arbitration Clause': False, 'Confidentiality Agreement': True, 'Data Protection Clause': True}\n",
      "--------------------------------------------------\n",
      "\n",
      "[INFO] Querying model to check presence of 'Non-Disclosure Agreement (NDA)' in the contract.\n",
      "[DEBUG] Model response for 'Non-Disclosure Agreement (NDA)': 'Present'\n",
      "\n",
      "[INFO] Querying model to check presence of 'Termination Clause' in the contract.\n",
      "[DEBUG] Model response for 'Termination Clause': 'Present'\n",
      "\n",
      "[INFO] Querying model to check presence of 'Indemnity Clause' in the contract.\n",
      "[DEBUG] Model response for 'Indemnity Clause': 'Present'\n",
      "\n",
      "[INFO] Querying model to check presence of 'Force Majeure Clause' in the contract.\n",
      "[DEBUG] Model response for 'Force Majeure Clause': 'Present'\n",
      "\n",
      "[INFO] Querying model to check presence of 'Governing Law Clause' in the contract.\n",
      "[DEBUG] Model response for 'Governing Law Clause': 'Present'\n",
      "\n",
      "[INFO] Querying model to check presence of 'Arbitration Clause' in the contract.\n",
      "[DEBUG] Model response for 'Arbitration Clause': 'Absent'\n",
      "\n",
      "[INFO] Querying model to check presence of 'Confidentiality Agreement' in the contract.\n",
      "[DEBUG] Model response for 'Confidentiality Agreement': 'Present'\n",
      "\n",
      "[INFO] Querying model to check presence of 'Data Protection Clause' in the contract.\n"
     ]
    },
    {
     "name": "stderr",
     "output_type": "stream",
     "text": [
      "Processing contracts:  10%|█         | 5/50 [00:18<02:44,  3.65s/it]"
     ]
    },
    {
     "name": "stdout",
     "output_type": "stream",
     "text": [
      "[DEBUG] Model response for 'Data Protection Clause': 'Present'\n",
      "\n",
      "[INFO] Actual Labels: {'Non-Disclosure Agreement (NDA)': 'Absent', 'Termination Clause': 'Absent', 'Indemnity Clause': 'Absent', 'Force Majeure Clause': 'Absent', 'Governing Law Clause': 'Present', 'Arbitration Clause': 'Present', 'Confidentiality Agreement': 'Present', 'Data Protection Clause': 'Present'}\n",
      "[INFO] Predicted Labels: {'Non-Disclosure Agreement (NDA)': 'Present', 'Termination Clause': 'Present', 'Indemnity Clause': 'Present', 'Force Majeure Clause': 'Present', 'Governing Law Clause': 'Present', 'Arbitration Clause': 'Absent', 'Confidentiality Agreement': 'Present', 'Data Protection Clause': 'Present'}\n",
      "[RESULT] Clause-by-clause correctness: {'Non-Disclosure Agreement (NDA)': False, 'Termination Clause': False, 'Indemnity Clause': False, 'Force Majeure Clause': False, 'Governing Law Clause': True, 'Arbitration Clause': False, 'Confidentiality Agreement': True, 'Data Protection Clause': True}\n",
      "--------------------------------------------------\n",
      "\n",
      "[INFO] Querying model to check presence of 'Non-Disclosure Agreement (NDA)' in the contract.\n",
      "[DEBUG] Model response for 'Non-Disclosure Agreement (NDA)': 'Absent'\n",
      "\n",
      "[INFO] Querying model to check presence of 'Termination Clause' in the contract.\n",
      "[DEBUG] Model response for 'Termination Clause': 'Present'\n",
      "\n",
      "[INFO] Querying model to check presence of 'Indemnity Clause' in the contract.\n",
      "[DEBUG] Model response for 'Indemnity Clause': 'Present'\n",
      "\n",
      "[INFO] Querying model to check presence of 'Force Majeure Clause' in the contract.\n",
      "[DEBUG] Model response for 'Force Majeure Clause': 'Present'\n",
      "\n",
      "[INFO] Querying model to check presence of 'Governing Law Clause' in the contract.\n",
      "[DEBUG] Model response for 'Governing Law Clause': 'Present'\n",
      "\n",
      "[INFO] Querying model to check presence of 'Arbitration Clause' in the contract.\n",
      "[DEBUG] Model response for 'Arbitration Clause': 'Absent'\n",
      "\n",
      "[INFO] Querying model to check presence of 'Confidentiality Agreement' in the contract.\n",
      "[DEBUG] Model response for 'Confidentiality Agreement': '**Present**'\n",
      "\n",
      "[INFO] Querying model to check presence of 'Data Protection Clause' in the contract.\n"
     ]
    },
    {
     "name": "stderr",
     "output_type": "stream",
     "text": [
      "Processing contracts:  12%|█▏        | 6/50 [00:21<02:37,  3.57s/it]"
     ]
    },
    {
     "name": "stdout",
     "output_type": "stream",
     "text": [
      "[DEBUG] Model response for 'Data Protection Clause': 'Present'\n",
      "\n",
      "[INFO] Actual Labels: {'Non-Disclosure Agreement (NDA)': 'Present', 'Termination Clause': 'Present', 'Indemnity Clause': 'Absent', 'Force Majeure Clause': 'Present', 'Governing Law Clause': 'Present', 'Arbitration Clause': 'Absent', 'Confidentiality Agreement': 'Present', 'Data Protection Clause': 'Present'}\n",
      "[INFO] Predicted Labels: {'Non-Disclosure Agreement (NDA)': 'Absent', 'Termination Clause': 'Present', 'Indemnity Clause': 'Present', 'Force Majeure Clause': 'Present', 'Governing Law Clause': 'Present', 'Arbitration Clause': 'Absent', 'Confidentiality Agreement': 'Present', 'Data Protection Clause': 'Present'}\n",
      "[RESULT] Clause-by-clause correctness: {'Non-Disclosure Agreement (NDA)': False, 'Termination Clause': True, 'Indemnity Clause': False, 'Force Majeure Clause': True, 'Governing Law Clause': True, 'Arbitration Clause': True, 'Confidentiality Agreement': True, 'Data Protection Clause': True}\n",
      "--------------------------------------------------\n",
      "\n",
      "[INFO] Querying model to check presence of 'Non-Disclosure Agreement (NDA)' in the contract.\n",
      "[DEBUG] Model response for 'Non-Disclosure Agreement (NDA)': 'Absent'\n",
      "\n",
      "[INFO] Querying model to check presence of 'Termination Clause' in the contract.\n",
      "[DEBUG] Model response for 'Termination Clause': 'Present'\n",
      "\n",
      "[INFO] Querying model to check presence of 'Indemnity Clause' in the contract.\n",
      "[DEBUG] Model response for 'Indemnity Clause': 'Present'\n",
      "\n",
      "[INFO] Querying model to check presence of 'Force Majeure Clause' in the contract.\n",
      "[DEBUG] Model response for 'Force Majeure Clause': 'Absent'\n",
      "\n",
      "[INFO] Querying model to check presence of 'Governing Law Clause' in the contract.\n",
      "[DEBUG] Model response for 'Governing Law Clause': 'Present'\n",
      "\n",
      "[INFO] Querying model to check presence of 'Arbitration Clause' in the contract.\n",
      "[DEBUG] Model response for 'Arbitration Clause': 'Absent'\n",
      "\n",
      "[INFO] Querying model to check presence of 'Confidentiality Agreement' in the contract.\n",
      "[DEBUG] Model response for 'Confidentiality Agreement': 'Present'\n",
      "\n",
      "[INFO] Querying model to check presence of 'Data Protection Clause' in the contract.\n"
     ]
    },
    {
     "name": "stderr",
     "output_type": "stream",
     "text": [
      "Processing contracts:  14%|█▍        | 7/50 [00:24<02:31,  3.53s/it]"
     ]
    },
    {
     "name": "stdout",
     "output_type": "stream",
     "text": [
      "[DEBUG] Model response for 'Data Protection Clause': 'Present'\n",
      "\n",
      "[INFO] Actual Labels: {'Non-Disclosure Agreement (NDA)': 'Absent', 'Termination Clause': 'Present', 'Indemnity Clause': 'Present', 'Force Majeure Clause': 'Present', 'Governing Law Clause': 'Present', 'Arbitration Clause': 'Present', 'Confidentiality Agreement': 'Absent', 'Data Protection Clause': 'Present'}\n",
      "[INFO] Predicted Labels: {'Non-Disclosure Agreement (NDA)': 'Absent', 'Termination Clause': 'Present', 'Indemnity Clause': 'Present', 'Force Majeure Clause': 'Absent', 'Governing Law Clause': 'Present', 'Arbitration Clause': 'Absent', 'Confidentiality Agreement': 'Present', 'Data Protection Clause': 'Present'}\n",
      "[RESULT] Clause-by-clause correctness: {'Non-Disclosure Agreement (NDA)': True, 'Termination Clause': True, 'Indemnity Clause': True, 'Force Majeure Clause': False, 'Governing Law Clause': True, 'Arbitration Clause': False, 'Confidentiality Agreement': False, 'Data Protection Clause': True}\n",
      "--------------------------------------------------\n",
      "\n",
      "[INFO] Querying model to check presence of 'Non-Disclosure Agreement (NDA)' in the contract.\n",
      "[DEBUG] Model response for 'Non-Disclosure Agreement (NDA)': 'Present'\n",
      "\n",
      "[INFO] Querying model to check presence of 'Termination Clause' in the contract.\n",
      "[DEBUG] Model response for 'Termination Clause': 'Present'\n",
      "\n",
      "[INFO] Querying model to check presence of 'Indemnity Clause' in the contract.\n",
      "[DEBUG] Model response for 'Indemnity Clause': 'Present'\n",
      "\n",
      "[INFO] Querying model to check presence of 'Force Majeure Clause' in the contract.\n",
      "[DEBUG] Model response for 'Force Majeure Clause': 'Present'\n",
      "\n",
      "[INFO] Querying model to check presence of 'Governing Law Clause' in the contract.\n",
      "[DEBUG] Model response for 'Governing Law Clause': 'Present'\n",
      "\n",
      "[INFO] Querying model to check presence of 'Arbitration Clause' in the contract.\n",
      "[DEBUG] Model response for 'Arbitration Clause': 'Absent'\n",
      "\n",
      "[INFO] Querying model to check presence of 'Confidentiality Agreement' in the contract.\n",
      "[DEBUG] Model response for 'Confidentiality Agreement': 'Present'\n",
      "\n",
      "[INFO] Querying model to check presence of 'Data Protection Clause' in the contract.\n"
     ]
    },
    {
     "name": "stderr",
     "output_type": "stream",
     "text": [
      "Processing contracts:  16%|█▌        | 8/50 [00:27<02:18,  3.30s/it]"
     ]
    },
    {
     "name": "stdout",
     "output_type": "stream",
     "text": [
      "[DEBUG] Model response for 'Data Protection Clause': 'Present'\n",
      "\n",
      "[INFO] Actual Labels: {'Non-Disclosure Agreement (NDA)': 'Present', 'Termination Clause': 'Absent', 'Indemnity Clause': 'Present', 'Force Majeure Clause': 'Present', 'Governing Law Clause': 'Absent', 'Arbitration Clause': 'Present', 'Confidentiality Agreement': 'Present', 'Data Protection Clause': 'Present'}\n",
      "[INFO] Predicted Labels: {'Non-Disclosure Agreement (NDA)': 'Present', 'Termination Clause': 'Present', 'Indemnity Clause': 'Present', 'Force Majeure Clause': 'Present', 'Governing Law Clause': 'Present', 'Arbitration Clause': 'Absent', 'Confidentiality Agreement': 'Present', 'Data Protection Clause': 'Present'}\n",
      "[RESULT] Clause-by-clause correctness: {'Non-Disclosure Agreement (NDA)': True, 'Termination Clause': False, 'Indemnity Clause': True, 'Force Majeure Clause': True, 'Governing Law Clause': False, 'Arbitration Clause': False, 'Confidentiality Agreement': True, 'Data Protection Clause': True}\n",
      "--------------------------------------------------\n",
      "\n",
      "[INFO] Querying model to check presence of 'Non-Disclosure Agreement (NDA)' in the contract.\n",
      "[DEBUG] Model response for 'Non-Disclosure Agreement (NDA)': 'Present'\n",
      "\n",
      "[INFO] Querying model to check presence of 'Termination Clause' in the contract.\n",
      "[DEBUG] Model response for 'Termination Clause': 'Present'\n",
      "\n",
      "[INFO] Querying model to check presence of 'Indemnity Clause' in the contract.\n",
      "[DEBUG] Model response for 'Indemnity Clause': 'Present'\n",
      "\n",
      "[INFO] Querying model to check presence of 'Force Majeure Clause' in the contract.\n",
      "[DEBUG] Model response for 'Force Majeure Clause': 'Present'\n",
      "\n",
      "[INFO] Querying model to check presence of 'Governing Law Clause' in the contract.\n",
      "[DEBUG] Model response for 'Governing Law Clause': 'Present'\n",
      "\n",
      "[INFO] Querying model to check presence of 'Arbitration Clause' in the contract.\n",
      "[DEBUG] Model response for 'Arbitration Clause': 'Absent'\n",
      "\n",
      "[INFO] Querying model to check presence of 'Confidentiality Agreement' in the contract.\n",
      "[DEBUG] Model response for 'Confidentiality Agreement': 'Present'\n",
      "\n",
      "[INFO] Querying model to check presence of 'Data Protection Clause' in the contract.\n"
     ]
    },
    {
     "name": "stderr",
     "output_type": "stream",
     "text": [
      "Processing contracts:  18%|█▊        | 9/50 [00:30<02:12,  3.23s/it]"
     ]
    },
    {
     "name": "stdout",
     "output_type": "stream",
     "text": [
      "[DEBUG] Model response for 'Data Protection Clause': 'Present'\n",
      "\n",
      "[INFO] Actual Labels: {'Non-Disclosure Agreement (NDA)': 'Absent', 'Termination Clause': 'Present', 'Indemnity Clause': 'Absent', 'Force Majeure Clause': 'Present', 'Governing Law Clause': 'Present', 'Arbitration Clause': 'Absent', 'Confidentiality Agreement': 'Absent', 'Data Protection Clause': 'Present'}\n",
      "[INFO] Predicted Labels: {'Non-Disclosure Agreement (NDA)': 'Present', 'Termination Clause': 'Present', 'Indemnity Clause': 'Present', 'Force Majeure Clause': 'Present', 'Governing Law Clause': 'Present', 'Arbitration Clause': 'Absent', 'Confidentiality Agreement': 'Present', 'Data Protection Clause': 'Present'}\n",
      "[RESULT] Clause-by-clause correctness: {'Non-Disclosure Agreement (NDA)': False, 'Termination Clause': True, 'Indemnity Clause': False, 'Force Majeure Clause': True, 'Governing Law Clause': True, 'Arbitration Clause': True, 'Confidentiality Agreement': False, 'Data Protection Clause': True}\n",
      "--------------------------------------------------\n",
      "\n",
      "[INFO] Querying model to check presence of 'Non-Disclosure Agreement (NDA)' in the contract.\n",
      "[DEBUG] Model response for 'Non-Disclosure Agreement (NDA)': 'Present'\n",
      "\n",
      "[INFO] Querying model to check presence of 'Termination Clause' in the contract.\n",
      "[DEBUG] Model response for 'Termination Clause': 'Present'\n",
      "\n",
      "[INFO] Querying model to check presence of 'Indemnity Clause' in the contract.\n",
      "[DEBUG] Model response for 'Indemnity Clause': 'Present'\n",
      "\n",
      "[INFO] Querying model to check presence of 'Force Majeure Clause' in the contract.\n",
      "[DEBUG] Model response for 'Force Majeure Clause': 'Present'\n",
      "\n",
      "[INFO] Querying model to check presence of 'Governing Law Clause' in the contract.\n",
      "[DEBUG] Model response for 'Governing Law Clause': 'Present'\n",
      "\n",
      "[INFO] Querying model to check presence of 'Arbitration Clause' in the contract.\n",
      "[DEBUG] Model response for 'Arbitration Clause': 'Absent'\n",
      "\n",
      "[INFO] Querying model to check presence of 'Confidentiality Agreement' in the contract.\n",
      "[DEBUG] Model response for 'Confidentiality Agreement': 'Present'\n",
      "\n",
      "[INFO] Querying model to check presence of 'Data Protection Clause' in the contract.\n"
     ]
    },
    {
     "name": "stderr",
     "output_type": "stream",
     "text": [
      "Processing contracts:  20%|██        | 10/50 [00:34<02:11,  3.28s/it]"
     ]
    },
    {
     "name": "stdout",
     "output_type": "stream",
     "text": [
      "[DEBUG] Model response for 'Data Protection Clause': 'Present'\n",
      "\n",
      "[INFO] Actual Labels: {'Non-Disclosure Agreement (NDA)': 'Absent', 'Termination Clause': 'Absent', 'Indemnity Clause': 'Absent', 'Force Majeure Clause': 'Absent', 'Governing Law Clause': 'Absent', 'Arbitration Clause': 'Absent', 'Confidentiality Agreement': 'Absent', 'Data Protection Clause': 'Present'}\n",
      "[INFO] Predicted Labels: {'Non-Disclosure Agreement (NDA)': 'Present', 'Termination Clause': 'Present', 'Indemnity Clause': 'Present', 'Force Majeure Clause': 'Present', 'Governing Law Clause': 'Present', 'Arbitration Clause': 'Absent', 'Confidentiality Agreement': 'Present', 'Data Protection Clause': 'Present'}\n",
      "[RESULT] Clause-by-clause correctness: {'Non-Disclosure Agreement (NDA)': False, 'Termination Clause': False, 'Indemnity Clause': False, 'Force Majeure Clause': False, 'Governing Law Clause': False, 'Arbitration Clause': True, 'Confidentiality Agreement': False, 'Data Protection Clause': True}\n",
      "--------------------------------------------------\n",
      "\n",
      "[INFO] Querying model to check presence of 'Non-Disclosure Agreement (NDA)' in the contract.\n",
      "[DEBUG] Model response for 'Non-Disclosure Agreement (NDA)': 'Present'\n",
      "\n",
      "[INFO] Querying model to check presence of 'Termination Clause' in the contract.\n",
      "[DEBUG] Model response for 'Termination Clause': 'Present'\n",
      "\n",
      "[INFO] Querying model to check presence of 'Indemnity Clause' in the contract.\n",
      "[DEBUG] Model response for 'Indemnity Clause': 'Present'\n",
      "\n",
      "[INFO] Querying model to check presence of 'Force Majeure Clause' in the contract.\n",
      "[DEBUG] Model response for 'Force Majeure Clause': 'Present'\n",
      "\n",
      "[INFO] Querying model to check presence of 'Governing Law Clause' in the contract.\n",
      "[DEBUG] Model response for 'Governing Law Clause': 'Present'\n",
      "\n",
      "[INFO] Querying model to check presence of 'Arbitration Clause' in the contract.\n",
      "[DEBUG] Model response for 'Arbitration Clause': 'Absent'\n",
      "\n",
      "[INFO] Querying model to check presence of 'Confidentiality Agreement' in the contract.\n",
      "[DEBUG] Model response for 'Confidentiality Agreement': 'Present'\n",
      "\n",
      "[INFO] Querying model to check presence of 'Data Protection Clause' in the contract.\n"
     ]
    },
    {
     "name": "stderr",
     "output_type": "stream",
     "text": [
      "Processing contracts:  22%|██▏       | 11/50 [00:37<02:05,  3.21s/it]"
     ]
    },
    {
     "name": "stdout",
     "output_type": "stream",
     "text": [
      "[DEBUG] Model response for 'Data Protection Clause': 'Absent'\n",
      "\n",
      "[INFO] Actual Labels: {'Non-Disclosure Agreement (NDA)': 'Present', 'Termination Clause': 'Absent', 'Indemnity Clause': 'Absent', 'Force Majeure Clause': 'Absent', 'Governing Law Clause': 'Absent', 'Arbitration Clause': 'Present', 'Confidentiality Agreement': 'Present', 'Data Protection Clause': 'Absent'}\n",
      "[INFO] Predicted Labels: {'Non-Disclosure Agreement (NDA)': 'Present', 'Termination Clause': 'Present', 'Indemnity Clause': 'Present', 'Force Majeure Clause': 'Present', 'Governing Law Clause': 'Present', 'Arbitration Clause': 'Absent', 'Confidentiality Agreement': 'Present', 'Data Protection Clause': 'Absent'}\n",
      "[RESULT] Clause-by-clause correctness: {'Non-Disclosure Agreement (NDA)': True, 'Termination Clause': False, 'Indemnity Clause': False, 'Force Majeure Clause': False, 'Governing Law Clause': False, 'Arbitration Clause': False, 'Confidentiality Agreement': True, 'Data Protection Clause': True}\n",
      "--------------------------------------------------\n",
      "\n",
      "[INFO] Querying model to check presence of 'Non-Disclosure Agreement (NDA)' in the contract.\n",
      "[DEBUG] Model response for 'Non-Disclosure Agreement (NDA)': 'Present'\n",
      "\n",
      "[INFO] Querying model to check presence of 'Termination Clause' in the contract.\n",
      "[DEBUG] Model response for 'Termination Clause': 'Present'\n",
      "\n",
      "[INFO] Querying model to check presence of 'Indemnity Clause' in the contract.\n",
      "[DEBUG] Model response for 'Indemnity Clause': 'Present'\n",
      "\n",
      "[INFO] Querying model to check presence of 'Force Majeure Clause' in the contract.\n",
      "[DEBUG] Model response for 'Force Majeure Clause': 'Present'\n",
      "\n",
      "[INFO] Querying model to check presence of 'Governing Law Clause' in the contract.\n",
      "[DEBUG] Model response for 'Governing Law Clause': 'Present'\n",
      "\n",
      "[INFO] Querying model to check presence of 'Arbitration Clause' in the contract.\n",
      "[DEBUG] Model response for 'Arbitration Clause': 'Present'\n",
      "\n",
      "[INFO] Querying model to check presence of 'Confidentiality Agreement' in the contract.\n",
      "[DEBUG] Model response for 'Confidentiality Agreement': 'Present'\n",
      "\n",
      "[INFO] Querying model to check presence of 'Data Protection Clause' in the contract.\n"
     ]
    },
    {
     "name": "stderr",
     "output_type": "stream",
     "text": [
      "Processing contracts:  24%|██▍       | 12/50 [00:40<02:00,  3.18s/it]"
     ]
    },
    {
     "name": "stdout",
     "output_type": "stream",
     "text": [
      "[DEBUG] Model response for 'Data Protection Clause': 'Absent'\n",
      "\n",
      "[INFO] Actual Labels: {'Non-Disclosure Agreement (NDA)': 'Absent', 'Termination Clause': 'Present', 'Indemnity Clause': 'Absent', 'Force Majeure Clause': 'Present', 'Governing Law Clause': 'Present', 'Arbitration Clause': 'Present', 'Confidentiality Agreement': 'Absent', 'Data Protection Clause': 'Absent'}\n",
      "[INFO] Predicted Labels: {'Non-Disclosure Agreement (NDA)': 'Present', 'Termination Clause': 'Present', 'Indemnity Clause': 'Present', 'Force Majeure Clause': 'Present', 'Governing Law Clause': 'Present', 'Arbitration Clause': 'Present', 'Confidentiality Agreement': 'Present', 'Data Protection Clause': 'Absent'}\n",
      "[RESULT] Clause-by-clause correctness: {'Non-Disclosure Agreement (NDA)': False, 'Termination Clause': True, 'Indemnity Clause': False, 'Force Majeure Clause': True, 'Governing Law Clause': True, 'Arbitration Clause': True, 'Confidentiality Agreement': False, 'Data Protection Clause': True}\n",
      "--------------------------------------------------\n",
      "\n",
      "[INFO] Querying model to check presence of 'Non-Disclosure Agreement (NDA)' in the contract.\n",
      "[DEBUG] Model response for 'Non-Disclosure Agreement (NDA)': 'Present'\n",
      "\n",
      "[INFO] Querying model to check presence of 'Termination Clause' in the contract.\n",
      "[DEBUG] Model response for 'Termination Clause': 'Present'\n",
      "\n",
      "[INFO] Querying model to check presence of 'Indemnity Clause' in the contract.\n",
      "[DEBUG] Model response for 'Indemnity Clause': 'Present'\n",
      "\n",
      "[INFO] Querying model to check presence of 'Force Majeure Clause' in the contract.\n",
      "[DEBUG] Model response for 'Force Majeure Clause': 'Present'\n",
      "\n",
      "[INFO] Querying model to check presence of 'Governing Law Clause' in the contract.\n",
      "[DEBUG] Model response for 'Governing Law Clause': 'Present'\n",
      "\n",
      "[INFO] Querying model to check presence of 'Arbitration Clause' in the contract.\n",
      "[DEBUG] Model response for 'Arbitration Clause': 'Present'\n",
      "\n",
      "[INFO] Querying model to check presence of 'Confidentiality Agreement' in the contract.\n",
      "[DEBUG] Model response for 'Confidentiality Agreement': 'Present'\n",
      "\n",
      "[INFO] Querying model to check presence of 'Data Protection Clause' in the contract.\n"
     ]
    },
    {
     "name": "stderr",
     "output_type": "stream",
     "text": [
      "Processing contracts:  26%|██▌       | 13/50 [00:43<01:57,  3.19s/it]"
     ]
    },
    {
     "name": "stdout",
     "output_type": "stream",
     "text": [
      "[DEBUG] Model response for 'Data Protection Clause': 'Absent'\n",
      "\n",
      "[INFO] Actual Labels: {'Non-Disclosure Agreement (NDA)': 'Absent', 'Termination Clause': 'Absent', 'Indemnity Clause': 'Present', 'Force Majeure Clause': 'Present', 'Governing Law Clause': 'Present', 'Arbitration Clause': 'Present', 'Confidentiality Agreement': 'Present', 'Data Protection Clause': 'Absent'}\n",
      "[INFO] Predicted Labels: {'Non-Disclosure Agreement (NDA)': 'Present', 'Termination Clause': 'Present', 'Indemnity Clause': 'Present', 'Force Majeure Clause': 'Present', 'Governing Law Clause': 'Present', 'Arbitration Clause': 'Present', 'Confidentiality Agreement': 'Present', 'Data Protection Clause': 'Absent'}\n",
      "[RESULT] Clause-by-clause correctness: {'Non-Disclosure Agreement (NDA)': False, 'Termination Clause': False, 'Indemnity Clause': True, 'Force Majeure Clause': True, 'Governing Law Clause': True, 'Arbitration Clause': True, 'Confidentiality Agreement': True, 'Data Protection Clause': True}\n",
      "--------------------------------------------------\n",
      "\n",
      "[INFO] Querying model to check presence of 'Non-Disclosure Agreement (NDA)' in the contract.\n",
      "[DEBUG] Model response for 'Non-Disclosure Agreement (NDA)': 'Present'\n",
      "\n",
      "[INFO] Querying model to check presence of 'Termination Clause' in the contract.\n",
      "[DEBUG] Model response for 'Termination Clause': 'Present'\n",
      "\n",
      "[INFO] Querying model to check presence of 'Indemnity Clause' in the contract.\n",
      "[DEBUG] Model response for 'Indemnity Clause': 'Present'\n",
      "\n",
      "[INFO] Querying model to check presence of 'Force Majeure Clause' in the contract.\n",
      "[DEBUG] Model response for 'Force Majeure Clause': 'Present'\n",
      "\n",
      "[INFO] Querying model to check presence of 'Governing Law Clause' in the contract.\n",
      "[DEBUG] Model response for 'Governing Law Clause': 'Present'\n",
      "\n",
      "[INFO] Querying model to check presence of 'Arbitration Clause' in the contract.\n",
      "[DEBUG] Model response for 'Arbitration Clause': 'Present'\n",
      "\n",
      "[INFO] Querying model to check presence of 'Confidentiality Agreement' in the contract.\n",
      "[DEBUG] Model response for 'Confidentiality Agreement': 'Present'\n",
      "\n",
      "[INFO] Querying model to check presence of 'Data Protection Clause' in the contract.\n"
     ]
    },
    {
     "name": "stderr",
     "output_type": "stream",
     "text": [
      "Processing contracts:  28%|██▊       | 14/50 [00:46<01:54,  3.17s/it]"
     ]
    },
    {
     "name": "stdout",
     "output_type": "stream",
     "text": [
      "[DEBUG] Model response for 'Data Protection Clause': 'Present'\n",
      "\n",
      "[INFO] Actual Labels: {'Non-Disclosure Agreement (NDA)': 'Present', 'Termination Clause': 'Absent', 'Indemnity Clause': 'Absent', 'Force Majeure Clause': 'Absent', 'Governing Law Clause': 'Present', 'Arbitration Clause': 'Absent', 'Confidentiality Agreement': 'Present', 'Data Protection Clause': 'Present'}\n",
      "[INFO] Predicted Labels: {'Non-Disclosure Agreement (NDA)': 'Present', 'Termination Clause': 'Present', 'Indemnity Clause': 'Present', 'Force Majeure Clause': 'Present', 'Governing Law Clause': 'Present', 'Arbitration Clause': 'Present', 'Confidentiality Agreement': 'Present', 'Data Protection Clause': 'Present'}\n",
      "[RESULT] Clause-by-clause correctness: {'Non-Disclosure Agreement (NDA)': True, 'Termination Clause': False, 'Indemnity Clause': False, 'Force Majeure Clause': False, 'Governing Law Clause': True, 'Arbitration Clause': False, 'Confidentiality Agreement': True, 'Data Protection Clause': True}\n",
      "--------------------------------------------------\n",
      "\n",
      "[INFO] Querying model to check presence of 'Non-Disclosure Agreement (NDA)' in the contract.\n",
      "[DEBUG] Model response for 'Non-Disclosure Agreement (NDA)': '**Present**'\n",
      "\n",
      "[INFO] Querying model to check presence of 'Termination Clause' in the contract.\n",
      "[DEBUG] Model response for 'Termination Clause': 'Absent'\n",
      "\n",
      "[INFO] Querying model to check presence of 'Indemnity Clause' in the contract.\n",
      "[DEBUG] Model response for 'Indemnity Clause': 'Absent'\n",
      "\n",
      "[INFO] Querying model to check presence of 'Force Majeure Clause' in the contract.\n",
      "[DEBUG] Model response for 'Force Majeure Clause': 'Present'\n",
      "\n",
      "[INFO] Querying model to check presence of 'Governing Law Clause' in the contract.\n",
      "[DEBUG] Model response for 'Governing Law Clause': 'Present'\n",
      "\n",
      "[INFO] Querying model to check presence of 'Arbitration Clause' in the contract.\n",
      "[DEBUG] Model response for 'Arbitration Clause': 'Present'\n",
      "\n",
      "[INFO] Querying model to check presence of 'Confidentiality Agreement' in the contract.\n",
      "[DEBUG] Model response for 'Confidentiality Agreement': 'Present'\n",
      "\n",
      "[INFO] Querying model to check presence of 'Data Protection Clause' in the contract.\n"
     ]
    },
    {
     "name": "stderr",
     "output_type": "stream",
     "text": [
      "Processing contracts:  30%|███       | 15/50 [00:49<01:49,  3.11s/it]"
     ]
    },
    {
     "name": "stdout",
     "output_type": "stream",
     "text": [
      "[DEBUG] Model response for 'Data Protection Clause': 'Absent'\n",
      "\n",
      "[INFO] Actual Labels: {'Non-Disclosure Agreement (NDA)': 'Absent', 'Termination Clause': 'Absent', 'Indemnity Clause': 'Present', 'Force Majeure Clause': 'Present', 'Governing Law Clause': 'Absent', 'Arbitration Clause': 'Present', 'Confidentiality Agreement': 'Absent', 'Data Protection Clause': 'Absent'}\n",
      "[INFO] Predicted Labels: {'Non-Disclosure Agreement (NDA)': 'Present', 'Termination Clause': 'Absent', 'Indemnity Clause': 'Absent', 'Force Majeure Clause': 'Present', 'Governing Law Clause': 'Present', 'Arbitration Clause': 'Present', 'Confidentiality Agreement': 'Present', 'Data Protection Clause': 'Absent'}\n",
      "[RESULT] Clause-by-clause correctness: {'Non-Disclosure Agreement (NDA)': False, 'Termination Clause': True, 'Indemnity Clause': False, 'Force Majeure Clause': True, 'Governing Law Clause': False, 'Arbitration Clause': True, 'Confidentiality Agreement': False, 'Data Protection Clause': True}\n",
      "--------------------------------------------------\n",
      "\n",
      "[INFO] Querying model to check presence of 'Non-Disclosure Agreement (NDA)' in the contract.\n",
      "[DEBUG] Model response for 'Non-Disclosure Agreement (NDA)': 'Absent'\n",
      "\n",
      "[INFO] Querying model to check presence of 'Termination Clause' in the contract.\n",
      "[DEBUG] Model response for 'Termination Clause': 'Present'\n",
      "\n",
      "[INFO] Querying model to check presence of 'Indemnity Clause' in the contract.\n",
      "[DEBUG] Model response for 'Indemnity Clause': 'Present'\n",
      "\n",
      "[INFO] Querying model to check presence of 'Force Majeure Clause' in the contract.\n",
      "[DEBUG] Model response for 'Force Majeure Clause': 'Present'\n",
      "\n",
      "[INFO] Querying model to check presence of 'Governing Law Clause' in the contract.\n",
      "[DEBUG] Model response for 'Governing Law Clause': 'Present'\n",
      "\n",
      "[INFO] Querying model to check presence of 'Arbitration Clause' in the contract.\n",
      "[DEBUG] Model response for 'Arbitration Clause': 'Present'\n",
      "\n",
      "[INFO] Querying model to check presence of 'Confidentiality Agreement' in the contract.\n",
      "[DEBUG] Model response for 'Confidentiality Agreement': 'Present'\n",
      "\n",
      "[INFO] Querying model to check presence of 'Data Protection Clause' in the contract.\n"
     ]
    },
    {
     "name": "stderr",
     "output_type": "stream",
     "text": [
      "Processing contracts:  32%|███▏      | 16/50 [00:52<01:47,  3.17s/it]"
     ]
    },
    {
     "name": "stdout",
     "output_type": "stream",
     "text": [
      "[DEBUG] Model response for 'Data Protection Clause': 'Present'\n",
      "\n",
      "[INFO] Actual Labels: {'Non-Disclosure Agreement (NDA)': 'Present', 'Termination Clause': 'Absent', 'Indemnity Clause': 'Present', 'Force Majeure Clause': 'Absent', 'Governing Law Clause': 'Present', 'Arbitration Clause': 'Present', 'Confidentiality Agreement': 'Absent', 'Data Protection Clause': 'Present'}\n",
      "[INFO] Predicted Labels: {'Non-Disclosure Agreement (NDA)': 'Absent', 'Termination Clause': 'Present', 'Indemnity Clause': 'Present', 'Force Majeure Clause': 'Present', 'Governing Law Clause': 'Present', 'Arbitration Clause': 'Present', 'Confidentiality Agreement': 'Present', 'Data Protection Clause': 'Present'}\n",
      "[RESULT] Clause-by-clause correctness: {'Non-Disclosure Agreement (NDA)': False, 'Termination Clause': False, 'Indemnity Clause': True, 'Force Majeure Clause': False, 'Governing Law Clause': True, 'Arbitration Clause': True, 'Confidentiality Agreement': False, 'Data Protection Clause': True}\n",
      "--------------------------------------------------\n",
      "\n",
      "[INFO] Querying model to check presence of 'Non-Disclosure Agreement (NDA)' in the contract.\n",
      "[DEBUG] Model response for 'Non-Disclosure Agreement (NDA)': 'Absent'\n",
      "\n",
      "[INFO] Querying model to check presence of 'Termination Clause' in the contract.\n",
      "[DEBUG] Model response for 'Termination Clause': 'Present'\n",
      "\n",
      "[INFO] Querying model to check presence of 'Indemnity Clause' in the contract.\n",
      "[DEBUG] Model response for 'Indemnity Clause': 'Present'\n",
      "\n",
      "[INFO] Querying model to check presence of 'Force Majeure Clause' in the contract.\n",
      "[DEBUG] Model response for 'Force Majeure Clause': 'Present'\n",
      "\n",
      "[INFO] Querying model to check presence of 'Governing Law Clause' in the contract.\n",
      "[DEBUG] Model response for 'Governing Law Clause': 'Present'\n",
      "\n",
      "[INFO] Querying model to check presence of 'Arbitration Clause' in the contract.\n",
      "[DEBUG] Model response for 'Arbitration Clause': 'Absent'\n",
      "\n",
      "[INFO] Querying model to check presence of 'Confidentiality Agreement' in the contract.\n",
      "[DEBUG] Model response for 'Confidentiality Agreement': 'Present'\n",
      "\n",
      "[INFO] Querying model to check presence of 'Data Protection Clause' in the contract.\n"
     ]
    },
    {
     "name": "stderr",
     "output_type": "stream",
     "text": [
      "Processing contracts:  34%|███▍      | 17/50 [01:05<03:15,  5.93s/it]"
     ]
    },
    {
     "name": "stdout",
     "output_type": "stream",
     "text": [
      "[DEBUG] Model response for 'Data Protection Clause': 'Present'\n",
      "\n",
      "[INFO] Actual Labels: {'Non-Disclosure Agreement (NDA)': 'Absent', 'Termination Clause': 'Present', 'Indemnity Clause': 'Absent', 'Force Majeure Clause': 'Present', 'Governing Law Clause': 'Absent', 'Arbitration Clause': 'Present', 'Confidentiality Agreement': 'Absent', 'Data Protection Clause': 'Present'}\n",
      "[INFO] Predicted Labels: {'Non-Disclosure Agreement (NDA)': 'Absent', 'Termination Clause': 'Present', 'Indemnity Clause': 'Present', 'Force Majeure Clause': 'Present', 'Governing Law Clause': 'Present', 'Arbitration Clause': 'Absent', 'Confidentiality Agreement': 'Present', 'Data Protection Clause': 'Present'}\n",
      "[RESULT] Clause-by-clause correctness: {'Non-Disclosure Agreement (NDA)': True, 'Termination Clause': True, 'Indemnity Clause': False, 'Force Majeure Clause': True, 'Governing Law Clause': False, 'Arbitration Clause': False, 'Confidentiality Agreement': False, 'Data Protection Clause': True}\n",
      "--------------------------------------------------\n",
      "\n",
      "[INFO] Querying model to check presence of 'Non-Disclosure Agreement (NDA)' in the contract.\n",
      "[DEBUG] Model response for 'Non-Disclosure Agreement (NDA)': 'Present'\n",
      "\n",
      "[INFO] Querying model to check presence of 'Termination Clause' in the contract.\n",
      "[DEBUG] Model response for 'Termination Clause': 'Present'\n",
      "\n",
      "[INFO] Querying model to check presence of 'Indemnity Clause' in the contract.\n",
      "[DEBUG] Model response for 'Indemnity Clause': 'Absent'\n",
      "\n",
      "[INFO] Querying model to check presence of 'Force Majeure Clause' in the contract.\n",
      "[DEBUG] Model response for 'Force Majeure Clause': 'Present'\n",
      "\n",
      "[INFO] Querying model to check presence of 'Governing Law Clause' in the contract.\n",
      "[DEBUG] Model response for 'Governing Law Clause': 'Present'\n",
      "\n",
      "[INFO] Querying model to check presence of 'Arbitration Clause' in the contract.\n",
      "[DEBUG] Model response for 'Arbitration Clause': 'Absent'\n",
      "\n",
      "[INFO] Querying model to check presence of 'Confidentiality Agreement' in the contract.\n",
      "[DEBUG] Model response for 'Confidentiality Agreement': 'Present'\n",
      "\n",
      "[INFO] Querying model to check presence of 'Data Protection Clause' in the contract.\n"
     ]
    },
    {
     "name": "stderr",
     "output_type": "stream",
     "text": [
      "Processing contracts:  36%|███▌      | 18/50 [01:08<02:44,  5.13s/it]"
     ]
    },
    {
     "name": "stdout",
     "output_type": "stream",
     "text": [
      "[DEBUG] Model response for 'Data Protection Clause': 'Present'\n",
      "\n",
      "[INFO] Actual Labels: {'Non-Disclosure Agreement (NDA)': 'Present', 'Termination Clause': 'Present', 'Indemnity Clause': 'Absent', 'Force Majeure Clause': 'Present', 'Governing Law Clause': 'Present', 'Arbitration Clause': 'Present', 'Confidentiality Agreement': 'Present', 'Data Protection Clause': 'Present'}\n",
      "[INFO] Predicted Labels: {'Non-Disclosure Agreement (NDA)': 'Present', 'Termination Clause': 'Present', 'Indemnity Clause': 'Absent', 'Force Majeure Clause': 'Present', 'Governing Law Clause': 'Present', 'Arbitration Clause': 'Absent', 'Confidentiality Agreement': 'Present', 'Data Protection Clause': 'Present'}\n",
      "[RESULT] Clause-by-clause correctness: {'Non-Disclosure Agreement (NDA)': True, 'Termination Clause': True, 'Indemnity Clause': True, 'Force Majeure Clause': True, 'Governing Law Clause': True, 'Arbitration Clause': False, 'Confidentiality Agreement': True, 'Data Protection Clause': True}\n",
      "--------------------------------------------------\n",
      "\n",
      "[INFO] Querying model to check presence of 'Non-Disclosure Agreement (NDA)' in the contract.\n",
      "[DEBUG] Model response for 'Non-Disclosure Agreement (NDA)': 'Present'\n",
      "\n",
      "[INFO] Querying model to check presence of 'Termination Clause' in the contract.\n",
      "[DEBUG] Model response for 'Termination Clause': 'Present'\n",
      "\n",
      "[INFO] Querying model to check presence of 'Indemnity Clause' in the contract.\n",
      "[DEBUG] Model response for 'Indemnity Clause': 'Present'\n",
      "\n",
      "[INFO] Querying model to check presence of 'Force Majeure Clause' in the contract.\n",
      "[DEBUG] Model response for 'Force Majeure Clause': 'Absent'\n",
      "\n",
      "[INFO] Querying model to check presence of 'Governing Law Clause' in the contract.\n",
      "[DEBUG] Model response for 'Governing Law Clause': 'Present'\n",
      "\n",
      "[INFO] Querying model to check presence of 'Arbitration Clause' in the contract.\n",
      "[DEBUG] Model response for 'Arbitration Clause': 'Present'\n",
      "\n",
      "[INFO] Querying model to check presence of 'Confidentiality Agreement' in the contract.\n",
      "[DEBUG] Model response for 'Confidentiality Agreement': 'Present'\n",
      "\n",
      "[INFO] Querying model to check presence of 'Data Protection Clause' in the contract.\n"
     ]
    },
    {
     "name": "stderr",
     "output_type": "stream",
     "text": [
      "Processing contracts:  38%|███▊      | 19/50 [01:12<02:25,  4.70s/it]"
     ]
    },
    {
     "name": "stdout",
     "output_type": "stream",
     "text": [
      "[DEBUG] Model response for 'Data Protection Clause': 'Absent'\n",
      "\n",
      "[INFO] Actual Labels: {'Non-Disclosure Agreement (NDA)': 'Present', 'Termination Clause': 'Present', 'Indemnity Clause': 'Absent', 'Force Majeure Clause': 'Present', 'Governing Law Clause': 'Absent', 'Arbitration Clause': 'Absent', 'Confidentiality Agreement': 'Present', 'Data Protection Clause': 'Absent'}\n",
      "[INFO] Predicted Labels: {'Non-Disclosure Agreement (NDA)': 'Present', 'Termination Clause': 'Present', 'Indemnity Clause': 'Present', 'Force Majeure Clause': 'Absent', 'Governing Law Clause': 'Present', 'Arbitration Clause': 'Present', 'Confidentiality Agreement': 'Present', 'Data Protection Clause': 'Absent'}\n",
      "[RESULT] Clause-by-clause correctness: {'Non-Disclosure Agreement (NDA)': True, 'Termination Clause': True, 'Indemnity Clause': False, 'Force Majeure Clause': False, 'Governing Law Clause': False, 'Arbitration Clause': False, 'Confidentiality Agreement': True, 'Data Protection Clause': True}\n",
      "--------------------------------------------------\n",
      "\n",
      "[INFO] Querying model to check presence of 'Non-Disclosure Agreement (NDA)' in the contract.\n",
      "[DEBUG] Model response for 'Non-Disclosure Agreement (NDA)': 'Absent'\n",
      "\n",
      "[INFO] Querying model to check presence of 'Termination Clause' in the contract.\n",
      "[DEBUG] Model response for 'Termination Clause': '**Present**'\n",
      "\n",
      "[INFO] Querying model to check presence of 'Indemnity Clause' in the contract.\n",
      "[DEBUG] Model response for 'Indemnity Clause': 'Present'\n",
      "\n",
      "[INFO] Querying model to check presence of 'Force Majeure Clause' in the contract.\n",
      "[DEBUG] Model response for 'Force Majeure Clause': 'Present'\n",
      "\n",
      "[INFO] Querying model to check presence of 'Governing Law Clause' in the contract.\n",
      "[DEBUG] Model response for 'Governing Law Clause': 'Present'\n",
      "\n",
      "[INFO] Querying model to check presence of 'Arbitration Clause' in the contract.\n",
      "[DEBUG] Model response for 'Arbitration Clause': 'Present'\n",
      "\n",
      "[INFO] Querying model to check presence of 'Confidentiality Agreement' in the contract.\n",
      "[DEBUG] Model response for 'Confidentiality Agreement': 'Present'\n",
      "\n",
      "[INFO] Querying model to check presence of 'Data Protection Clause' in the contract.\n"
     ]
    },
    {
     "name": "stderr",
     "output_type": "stream",
     "text": [
      "Processing contracts:  40%|████      | 20/50 [01:16<02:14,  4.47s/it]"
     ]
    },
    {
     "name": "stdout",
     "output_type": "stream",
     "text": [
      "[DEBUG] Model response for 'Data Protection Clause': 'Present'\n",
      "\n",
      "[INFO] Actual Labels: {'Non-Disclosure Agreement (NDA)': 'Absent', 'Termination Clause': 'Present', 'Indemnity Clause': 'Present', 'Force Majeure Clause': 'Absent', 'Governing Law Clause': 'Absent', 'Arbitration Clause': 'Absent', 'Confidentiality Agreement': 'Absent', 'Data Protection Clause': 'Present'}\n",
      "[INFO] Predicted Labels: {'Non-Disclosure Agreement (NDA)': 'Absent', 'Termination Clause': 'Present', 'Indemnity Clause': 'Present', 'Force Majeure Clause': 'Present', 'Governing Law Clause': 'Present', 'Arbitration Clause': 'Present', 'Confidentiality Agreement': 'Present', 'Data Protection Clause': 'Present'}\n",
      "[RESULT] Clause-by-clause correctness: {'Non-Disclosure Agreement (NDA)': True, 'Termination Clause': True, 'Indemnity Clause': True, 'Force Majeure Clause': False, 'Governing Law Clause': False, 'Arbitration Clause': False, 'Confidentiality Agreement': False, 'Data Protection Clause': True}\n",
      "--------------------------------------------------\n",
      "\n",
      "[INFO] Querying model to check presence of 'Non-Disclosure Agreement (NDA)' in the contract.\n",
      "[DEBUG] Model response for 'Non-Disclosure Agreement (NDA)': 'Present'\n",
      "\n",
      "[INFO] Querying model to check presence of 'Termination Clause' in the contract.\n",
      "[DEBUG] Model response for 'Termination Clause': 'Present'\n",
      "\n",
      "[INFO] Querying model to check presence of 'Indemnity Clause' in the contract.\n",
      "[DEBUG] Model response for 'Indemnity Clause': 'Absent'\n",
      "\n",
      "[INFO] Querying model to check presence of 'Force Majeure Clause' in the contract.\n",
      "[DEBUG] Model response for 'Force Majeure Clause': 'Present'\n",
      "\n",
      "[INFO] Querying model to check presence of 'Governing Law Clause' in the contract.\n",
      "[DEBUG] Model response for 'Governing Law Clause': 'Present'\n",
      "\n",
      "[INFO] Querying model to check presence of 'Arbitration Clause' in the contract.\n",
      "[DEBUG] Model response for 'Arbitration Clause': 'Present'\n",
      "\n",
      "[INFO] Querying model to check presence of 'Confidentiality Agreement' in the contract.\n",
      "[DEBUG] Model response for 'Confidentiality Agreement': 'Present'\n",
      "\n",
      "[INFO] Querying model to check presence of 'Data Protection Clause' in the contract.\n"
     ]
    },
    {
     "name": "stderr",
     "output_type": "stream",
     "text": [
      "Processing contracts:  42%|████▏     | 21/50 [01:19<01:58,  4.10s/it]"
     ]
    },
    {
     "name": "stdout",
     "output_type": "stream",
     "text": [
      "[DEBUG] Model response for 'Data Protection Clause': 'Present'\n",
      "\n",
      "[INFO] Actual Labels: {'Non-Disclosure Agreement (NDA)': 'Absent', 'Termination Clause': 'Absent', 'Indemnity Clause': 'Present', 'Force Majeure Clause': 'Absent', 'Governing Law Clause': 'Absent', 'Arbitration Clause': 'Absent', 'Confidentiality Agreement': 'Absent', 'Data Protection Clause': 'Present'}\n",
      "[INFO] Predicted Labels: {'Non-Disclosure Agreement (NDA)': 'Present', 'Termination Clause': 'Present', 'Indemnity Clause': 'Absent', 'Force Majeure Clause': 'Present', 'Governing Law Clause': 'Present', 'Arbitration Clause': 'Present', 'Confidentiality Agreement': 'Present', 'Data Protection Clause': 'Present'}\n",
      "[RESULT] Clause-by-clause correctness: {'Non-Disclosure Agreement (NDA)': False, 'Termination Clause': False, 'Indemnity Clause': False, 'Force Majeure Clause': False, 'Governing Law Clause': False, 'Arbitration Clause': False, 'Confidentiality Agreement': False, 'Data Protection Clause': True}\n",
      "--------------------------------------------------\n",
      "\n",
      "[INFO] Querying model to check presence of 'Non-Disclosure Agreement (NDA)' in the contract.\n",
      "[DEBUG] Model response for 'Non-Disclosure Agreement (NDA)': 'Absent'\n",
      "\n",
      "[INFO] Querying model to check presence of 'Termination Clause' in the contract.\n",
      "[DEBUG] Model response for 'Termination Clause': 'Absent'\n",
      "\n",
      "[INFO] Querying model to check presence of 'Indemnity Clause' in the contract.\n",
      "[DEBUG] Model response for 'Indemnity Clause': 'Present'\n",
      "\n",
      "[INFO] Querying model to check presence of 'Force Majeure Clause' in the contract.\n",
      "[DEBUG] Model response for 'Force Majeure Clause': 'Present'\n",
      "\n",
      "[INFO] Querying model to check presence of 'Governing Law Clause' in the contract.\n",
      "[DEBUG] Model response for 'Governing Law Clause': 'Present'\n",
      "\n",
      "[INFO] Querying model to check presence of 'Arbitration Clause' in the contract.\n",
      "[DEBUG] Model response for 'Arbitration Clause': 'Absent'\n",
      "\n",
      "[INFO] Querying model to check presence of 'Confidentiality Agreement' in the contract.\n",
      "[DEBUG] Model response for 'Confidentiality Agreement': 'Present'\n",
      "\n",
      "[INFO] Querying model to check presence of 'Data Protection Clause' in the contract.\n"
     ]
    },
    {
     "name": "stderr",
     "output_type": "stream",
     "text": [
      "Processing contracts:  44%|████▍     | 22/50 [01:22<01:46,  3.82s/it]"
     ]
    },
    {
     "name": "stdout",
     "output_type": "stream",
     "text": [
      "[DEBUG] Model response for 'Data Protection Clause': 'Present'\n",
      "\n",
      "[INFO] Actual Labels: {'Non-Disclosure Agreement (NDA)': 'Absent', 'Termination Clause': 'Present', 'Indemnity Clause': 'Present', 'Force Majeure Clause': 'Absent', 'Governing Law Clause': 'Present', 'Arbitration Clause': 'Absent', 'Confidentiality Agreement': 'Present', 'Data Protection Clause': 'Present'}\n",
      "[INFO] Predicted Labels: {'Non-Disclosure Agreement (NDA)': 'Absent', 'Termination Clause': 'Absent', 'Indemnity Clause': 'Present', 'Force Majeure Clause': 'Present', 'Governing Law Clause': 'Present', 'Arbitration Clause': 'Absent', 'Confidentiality Agreement': 'Present', 'Data Protection Clause': 'Present'}\n",
      "[RESULT] Clause-by-clause correctness: {'Non-Disclosure Agreement (NDA)': True, 'Termination Clause': False, 'Indemnity Clause': True, 'Force Majeure Clause': False, 'Governing Law Clause': True, 'Arbitration Clause': True, 'Confidentiality Agreement': True, 'Data Protection Clause': True}\n",
      "--------------------------------------------------\n",
      "\n",
      "[INFO] Querying model to check presence of 'Non-Disclosure Agreement (NDA)' in the contract.\n",
      "[DEBUG] Model response for 'Non-Disclosure Agreement (NDA)': 'Absent'\n",
      "\n",
      "[INFO] Querying model to check presence of 'Termination Clause' in the contract.\n",
      "[DEBUG] Model response for 'Termination Clause': 'Present'\n",
      "\n",
      "[INFO] Querying model to check presence of 'Indemnity Clause' in the contract.\n",
      "[DEBUG] Model response for 'Indemnity Clause': 'Absent'\n",
      "\n",
      "[INFO] Querying model to check presence of 'Force Majeure Clause' in the contract.\n",
      "[DEBUG] Model response for 'Force Majeure Clause': 'Present'\n",
      "\n",
      "[INFO] Querying model to check presence of 'Governing Law Clause' in the contract.\n",
      "[DEBUG] Model response for 'Governing Law Clause': 'Present'\n",
      "\n",
      "[INFO] Querying model to check presence of 'Arbitration Clause' in the contract.\n",
      "[DEBUG] Model response for 'Arbitration Clause': 'Absent'\n",
      "\n",
      "[INFO] Querying model to check presence of 'Confidentiality Agreement' in the contract.\n",
      "[DEBUG] Model response for 'Confidentiality Agreement': 'Present'\n",
      "\n",
      "[INFO] Querying model to check presence of 'Data Protection Clause' in the contract.\n"
     ]
    },
    {
     "name": "stderr",
     "output_type": "stream",
     "text": [
      "Processing contracts:  46%|████▌     | 23/50 [01:25<01:38,  3.63s/it]"
     ]
    },
    {
     "name": "stdout",
     "output_type": "stream",
     "text": [
      "[DEBUG] Model response for 'Data Protection Clause': 'Present'\n",
      "\n",
      "[INFO] Actual Labels: {'Non-Disclosure Agreement (NDA)': 'Absent', 'Termination Clause': 'Present', 'Indemnity Clause': 'Absent', 'Force Majeure Clause': 'Present', 'Governing Law Clause': 'Present', 'Arbitration Clause': 'Present', 'Confidentiality Agreement': 'Present', 'Data Protection Clause': 'Present'}\n",
      "[INFO] Predicted Labels: {'Non-Disclosure Agreement (NDA)': 'Absent', 'Termination Clause': 'Present', 'Indemnity Clause': 'Absent', 'Force Majeure Clause': 'Present', 'Governing Law Clause': 'Present', 'Arbitration Clause': 'Absent', 'Confidentiality Agreement': 'Present', 'Data Protection Clause': 'Present'}\n",
      "[RESULT] Clause-by-clause correctness: {'Non-Disclosure Agreement (NDA)': True, 'Termination Clause': True, 'Indemnity Clause': True, 'Force Majeure Clause': True, 'Governing Law Clause': True, 'Arbitration Clause': False, 'Confidentiality Agreement': True, 'Data Protection Clause': True}\n",
      "--------------------------------------------------\n",
      "\n",
      "[INFO] Querying model to check presence of 'Non-Disclosure Agreement (NDA)' in the contract.\n",
      "[DEBUG] Model response for 'Non-Disclosure Agreement (NDA)': 'Absent'\n",
      "\n",
      "[INFO] Querying model to check presence of 'Termination Clause' in the contract.\n",
      "[DEBUG] Model response for 'Termination Clause': 'Present'\n",
      "\n",
      "[INFO] Querying model to check presence of 'Indemnity Clause' in the contract.\n",
      "[DEBUG] Model response for 'Indemnity Clause': 'Present'\n",
      "\n",
      "[INFO] Querying model to check presence of 'Force Majeure Clause' in the contract.\n",
      "[DEBUG] Model response for 'Force Majeure Clause': 'Present'\n",
      "\n",
      "[INFO] Querying model to check presence of 'Governing Law Clause' in the contract.\n",
      "[DEBUG] Model response for 'Governing Law Clause': 'Present'\n",
      "\n",
      "[INFO] Querying model to check presence of 'Arbitration Clause' in the contract.\n",
      "[DEBUG] Model response for 'Arbitration Clause': 'Absent'\n",
      "\n",
      "[INFO] Querying model to check presence of 'Confidentiality Agreement' in the contract.\n",
      "[DEBUG] Model response for 'Confidentiality Agreement': 'Present'\n",
      "\n",
      "[INFO] Querying model to check presence of 'Data Protection Clause' in the contract.\n"
     ]
    },
    {
     "name": "stderr",
     "output_type": "stream",
     "text": [
      "Processing contracts:  48%|████▊     | 24/50 [01:29<01:32,  3.55s/it]"
     ]
    },
    {
     "name": "stdout",
     "output_type": "stream",
     "text": [
      "[DEBUG] Model response for 'Data Protection Clause': 'Present'\n",
      "\n",
      "[INFO] Actual Labels: {'Non-Disclosure Agreement (NDA)': 'Absent', 'Termination Clause': 'Absent', 'Indemnity Clause': 'Absent', 'Force Majeure Clause': 'Present', 'Governing Law Clause': 'Present', 'Arbitration Clause': 'Present', 'Confidentiality Agreement': 'Present', 'Data Protection Clause': 'Present'}\n",
      "[INFO] Predicted Labels: {'Non-Disclosure Agreement (NDA)': 'Absent', 'Termination Clause': 'Present', 'Indemnity Clause': 'Present', 'Force Majeure Clause': 'Present', 'Governing Law Clause': 'Present', 'Arbitration Clause': 'Absent', 'Confidentiality Agreement': 'Present', 'Data Protection Clause': 'Present'}\n",
      "[RESULT] Clause-by-clause correctness: {'Non-Disclosure Agreement (NDA)': True, 'Termination Clause': False, 'Indemnity Clause': False, 'Force Majeure Clause': True, 'Governing Law Clause': True, 'Arbitration Clause': False, 'Confidentiality Agreement': True, 'Data Protection Clause': True}\n",
      "--------------------------------------------------\n",
      "\n",
      "[INFO] Querying model to check presence of 'Non-Disclosure Agreement (NDA)' in the contract.\n",
      "[DEBUG] Model response for 'Non-Disclosure Agreement (NDA)': 'Absent'\n",
      "\n",
      "[INFO] Querying model to check presence of 'Termination Clause' in the contract.\n",
      "[DEBUG] Model response for 'Termination Clause': 'Present'\n",
      "\n",
      "[INFO] Querying model to check presence of 'Indemnity Clause' in the contract.\n",
      "[DEBUG] Model response for 'Indemnity Clause': 'Present'\n",
      "\n",
      "[INFO] Querying model to check presence of 'Force Majeure Clause' in the contract.\n",
      "[DEBUG] Model response for 'Force Majeure Clause': 'Present'\n",
      "\n",
      "[INFO] Querying model to check presence of 'Governing Law Clause' in the contract.\n",
      "[DEBUG] Model response for 'Governing Law Clause': 'Present'\n",
      "\n",
      "[INFO] Querying model to check presence of 'Arbitration Clause' in the contract.\n",
      "[DEBUG] Model response for 'Arbitration Clause': 'Absent'\n",
      "\n",
      "[INFO] Querying model to check presence of 'Confidentiality Agreement' in the contract.\n",
      "[DEBUG] Model response for 'Confidentiality Agreement': 'Present'\n",
      "\n",
      "[INFO] Querying model to check presence of 'Data Protection Clause' in the contract.\n"
     ]
    },
    {
     "name": "stderr",
     "output_type": "stream",
     "text": [
      "Processing contracts:  50%|█████     | 25/50 [01:33<01:35,  3.81s/it]"
     ]
    },
    {
     "name": "stdout",
     "output_type": "stream",
     "text": [
      "[DEBUG] Model response for 'Data Protection Clause': 'Present'\n",
      "\n",
      "[INFO] Actual Labels: {'Non-Disclosure Agreement (NDA)': 'Absent', 'Termination Clause': 'Present', 'Indemnity Clause': 'Present', 'Force Majeure Clause': 'Absent', 'Governing Law Clause': 'Absent', 'Arbitration Clause': 'Present', 'Confidentiality Agreement': 'Present', 'Data Protection Clause': 'Present'}\n",
      "[INFO] Predicted Labels: {'Non-Disclosure Agreement (NDA)': 'Absent', 'Termination Clause': 'Present', 'Indemnity Clause': 'Present', 'Force Majeure Clause': 'Present', 'Governing Law Clause': 'Present', 'Arbitration Clause': 'Absent', 'Confidentiality Agreement': 'Present', 'Data Protection Clause': 'Present'}\n",
      "[RESULT] Clause-by-clause correctness: {'Non-Disclosure Agreement (NDA)': True, 'Termination Clause': True, 'Indemnity Clause': True, 'Force Majeure Clause': False, 'Governing Law Clause': False, 'Arbitration Clause': False, 'Confidentiality Agreement': True, 'Data Protection Clause': True}\n",
      "--------------------------------------------------\n",
      "\n",
      "[INFO] Querying model to check presence of 'Non-Disclosure Agreement (NDA)' in the contract.\n",
      "[DEBUG] Model response for 'Non-Disclosure Agreement (NDA)': 'Present'\n",
      "\n",
      "[INFO] Querying model to check presence of 'Termination Clause' in the contract.\n",
      "[DEBUG] Model response for 'Termination Clause': 'Present'\n",
      "\n",
      "[INFO] Querying model to check presence of 'Indemnity Clause' in the contract.\n",
      "[DEBUG] Model response for 'Indemnity Clause': 'Present'\n",
      "\n",
      "[INFO] Querying model to check presence of 'Force Majeure Clause' in the contract.\n",
      "[DEBUG] Model response for 'Force Majeure Clause': 'Present'\n",
      "\n",
      "[INFO] Querying model to check presence of 'Governing Law Clause' in the contract.\n",
      "[DEBUG] Model response for 'Governing Law Clause': 'Present'\n",
      "\n",
      "[INFO] Querying model to check presence of 'Arbitration Clause' in the contract.\n",
      "[DEBUG] Model response for 'Arbitration Clause': 'Absent'\n",
      "\n",
      "[INFO] Querying model to check presence of 'Confidentiality Agreement' in the contract.\n",
      "[DEBUG] Model response for 'Confidentiality Agreement': 'Present'\n",
      "\n",
      "[INFO] Querying model to check presence of 'Data Protection Clause' in the contract.\n"
     ]
    },
    {
     "name": "stderr",
     "output_type": "stream",
     "text": [
      "Processing contracts:  52%|█████▏    | 26/50 [01:36<01:25,  3.58s/it]"
     ]
    },
    {
     "name": "stdout",
     "output_type": "stream",
     "text": [
      "[DEBUG] Model response for 'Data Protection Clause': 'Absent'\n",
      "\n",
      "[INFO] Actual Labels: {'Non-Disclosure Agreement (NDA)': 'Present', 'Termination Clause': 'Absent', 'Indemnity Clause': 'Absent', 'Force Majeure Clause': 'Present', 'Governing Law Clause': 'Absent', 'Arbitration Clause': 'Absent', 'Confidentiality Agreement': 'Present', 'Data Protection Clause': 'Absent'}\n",
      "[INFO] Predicted Labels: {'Non-Disclosure Agreement (NDA)': 'Present', 'Termination Clause': 'Present', 'Indemnity Clause': 'Present', 'Force Majeure Clause': 'Present', 'Governing Law Clause': 'Present', 'Arbitration Clause': 'Absent', 'Confidentiality Agreement': 'Present', 'Data Protection Clause': 'Absent'}\n",
      "[RESULT] Clause-by-clause correctness: {'Non-Disclosure Agreement (NDA)': True, 'Termination Clause': False, 'Indemnity Clause': False, 'Force Majeure Clause': True, 'Governing Law Clause': False, 'Arbitration Clause': True, 'Confidentiality Agreement': True, 'Data Protection Clause': True}\n",
      "--------------------------------------------------\n",
      "\n",
      "[INFO] Querying model to check presence of 'Non-Disclosure Agreement (NDA)' in the contract.\n",
      "[DEBUG] Model response for 'Non-Disclosure Agreement (NDA)': 'Present'\n",
      "\n",
      "[INFO] Querying model to check presence of 'Termination Clause' in the contract.\n",
      "[DEBUG] Model response for 'Termination Clause': 'Present'\n",
      "\n",
      "[INFO] Querying model to check presence of 'Indemnity Clause' in the contract.\n",
      "[DEBUG] Model response for 'Indemnity Clause': 'Present'\n",
      "\n",
      "[INFO] Querying model to check presence of 'Force Majeure Clause' in the contract.\n",
      "[DEBUG] Model response for 'Force Majeure Clause': 'Present'\n",
      "\n",
      "[INFO] Querying model to check presence of 'Governing Law Clause' in the contract.\n",
      "[DEBUG] Model response for 'Governing Law Clause': 'Present'\n",
      "\n",
      "[INFO] Querying model to check presence of 'Arbitration Clause' in the contract.\n",
      "[DEBUG] Model response for 'Arbitration Clause': 'Absent'\n",
      "\n",
      "[INFO] Querying model to check presence of 'Confidentiality Agreement' in the contract.\n",
      "[DEBUG] Model response for 'Confidentiality Agreement': 'Present'\n",
      "\n",
      "[INFO] Querying model to check presence of 'Data Protection Clause' in the contract.\n"
     ]
    },
    {
     "name": "stderr",
     "output_type": "stream",
     "text": [
      "Processing contracts:  54%|█████▍    | 27/50 [01:39<01:19,  3.44s/it]"
     ]
    },
    {
     "name": "stdout",
     "output_type": "stream",
     "text": [
      "[DEBUG] Model response for 'Data Protection Clause': 'Present'\n",
      "\n",
      "[INFO] Actual Labels: {'Non-Disclosure Agreement (NDA)': 'Absent', 'Termination Clause': 'Present', 'Indemnity Clause': 'Absent', 'Force Majeure Clause': 'Present', 'Governing Law Clause': 'Present', 'Arbitration Clause': 'Absent', 'Confidentiality Agreement': 'Absent', 'Data Protection Clause': 'Present'}\n",
      "[INFO] Predicted Labels: {'Non-Disclosure Agreement (NDA)': 'Present', 'Termination Clause': 'Present', 'Indemnity Clause': 'Present', 'Force Majeure Clause': 'Present', 'Governing Law Clause': 'Present', 'Arbitration Clause': 'Absent', 'Confidentiality Agreement': 'Present', 'Data Protection Clause': 'Present'}\n",
      "[RESULT] Clause-by-clause correctness: {'Non-Disclosure Agreement (NDA)': False, 'Termination Clause': True, 'Indemnity Clause': False, 'Force Majeure Clause': True, 'Governing Law Clause': True, 'Arbitration Clause': True, 'Confidentiality Agreement': False, 'Data Protection Clause': True}\n",
      "--------------------------------------------------\n",
      "\n",
      "[INFO] Querying model to check presence of 'Non-Disclosure Agreement (NDA)' in the contract.\n",
      "[DEBUG] Model response for 'Non-Disclosure Agreement (NDA)': 'Present'\n",
      "\n",
      "[INFO] Querying model to check presence of 'Termination Clause' in the contract.\n",
      "[DEBUG] Model response for 'Termination Clause': 'Present'\n",
      "\n",
      "[INFO] Querying model to check presence of 'Indemnity Clause' in the contract.\n",
      "[DEBUG] Model response for 'Indemnity Clause': 'Present'\n",
      "\n",
      "[INFO] Querying model to check presence of 'Force Majeure Clause' in the contract.\n",
      "[DEBUG] Model response for 'Force Majeure Clause': 'Present'\n",
      "\n",
      "[INFO] Querying model to check presence of 'Governing Law Clause' in the contract.\n",
      "[DEBUG] Model response for 'Governing Law Clause': '**Present**'\n",
      "\n",
      "[INFO] Querying model to check presence of 'Arbitration Clause' in the contract.\n",
      "[DEBUG] Model response for 'Arbitration Clause': 'Absent'\n",
      "\n",
      "[INFO] Querying model to check presence of 'Confidentiality Agreement' in the contract.\n",
      "[DEBUG] Model response for 'Confidentiality Agreement': 'Present'\n",
      "\n",
      "[INFO] Querying model to check presence of 'Data Protection Clause' in the contract.\n"
     ]
    },
    {
     "name": "stderr",
     "output_type": "stream",
     "text": [
      "Processing contracts:  56%|█████▌    | 28/50 [01:46<01:40,  4.58s/it]"
     ]
    },
    {
     "name": "stdout",
     "output_type": "stream",
     "text": [
      "[DEBUG] Model response for 'Data Protection Clause': 'Absent'\n",
      "\n",
      "[INFO] Actual Labels: {'Non-Disclosure Agreement (NDA)': 'Present', 'Termination Clause': 'Present', 'Indemnity Clause': 'Present', 'Force Majeure Clause': 'Present', 'Governing Law Clause': 'Present', 'Arbitration Clause': 'Absent', 'Confidentiality Agreement': 'Absent', 'Data Protection Clause': 'Absent'}\n",
      "[INFO] Predicted Labels: {'Non-Disclosure Agreement (NDA)': 'Present', 'Termination Clause': 'Present', 'Indemnity Clause': 'Present', 'Force Majeure Clause': 'Present', 'Governing Law Clause': 'Present', 'Arbitration Clause': 'Absent', 'Confidentiality Agreement': 'Present', 'Data Protection Clause': 'Absent'}\n",
      "[RESULT] Clause-by-clause correctness: {'Non-Disclosure Agreement (NDA)': True, 'Termination Clause': True, 'Indemnity Clause': True, 'Force Majeure Clause': True, 'Governing Law Clause': True, 'Arbitration Clause': True, 'Confidentiality Agreement': False, 'Data Protection Clause': True}\n",
      "--------------------------------------------------\n",
      "\n",
      "[INFO] Querying model to check presence of 'Non-Disclosure Agreement (NDA)' in the contract.\n",
      "[DEBUG] Model response for 'Non-Disclosure Agreement (NDA)': 'Absent'\n",
      "\n",
      "[INFO] Querying model to check presence of 'Termination Clause' in the contract.\n",
      "[DEBUG] Model response for 'Termination Clause': 'Present'\n",
      "\n",
      "[INFO] Querying model to check presence of 'Indemnity Clause' in the contract.\n",
      "[DEBUG] Model response for 'Indemnity Clause': 'Present'\n",
      "\n",
      "[INFO] Querying model to check presence of 'Force Majeure Clause' in the contract.\n",
      "[DEBUG] Model response for 'Force Majeure Clause': 'Present'\n",
      "\n",
      "[INFO] Querying model to check presence of 'Governing Law Clause' in the contract.\n",
      "[DEBUG] Model response for 'Governing Law Clause': 'Present'\n",
      "\n",
      "[INFO] Querying model to check presence of 'Arbitration Clause' in the contract.\n",
      "[DEBUG] Model response for 'Arbitration Clause': '**Present**'\n",
      "\n",
      "[INFO] Querying model to check presence of 'Confidentiality Agreement' in the contract.\n",
      "[DEBUG] Model response for 'Confidentiality Agreement': 'Present'\n",
      "\n",
      "[INFO] Querying model to check presence of 'Data Protection Clause' in the contract.\n"
     ]
    },
    {
     "name": "stderr",
     "output_type": "stream",
     "text": [
      "Processing contracts:  58%|█████▊    | 29/50 [01:54<01:54,  5.47s/it]"
     ]
    },
    {
     "name": "stdout",
     "output_type": "stream",
     "text": [
      "[DEBUG] Model response for 'Data Protection Clause': 'Present'\n",
      "\n",
      "[INFO] Actual Labels: {'Non-Disclosure Agreement (NDA)': 'Present', 'Termination Clause': 'Absent', 'Indemnity Clause': 'Absent', 'Force Majeure Clause': 'Absent', 'Governing Law Clause': 'Present', 'Arbitration Clause': 'Absent', 'Confidentiality Agreement': 'Absent', 'Data Protection Clause': 'Present'}\n",
      "[INFO] Predicted Labels: {'Non-Disclosure Agreement (NDA)': 'Absent', 'Termination Clause': 'Present', 'Indemnity Clause': 'Present', 'Force Majeure Clause': 'Present', 'Governing Law Clause': 'Present', 'Arbitration Clause': 'Present', 'Confidentiality Agreement': 'Present', 'Data Protection Clause': 'Present'}\n",
      "[RESULT] Clause-by-clause correctness: {'Non-Disclosure Agreement (NDA)': False, 'Termination Clause': False, 'Indemnity Clause': False, 'Force Majeure Clause': False, 'Governing Law Clause': True, 'Arbitration Clause': False, 'Confidentiality Agreement': False, 'Data Protection Clause': True}\n",
      "--------------------------------------------------\n",
      "\n",
      "[INFO] Querying model to check presence of 'Non-Disclosure Agreement (NDA)' in the contract.\n",
      "[DEBUG] Model response for 'Non-Disclosure Agreement (NDA)': 'Present'\n",
      "\n",
      "[INFO] Querying model to check presence of 'Termination Clause' in the contract.\n",
      "[DEBUG] Model response for 'Termination Clause': 'Present'\n",
      "\n",
      "[INFO] Querying model to check presence of 'Indemnity Clause' in the contract.\n",
      "[DEBUG] Model response for 'Indemnity Clause': 'Present'\n",
      "\n",
      "[INFO] Querying model to check presence of 'Force Majeure Clause' in the contract.\n",
      "[DEBUG] Model response for 'Force Majeure Clause': 'Present'\n",
      "\n",
      "[INFO] Querying model to check presence of 'Governing Law Clause' in the contract.\n",
      "[DEBUG] Model response for 'Governing Law Clause': 'Present'\n",
      "\n",
      "[INFO] Querying model to check presence of 'Arbitration Clause' in the contract.\n",
      "[DEBUG] Model response for 'Arbitration Clause': 'Present'\n",
      "\n",
      "[INFO] Querying model to check presence of 'Confidentiality Agreement' in the contract.\n",
      "[DEBUG] Model response for 'Confidentiality Agreement': 'Present'\n",
      "\n",
      "[INFO] Querying model to check presence of 'Data Protection Clause' in the contract.\n"
     ]
    },
    {
     "name": "stderr",
     "output_type": "stream",
     "text": [
      "Processing contracts:  60%|██████    | 30/50 [01:59<01:43,  5.19s/it]"
     ]
    },
    {
     "name": "stdout",
     "output_type": "stream",
     "text": [
      "[DEBUG] Model response for 'Data Protection Clause': 'Present'\n",
      "\n",
      "[INFO] Actual Labels: {'Non-Disclosure Agreement (NDA)': 'Absent', 'Termination Clause': 'Present', 'Indemnity Clause': 'Absent', 'Force Majeure Clause': 'Absent', 'Governing Law Clause': 'Present', 'Arbitration Clause': 'Present', 'Confidentiality Agreement': 'Present', 'Data Protection Clause': 'Present'}\n",
      "[INFO] Predicted Labels: {'Non-Disclosure Agreement (NDA)': 'Present', 'Termination Clause': 'Present', 'Indemnity Clause': 'Present', 'Force Majeure Clause': 'Present', 'Governing Law Clause': 'Present', 'Arbitration Clause': 'Present', 'Confidentiality Agreement': 'Present', 'Data Protection Clause': 'Present'}\n",
      "[RESULT] Clause-by-clause correctness: {'Non-Disclosure Agreement (NDA)': False, 'Termination Clause': True, 'Indemnity Clause': False, 'Force Majeure Clause': False, 'Governing Law Clause': True, 'Arbitration Clause': True, 'Confidentiality Agreement': True, 'Data Protection Clause': True}\n",
      "--------------------------------------------------\n",
      "\n",
      "[INFO] Querying model to check presence of 'Non-Disclosure Agreement (NDA)' in the contract.\n",
      "[DEBUG] Model response for 'Non-Disclosure Agreement (NDA)': 'Absent'\n",
      "\n",
      "[INFO] Querying model to check presence of 'Termination Clause' in the contract.\n",
      "[DEBUG] Model response for 'Termination Clause': 'Present'\n",
      "\n",
      "[INFO] Querying model to check presence of 'Indemnity Clause' in the contract.\n",
      "[DEBUG] Model response for 'Indemnity Clause': 'Present'\n",
      "\n",
      "[INFO] Querying model to check presence of 'Force Majeure Clause' in the contract.\n",
      "[DEBUG] Model response for 'Force Majeure Clause': 'Present'\n",
      "\n",
      "[INFO] Querying model to check presence of 'Governing Law Clause' in the contract.\n",
      "[DEBUG] Model response for 'Governing Law Clause': 'Present'\n",
      "\n",
      "[INFO] Querying model to check presence of 'Arbitration Clause' in the contract.\n",
      "[DEBUG] Model response for 'Arbitration Clause': 'Absent'\n",
      "\n",
      "[INFO] Querying model to check presence of 'Confidentiality Agreement' in the contract.\n",
      "[DEBUG] Model response for 'Confidentiality Agreement': 'Present'\n",
      "\n",
      "[INFO] Querying model to check presence of 'Data Protection Clause' in the contract.\n"
     ]
    },
    {
     "name": "stderr",
     "output_type": "stream",
     "text": [
      "Processing contracts:  62%|██████▏   | 31/50 [02:03<01:34,  4.96s/it]"
     ]
    },
    {
     "name": "stdout",
     "output_type": "stream",
     "text": [
      "[DEBUG] Model response for 'Data Protection Clause': 'Absent'\n",
      "\n",
      "[INFO] Actual Labels: {'Non-Disclosure Agreement (NDA)': 'Present', 'Termination Clause': 'Absent', 'Indemnity Clause': 'Present', 'Force Majeure Clause': 'Present', 'Governing Law Clause': 'Present', 'Arbitration Clause': 'Absent', 'Confidentiality Agreement': 'Absent', 'Data Protection Clause': 'Absent'}\n",
      "[INFO] Predicted Labels: {'Non-Disclosure Agreement (NDA)': 'Absent', 'Termination Clause': 'Present', 'Indemnity Clause': 'Present', 'Force Majeure Clause': 'Present', 'Governing Law Clause': 'Present', 'Arbitration Clause': 'Absent', 'Confidentiality Agreement': 'Present', 'Data Protection Clause': 'Absent'}\n",
      "[RESULT] Clause-by-clause correctness: {'Non-Disclosure Agreement (NDA)': False, 'Termination Clause': False, 'Indemnity Clause': True, 'Force Majeure Clause': True, 'Governing Law Clause': True, 'Arbitration Clause': True, 'Confidentiality Agreement': False, 'Data Protection Clause': True}\n",
      "--------------------------------------------------\n",
      "\n",
      "[INFO] Querying model to check presence of 'Non-Disclosure Agreement (NDA)' in the contract.\n",
      "[DEBUG] Model response for 'Non-Disclosure Agreement (NDA)': 'Present'\n",
      "\n",
      "[INFO] Querying model to check presence of 'Termination Clause' in the contract.\n",
      "[DEBUG] Model response for 'Termination Clause': 'Present'\n",
      "\n",
      "[INFO] Querying model to check presence of 'Indemnity Clause' in the contract.\n",
      "[DEBUG] Model response for 'Indemnity Clause': 'Present'\n",
      "\n",
      "[INFO] Querying model to check presence of 'Force Majeure Clause' in the contract.\n",
      "[DEBUG] Model response for 'Force Majeure Clause': 'Present'\n",
      "\n",
      "[INFO] Querying model to check presence of 'Governing Law Clause' in the contract.\n",
      "[DEBUG] Model response for 'Governing Law Clause': 'Present'\n",
      "\n",
      "[INFO] Querying model to check presence of 'Arbitration Clause' in the contract.\n",
      "[DEBUG] Model response for 'Arbitration Clause': '**Present**'\n",
      "\n",
      "[INFO] Querying model to check presence of 'Confidentiality Agreement' in the contract.\n",
      "[DEBUG] Model response for 'Confidentiality Agreement': 'Present'\n",
      "\n",
      "[INFO] Querying model to check presence of 'Data Protection Clause' in the contract.\n"
     ]
    },
    {
     "name": "stderr",
     "output_type": "stream",
     "text": [
      "Processing contracts:  64%|██████▍   | 32/50 [02:08<01:28,  4.92s/it]"
     ]
    },
    {
     "name": "stdout",
     "output_type": "stream",
     "text": [
      "[DEBUG] Model response for 'Data Protection Clause': '**Absent**'\n",
      "\n",
      "[INFO] Actual Labels: {'Non-Disclosure Agreement (NDA)': 'Absent', 'Termination Clause': 'Absent', 'Indemnity Clause': 'Present', 'Force Majeure Clause': 'Present', 'Governing Law Clause': 'Present', 'Arbitration Clause': 'Present', 'Confidentiality Agreement': 'Present', 'Data Protection Clause': 'Absent'}\n",
      "[INFO] Predicted Labels: {'Non-Disclosure Agreement (NDA)': 'Present', 'Termination Clause': 'Present', 'Indemnity Clause': 'Present', 'Force Majeure Clause': 'Present', 'Governing Law Clause': 'Present', 'Arbitration Clause': 'Present', 'Confidentiality Agreement': 'Present', 'Data Protection Clause': 'Absent'}\n",
      "[RESULT] Clause-by-clause correctness: {'Non-Disclosure Agreement (NDA)': False, 'Termination Clause': False, 'Indemnity Clause': True, 'Force Majeure Clause': True, 'Governing Law Clause': True, 'Arbitration Clause': True, 'Confidentiality Agreement': True, 'Data Protection Clause': True}\n",
      "--------------------------------------------------\n",
      "\n",
      "[INFO] Querying model to check presence of 'Non-Disclosure Agreement (NDA)' in the contract.\n",
      "[DEBUG] Model response for 'Non-Disclosure Agreement (NDA)': 'Present'\n",
      "\n",
      "[INFO] Querying model to check presence of 'Termination Clause' in the contract.\n",
      "[DEBUG] Model response for 'Termination Clause': '**Present**'\n",
      "\n",
      "[INFO] Querying model to check presence of 'Indemnity Clause' in the contract.\n",
      "[DEBUG] Model response for 'Indemnity Clause': '**Present**'\n",
      "\n",
      "[INFO] Querying model to check presence of 'Force Majeure Clause' in the contract.\n",
      "[DEBUG] Model response for 'Force Majeure Clause': 'Present'\n",
      "\n",
      "[INFO] Querying model to check presence of 'Governing Law Clause' in the contract.\n",
      "[DEBUG] Model response for 'Governing Law Clause': 'Present'\n",
      "\n",
      "[INFO] Querying model to check presence of 'Arbitration Clause' in the contract.\n",
      "[DEBUG] Model response for 'Arbitration Clause': 'Absent'\n",
      "\n",
      "[INFO] Querying model to check presence of 'Confidentiality Agreement' in the contract.\n",
      "[DEBUG] Model response for 'Confidentiality Agreement': 'Present'\n",
      "\n",
      "[INFO] Querying model to check presence of 'Data Protection Clause' in the contract.\n"
     ]
    },
    {
     "name": "stderr",
     "output_type": "stream",
     "text": [
      "Processing contracts:  66%|██████▌   | 33/50 [02:12<01:22,  4.85s/it]"
     ]
    },
    {
     "name": "stdout",
     "output_type": "stream",
     "text": [
      "[DEBUG] Model response for 'Data Protection Clause': 'Absent'\n",
      "\n",
      "[INFO] Actual Labels: {'Non-Disclosure Agreement (NDA)': 'Absent', 'Termination Clause': 'Absent', 'Indemnity Clause': 'Present', 'Force Majeure Clause': 'Absent', 'Governing Law Clause': 'Absent', 'Arbitration Clause': 'Absent', 'Confidentiality Agreement': 'Present', 'Data Protection Clause': 'Absent'}\n",
      "[INFO] Predicted Labels: {'Non-Disclosure Agreement (NDA)': 'Present', 'Termination Clause': 'Present', 'Indemnity Clause': 'Present', 'Force Majeure Clause': 'Present', 'Governing Law Clause': 'Present', 'Arbitration Clause': 'Absent', 'Confidentiality Agreement': 'Present', 'Data Protection Clause': 'Absent'}\n",
      "[RESULT] Clause-by-clause correctness: {'Non-Disclosure Agreement (NDA)': False, 'Termination Clause': False, 'Indemnity Clause': True, 'Force Majeure Clause': False, 'Governing Law Clause': False, 'Arbitration Clause': True, 'Confidentiality Agreement': True, 'Data Protection Clause': True}\n",
      "--------------------------------------------------\n",
      "\n",
      "[INFO] Querying model to check presence of 'Non-Disclosure Agreement (NDA)' in the contract.\n",
      "[DEBUG] Model response for 'Non-Disclosure Agreement (NDA)': 'Present'\n",
      "\n",
      "[INFO] Querying model to check presence of 'Termination Clause' in the contract.\n",
      "[DEBUG] Model response for 'Termination Clause': 'Present'\n",
      "\n",
      "[INFO] Querying model to check presence of 'Indemnity Clause' in the contract.\n",
      "[DEBUG] Model response for 'Indemnity Clause': '**Absent**'\n",
      "\n",
      "[INFO] Querying model to check presence of 'Force Majeure Clause' in the contract.\n",
      "[DEBUG] Model response for 'Force Majeure Clause': '**Present**'\n",
      "\n",
      "[INFO] Querying model to check presence of 'Governing Law Clause' in the contract.\n",
      "[DEBUG] Model response for 'Governing Law Clause': 'Present'\n",
      "\n",
      "[INFO] Querying model to check presence of 'Arbitration Clause' in the contract.\n",
      "[DEBUG] Model response for 'Arbitration Clause': 'Absent'\n",
      "\n",
      "[INFO] Querying model to check presence of 'Confidentiality Agreement' in the contract.\n",
      "[DEBUG] Model response for 'Confidentiality Agreement': 'Present'\n",
      "\n",
      "[INFO] Querying model to check presence of 'Data Protection Clause' in the contract.\n"
     ]
    },
    {
     "name": "stderr",
     "output_type": "stream",
     "text": [
      "Processing contracts:  68%|██████▊   | 34/50 [02:17<01:16,  4.79s/it]"
     ]
    },
    {
     "name": "stdout",
     "output_type": "stream",
     "text": [
      "[DEBUG] Model response for 'Data Protection Clause': 'Absent'\n",
      "\n",
      "[INFO] Actual Labels: {'Non-Disclosure Agreement (NDA)': 'Present', 'Termination Clause': 'Absent', 'Indemnity Clause': 'Present', 'Force Majeure Clause': 'Absent', 'Governing Law Clause': 'Present', 'Arbitration Clause': 'Present', 'Confidentiality Agreement': 'Present', 'Data Protection Clause': 'Absent'}\n",
      "[INFO] Predicted Labels: {'Non-Disclosure Agreement (NDA)': 'Present', 'Termination Clause': 'Present', 'Indemnity Clause': 'Absent', 'Force Majeure Clause': 'Present', 'Governing Law Clause': 'Present', 'Arbitration Clause': 'Absent', 'Confidentiality Agreement': 'Present', 'Data Protection Clause': 'Absent'}\n",
      "[RESULT] Clause-by-clause correctness: {'Non-Disclosure Agreement (NDA)': True, 'Termination Clause': False, 'Indemnity Clause': False, 'Force Majeure Clause': False, 'Governing Law Clause': True, 'Arbitration Clause': False, 'Confidentiality Agreement': True, 'Data Protection Clause': True}\n",
      "--------------------------------------------------\n",
      "\n",
      "[INFO] Querying model to check presence of 'Non-Disclosure Agreement (NDA)' in the contract.\n",
      "[DEBUG] Model response for 'Non-Disclosure Agreement (NDA)': 'Present'\n",
      "\n",
      "[INFO] Querying model to check presence of 'Termination Clause' in the contract.\n",
      "[DEBUG] Model response for 'Termination Clause': 'Present'\n",
      "\n",
      "[INFO] Querying model to check presence of 'Indemnity Clause' in the contract.\n",
      "[DEBUG] Model response for 'Indemnity Clause': 'Present'\n",
      "\n",
      "[INFO] Querying model to check presence of 'Force Majeure Clause' in the contract.\n",
      "[DEBUG] Model response for 'Force Majeure Clause': 'Present'\n",
      "\n",
      "[INFO] Querying model to check presence of 'Governing Law Clause' in the contract.\n",
      "[DEBUG] Model response for 'Governing Law Clause': '**Present**'\n",
      "\n",
      "[INFO] Querying model to check presence of 'Arbitration Clause' in the contract.\n",
      "[DEBUG] Model response for 'Arbitration Clause': '**Present**'\n",
      "\n",
      "[INFO] Querying model to check presence of 'Confidentiality Agreement' in the contract.\n",
      "[DEBUG] Model response for 'Confidentiality Agreement': 'Present'\n",
      "\n",
      "[INFO] Querying model to check presence of 'Data Protection Clause' in the contract.\n"
     ]
    },
    {
     "name": "stderr",
     "output_type": "stream",
     "text": [
      "Processing contracts:  70%|███████   | 35/50 [02:22<01:11,  4.78s/it]"
     ]
    },
    {
     "name": "stdout",
     "output_type": "stream",
     "text": [
      "[DEBUG] Model response for 'Data Protection Clause': 'Present'\n",
      "\n",
      "[INFO] Actual Labels: {'Non-Disclosure Agreement (NDA)': 'Present', 'Termination Clause': 'Present', 'Indemnity Clause': 'Absent', 'Force Majeure Clause': 'Absent', 'Governing Law Clause': 'Absent', 'Arbitration Clause': 'Absent', 'Confidentiality Agreement': 'Absent', 'Data Protection Clause': 'Present'}\n",
      "[INFO] Predicted Labels: {'Non-Disclosure Agreement (NDA)': 'Present', 'Termination Clause': 'Present', 'Indemnity Clause': 'Present', 'Force Majeure Clause': 'Present', 'Governing Law Clause': 'Present', 'Arbitration Clause': 'Present', 'Confidentiality Agreement': 'Present', 'Data Protection Clause': 'Present'}\n",
      "[RESULT] Clause-by-clause correctness: {'Non-Disclosure Agreement (NDA)': True, 'Termination Clause': True, 'Indemnity Clause': False, 'Force Majeure Clause': False, 'Governing Law Clause': False, 'Arbitration Clause': False, 'Confidentiality Agreement': False, 'Data Protection Clause': True}\n",
      "--------------------------------------------------\n",
      "\n",
      "[INFO] Querying model to check presence of 'Non-Disclosure Agreement (NDA)' in the contract.\n",
      "[DEBUG] Model response for 'Non-Disclosure Agreement (NDA)': 'Absent'\n",
      "\n",
      "[INFO] Querying model to check presence of 'Termination Clause' in the contract.\n",
      "[DEBUG] Model response for 'Termination Clause': 'Present'\n",
      "\n",
      "[INFO] Querying model to check presence of 'Indemnity Clause' in the contract.\n",
      "[DEBUG] Model response for 'Indemnity Clause': 'Present'\n",
      "\n",
      "[INFO] Querying model to check presence of 'Force Majeure Clause' in the contract.\n",
      "[DEBUG] Model response for 'Force Majeure Clause': 'Present'\n",
      "\n",
      "[INFO] Querying model to check presence of 'Governing Law Clause' in the contract.\n",
      "[DEBUG] Model response for 'Governing Law Clause': 'Present'\n",
      "\n",
      "[INFO] Querying model to check presence of 'Arbitration Clause' in the contract.\n",
      "[DEBUG] Model response for 'Arbitration Clause': 'Present'\n",
      "\n",
      "[INFO] Querying model to check presence of 'Confidentiality Agreement' in the contract.\n",
      "[DEBUG] Model response for 'Confidentiality Agreement': 'Present'\n",
      "\n",
      "[INFO] Querying model to check presence of 'Data Protection Clause' in the contract.\n"
     ]
    },
    {
     "name": "stderr",
     "output_type": "stream",
     "text": [
      "Processing contracts:  72%|███████▏  | 36/50 [02:27<01:07,  4.82s/it]"
     ]
    },
    {
     "name": "stdout",
     "output_type": "stream",
     "text": [
      "[DEBUG] Model response for 'Data Protection Clause': 'Present'\n",
      "\n",
      "[INFO] Actual Labels: {'Non-Disclosure Agreement (NDA)': 'Absent', 'Termination Clause': 'Present', 'Indemnity Clause': 'Absent', 'Force Majeure Clause': 'Absent', 'Governing Law Clause': 'Absent', 'Arbitration Clause': 'Present', 'Confidentiality Agreement': 'Present', 'Data Protection Clause': 'Present'}\n",
      "[INFO] Predicted Labels: {'Non-Disclosure Agreement (NDA)': 'Absent', 'Termination Clause': 'Present', 'Indemnity Clause': 'Present', 'Force Majeure Clause': 'Present', 'Governing Law Clause': 'Present', 'Arbitration Clause': 'Present', 'Confidentiality Agreement': 'Present', 'Data Protection Clause': 'Present'}\n",
      "[RESULT] Clause-by-clause correctness: {'Non-Disclosure Agreement (NDA)': True, 'Termination Clause': True, 'Indemnity Clause': False, 'Force Majeure Clause': False, 'Governing Law Clause': False, 'Arbitration Clause': True, 'Confidentiality Agreement': True, 'Data Protection Clause': True}\n",
      "--------------------------------------------------\n",
      "\n",
      "[INFO] Querying model to check presence of 'Non-Disclosure Agreement (NDA)' in the contract.\n",
      "[DEBUG] Model response for 'Non-Disclosure Agreement (NDA)': 'Present'\n",
      "\n",
      "[INFO] Querying model to check presence of 'Termination Clause' in the contract.\n",
      "[DEBUG] Model response for 'Termination Clause': 'Present'\n",
      "\n",
      "[INFO] Querying model to check presence of 'Indemnity Clause' in the contract.\n",
      "[DEBUG] Model response for 'Indemnity Clause': 'Absent'\n",
      "\n",
      "[INFO] Querying model to check presence of 'Force Majeure Clause' in the contract.\n",
      "[DEBUG] Model response for 'Force Majeure Clause': '**Present**'\n",
      "\n",
      "[INFO] Querying model to check presence of 'Governing Law Clause' in the contract.\n",
      "[DEBUG] Model response for 'Governing Law Clause': 'Present'\n",
      "\n",
      "[INFO] Querying model to check presence of 'Arbitration Clause' in the contract.\n",
      "[DEBUG] Model response for 'Arbitration Clause': 'Present'\n",
      "\n",
      "[INFO] Querying model to check presence of 'Confidentiality Agreement' in the contract.\n",
      "[DEBUG] Model response for 'Confidentiality Agreement': 'Present'\n",
      "\n",
      "[INFO] Querying model to check presence of 'Data Protection Clause' in the contract.\n"
     ]
    },
    {
     "name": "stderr",
     "output_type": "stream",
     "text": [
      "Processing contracts:  74%|███████▍  | 37/50 [02:31<00:59,  4.55s/it]"
     ]
    },
    {
     "name": "stdout",
     "output_type": "stream",
     "text": [
      "[DEBUG] Model response for 'Data Protection Clause': 'Absent'\n",
      "\n",
      "[INFO] Actual Labels: {'Non-Disclosure Agreement (NDA)': 'Absent', 'Termination Clause': 'Absent', 'Indemnity Clause': 'Absent', 'Force Majeure Clause': 'Present', 'Governing Law Clause': 'Absent', 'Arbitration Clause': 'Present', 'Confidentiality Agreement': 'Present', 'Data Protection Clause': 'Absent'}\n",
      "[INFO] Predicted Labels: {'Non-Disclosure Agreement (NDA)': 'Present', 'Termination Clause': 'Present', 'Indemnity Clause': 'Absent', 'Force Majeure Clause': 'Present', 'Governing Law Clause': 'Present', 'Arbitration Clause': 'Present', 'Confidentiality Agreement': 'Present', 'Data Protection Clause': 'Absent'}\n",
      "[RESULT] Clause-by-clause correctness: {'Non-Disclosure Agreement (NDA)': False, 'Termination Clause': False, 'Indemnity Clause': True, 'Force Majeure Clause': True, 'Governing Law Clause': False, 'Arbitration Clause': True, 'Confidentiality Agreement': True, 'Data Protection Clause': True}\n",
      "--------------------------------------------------\n",
      "\n",
      "[INFO] Querying model to check presence of 'Non-Disclosure Agreement (NDA)' in the contract.\n",
      "[DEBUG] Model response for 'Non-Disclosure Agreement (NDA)': 'Present'\n",
      "\n",
      "[INFO] Querying model to check presence of 'Termination Clause' in the contract.\n",
      "[DEBUG] Model response for 'Termination Clause': 'Present'\n",
      "\n",
      "[INFO] Querying model to check presence of 'Indemnity Clause' in the contract.\n",
      "[DEBUG] Model response for 'Indemnity Clause': 'Present'\n",
      "\n",
      "[INFO] Querying model to check presence of 'Force Majeure Clause' in the contract.\n",
      "[DEBUG] Model response for 'Force Majeure Clause': 'Present'\n",
      "\n",
      "[INFO] Querying model to check presence of 'Governing Law Clause' in the contract.\n",
      "[DEBUG] Model response for 'Governing Law Clause': 'Present'\n",
      "\n",
      "[INFO] Querying model to check presence of 'Arbitration Clause' in the contract.\n",
      "[DEBUG] Model response for 'Arbitration Clause': 'Present'\n",
      "\n",
      "[INFO] Querying model to check presence of 'Confidentiality Agreement' in the contract.\n",
      "[DEBUG] Model response for 'Confidentiality Agreement': 'Present'\n",
      "\n",
      "[INFO] Querying model to check presence of 'Data Protection Clause' in the contract.\n"
     ]
    },
    {
     "name": "stderr",
     "output_type": "stream",
     "text": [
      "Processing contracts:  76%|███████▌  | 38/50 [02:35<00:52,  4.34s/it]"
     ]
    },
    {
     "name": "stdout",
     "output_type": "stream",
     "text": [
      "[DEBUG] Model response for 'Data Protection Clause': 'Absent'\n",
      "\n",
      "[INFO] Actual Labels: {'Non-Disclosure Agreement (NDA)': 'Absent', 'Termination Clause': 'Present', 'Indemnity Clause': 'Absent', 'Force Majeure Clause': 'Present', 'Governing Law Clause': 'Absent', 'Arbitration Clause': 'Absent', 'Confidentiality Agreement': 'Present', 'Data Protection Clause': 'Absent'}\n",
      "[INFO] Predicted Labels: {'Non-Disclosure Agreement (NDA)': 'Present', 'Termination Clause': 'Present', 'Indemnity Clause': 'Present', 'Force Majeure Clause': 'Present', 'Governing Law Clause': 'Present', 'Arbitration Clause': 'Present', 'Confidentiality Agreement': 'Present', 'Data Protection Clause': 'Absent'}\n",
      "[RESULT] Clause-by-clause correctness: {'Non-Disclosure Agreement (NDA)': False, 'Termination Clause': True, 'Indemnity Clause': False, 'Force Majeure Clause': True, 'Governing Law Clause': False, 'Arbitration Clause': False, 'Confidentiality Agreement': True, 'Data Protection Clause': True}\n",
      "--------------------------------------------------\n",
      "\n",
      "[INFO] Querying model to check presence of 'Non-Disclosure Agreement (NDA)' in the contract.\n",
      "[DEBUG] Model response for 'Non-Disclosure Agreement (NDA)': 'Present'\n",
      "\n",
      "[INFO] Querying model to check presence of 'Termination Clause' in the contract.\n",
      "[DEBUG] Model response for 'Termination Clause': 'Present'\n",
      "\n",
      "[INFO] Querying model to check presence of 'Indemnity Clause' in the contract.\n",
      "[DEBUG] Model response for 'Indemnity Clause': 'Present'\n",
      "\n",
      "[INFO] Querying model to check presence of 'Force Majeure Clause' in the contract.\n",
      "[DEBUG] Model response for 'Force Majeure Clause': 'Present'\n",
      "\n",
      "[INFO] Querying model to check presence of 'Governing Law Clause' in the contract.\n",
      "[DEBUG] Model response for 'Governing Law Clause': 'Present'\n",
      "\n",
      "[INFO] Querying model to check presence of 'Arbitration Clause' in the contract.\n",
      "[DEBUG] Model response for 'Arbitration Clause': 'Present'\n",
      "\n",
      "[INFO] Querying model to check presence of 'Confidentiality Agreement' in the contract.\n",
      "[DEBUG] Model response for 'Confidentiality Agreement': 'Present'\n",
      "\n",
      "[INFO] Querying model to check presence of 'Data Protection Clause' in the contract.\n"
     ]
    },
    {
     "name": "stderr",
     "output_type": "stream",
     "text": [
      "Processing contracts:  78%|███████▊  | 39/50 [02:38<00:45,  4.16s/it]"
     ]
    },
    {
     "name": "stdout",
     "output_type": "stream",
     "text": [
      "[DEBUG] Model response for 'Data Protection Clause': 'Present'\n",
      "\n",
      "[INFO] Actual Labels: {'Non-Disclosure Agreement (NDA)': 'Present', 'Termination Clause': 'Absent', 'Indemnity Clause': 'Absent', 'Force Majeure Clause': 'Present', 'Governing Law Clause': 'Absent', 'Arbitration Clause': 'Present', 'Confidentiality Agreement': 'Absent', 'Data Protection Clause': 'Present'}\n",
      "[INFO] Predicted Labels: {'Non-Disclosure Agreement (NDA)': 'Present', 'Termination Clause': 'Present', 'Indemnity Clause': 'Present', 'Force Majeure Clause': 'Present', 'Governing Law Clause': 'Present', 'Arbitration Clause': 'Present', 'Confidentiality Agreement': 'Present', 'Data Protection Clause': 'Present'}\n",
      "[RESULT] Clause-by-clause correctness: {'Non-Disclosure Agreement (NDA)': True, 'Termination Clause': False, 'Indemnity Clause': False, 'Force Majeure Clause': True, 'Governing Law Clause': False, 'Arbitration Clause': True, 'Confidentiality Agreement': False, 'Data Protection Clause': True}\n",
      "--------------------------------------------------\n",
      "\n",
      "[INFO] Querying model to check presence of 'Non-Disclosure Agreement (NDA)' in the contract.\n",
      "[DEBUG] Model response for 'Non-Disclosure Agreement (NDA)': 'Present'\n",
      "\n",
      "[INFO] Querying model to check presence of 'Termination Clause' in the contract.\n",
      "[DEBUG] Model response for 'Termination Clause': 'Present'\n",
      "\n",
      "[INFO] Querying model to check presence of 'Indemnity Clause' in the contract.\n",
      "[DEBUG] Model response for 'Indemnity Clause': 'Absent'\n",
      "\n",
      "[INFO] Querying model to check presence of 'Force Majeure Clause' in the contract.\n",
      "[DEBUG] Model response for 'Force Majeure Clause': 'Present'\n",
      "\n",
      "[INFO] Querying model to check presence of 'Governing Law Clause' in the contract.\n",
      "[DEBUG] Model response for 'Governing Law Clause': 'Present'\n",
      "\n",
      "[INFO] Querying model to check presence of 'Arbitration Clause' in the contract.\n",
      "[DEBUG] Model response for 'Arbitration Clause': 'Present'\n",
      "\n",
      "[INFO] Querying model to check presence of 'Confidentiality Agreement' in the contract.\n",
      "[DEBUG] Model response for 'Confidentiality Agreement': 'Present'\n",
      "\n",
      "[INFO] Querying model to check presence of 'Data Protection Clause' in the contract.\n"
     ]
    },
    {
     "name": "stderr",
     "output_type": "stream",
     "text": [
      "Processing contracts:  80%|████████  | 40/50 [02:42<00:40,  4.09s/it]"
     ]
    },
    {
     "name": "stdout",
     "output_type": "stream",
     "text": [
      "[DEBUG] Model response for 'Data Protection Clause': 'Absent'\n",
      "\n",
      "[INFO] Actual Labels: {'Non-Disclosure Agreement (NDA)': 'Absent', 'Termination Clause': 'Present', 'Indemnity Clause': 'Present', 'Force Majeure Clause': 'Present', 'Governing Law Clause': 'Absent', 'Arbitration Clause': 'Absent', 'Confidentiality Agreement': 'Present', 'Data Protection Clause': 'Absent'}\n",
      "[INFO] Predicted Labels: {'Non-Disclosure Agreement (NDA)': 'Present', 'Termination Clause': 'Present', 'Indemnity Clause': 'Absent', 'Force Majeure Clause': 'Present', 'Governing Law Clause': 'Present', 'Arbitration Clause': 'Present', 'Confidentiality Agreement': 'Present', 'Data Protection Clause': 'Absent'}\n",
      "[RESULT] Clause-by-clause correctness: {'Non-Disclosure Agreement (NDA)': False, 'Termination Clause': True, 'Indemnity Clause': False, 'Force Majeure Clause': True, 'Governing Law Clause': False, 'Arbitration Clause': False, 'Confidentiality Agreement': True, 'Data Protection Clause': True}\n",
      "--------------------------------------------------\n",
      "\n",
      "[INFO] Querying model to check presence of 'Non-Disclosure Agreement (NDA)' in the contract.\n",
      "[DEBUG] Model response for 'Non-Disclosure Agreement (NDA)': 'Absent'\n",
      "\n",
      "[INFO] Querying model to check presence of 'Termination Clause' in the contract.\n",
      "[DEBUG] Model response for 'Termination Clause': 'Present'\n",
      "\n",
      "[INFO] Querying model to check presence of 'Indemnity Clause' in the contract.\n",
      "[DEBUG] Model response for 'Indemnity Clause': 'Present'\n",
      "\n",
      "[INFO] Querying model to check presence of 'Force Majeure Clause' in the contract.\n",
      "[DEBUG] Model response for 'Force Majeure Clause': 'Present'\n",
      "\n",
      "[INFO] Querying model to check presence of 'Governing Law Clause' in the contract.\n",
      "[DEBUG] Model response for 'Governing Law Clause': 'Present'\n",
      "\n",
      "[INFO] Querying model to check presence of 'Arbitration Clause' in the contract.\n",
      "[DEBUG] Model response for 'Arbitration Clause': 'Present'\n",
      "\n",
      "[INFO] Querying model to check presence of 'Confidentiality Agreement' in the contract.\n",
      "[DEBUG] Model response for 'Confidentiality Agreement': 'Present'\n",
      "\n",
      "[INFO] Querying model to check presence of 'Data Protection Clause' in the contract.\n"
     ]
    },
    {
     "name": "stderr",
     "output_type": "stream",
     "text": [
      "Processing contracts:  82%|████████▏ | 41/50 [02:46<00:35,  3.99s/it]"
     ]
    },
    {
     "name": "stdout",
     "output_type": "stream",
     "text": [
      "[DEBUG] Model response for 'Data Protection Clause': 'Present'\n",
      "\n",
      "[INFO] Actual Labels: {'Non-Disclosure Agreement (NDA)': 'Absent', 'Termination Clause': 'Absent', 'Indemnity Clause': 'Present', 'Force Majeure Clause': 'Absent', 'Governing Law Clause': 'Present', 'Arbitration Clause': 'Present', 'Confidentiality Agreement': 'Present', 'Data Protection Clause': 'Present'}\n",
      "[INFO] Predicted Labels: {'Non-Disclosure Agreement (NDA)': 'Absent', 'Termination Clause': 'Present', 'Indemnity Clause': 'Present', 'Force Majeure Clause': 'Present', 'Governing Law Clause': 'Present', 'Arbitration Clause': 'Present', 'Confidentiality Agreement': 'Present', 'Data Protection Clause': 'Present'}\n",
      "[RESULT] Clause-by-clause correctness: {'Non-Disclosure Agreement (NDA)': True, 'Termination Clause': False, 'Indemnity Clause': True, 'Force Majeure Clause': False, 'Governing Law Clause': True, 'Arbitration Clause': True, 'Confidentiality Agreement': True, 'Data Protection Clause': True}\n",
      "--------------------------------------------------\n",
      "\n",
      "[INFO] Querying model to check presence of 'Non-Disclosure Agreement (NDA)' in the contract.\n",
      "[DEBUG] Model response for 'Non-Disclosure Agreement (NDA)': 'Present'\n",
      "\n",
      "[INFO] Querying model to check presence of 'Termination Clause' in the contract.\n",
      "[DEBUG] Model response for 'Termination Clause': '**Present**'\n",
      "\n",
      "[INFO] Querying model to check presence of 'Indemnity Clause' in the contract.\n",
      "[DEBUG] Model response for 'Indemnity Clause': '**Present**'\n",
      "\n",
      "[INFO] Querying model to check presence of 'Force Majeure Clause' in the contract.\n",
      "[DEBUG] Model response for 'Force Majeure Clause': 'Present'\n",
      "\n",
      "[INFO] Querying model to check presence of 'Governing Law Clause' in the contract.\n",
      "[DEBUG] Model response for 'Governing Law Clause': 'Present'\n",
      "\n",
      "[INFO] Querying model to check presence of 'Arbitration Clause' in the contract.\n",
      "[DEBUG] Model response for 'Arbitration Clause': '**Present**'\n",
      "\n",
      "[INFO] Querying model to check presence of 'Confidentiality Agreement' in the contract.\n",
      "[DEBUG] Model response for 'Confidentiality Agreement': 'Present'\n",
      "\n",
      "[INFO] Querying model to check presence of 'Data Protection Clause' in the contract.\n"
     ]
    },
    {
     "name": "stderr",
     "output_type": "stream",
     "text": [
      "Processing contracts:  84%|████████▍ | 42/50 [02:50<00:30,  3.86s/it]"
     ]
    },
    {
     "name": "stdout",
     "output_type": "stream",
     "text": [
      "[DEBUG] Model response for 'Data Protection Clause': 'Absent'\n",
      "\n",
      "[INFO] Actual Labels: {'Non-Disclosure Agreement (NDA)': 'Present', 'Termination Clause': 'Present', 'Indemnity Clause': 'Absent', 'Force Majeure Clause': 'Absent', 'Governing Law Clause': 'Present', 'Arbitration Clause': 'Absent', 'Confidentiality Agreement': 'Present', 'Data Protection Clause': 'Absent'}\n",
      "[INFO] Predicted Labels: {'Non-Disclosure Agreement (NDA)': 'Present', 'Termination Clause': 'Present', 'Indemnity Clause': 'Present', 'Force Majeure Clause': 'Present', 'Governing Law Clause': 'Present', 'Arbitration Clause': 'Present', 'Confidentiality Agreement': 'Present', 'Data Protection Clause': 'Absent'}\n",
      "[RESULT] Clause-by-clause correctness: {'Non-Disclosure Agreement (NDA)': True, 'Termination Clause': True, 'Indemnity Clause': False, 'Force Majeure Clause': False, 'Governing Law Clause': True, 'Arbitration Clause': False, 'Confidentiality Agreement': True, 'Data Protection Clause': True}\n",
      "--------------------------------------------------\n",
      "\n",
      "[INFO] Querying model to check presence of 'Non-Disclosure Agreement (NDA)' in the contract.\n",
      "[DEBUG] Model response for 'Non-Disclosure Agreement (NDA)': 'Absent'\n",
      "\n",
      "[INFO] Querying model to check presence of 'Termination Clause' in the contract.\n",
      "[DEBUG] Model response for 'Termination Clause': 'Present'\n",
      "\n",
      "[INFO] Querying model to check presence of 'Indemnity Clause' in the contract.\n",
      "[DEBUG] Model response for 'Indemnity Clause': '**Present**'\n",
      "\n",
      "[INFO] Querying model to check presence of 'Force Majeure Clause' in the contract.\n",
      "[DEBUG] Model response for 'Force Majeure Clause': 'Present'\n",
      "\n",
      "[INFO] Querying model to check presence of 'Governing Law Clause' in the contract.\n",
      "[DEBUG] Model response for 'Governing Law Clause': 'Present'\n",
      "\n",
      "[INFO] Querying model to check presence of 'Arbitration Clause' in the contract.\n",
      "[DEBUG] Model response for 'Arbitration Clause': '**Present**'\n",
      "\n",
      "[INFO] Querying model to check presence of 'Confidentiality Agreement' in the contract.\n",
      "[DEBUG] Model response for 'Confidentiality Agreement': 'Present'\n",
      "\n",
      "[INFO] Querying model to check presence of 'Data Protection Clause' in the contract.\n"
     ]
    },
    {
     "name": "stderr",
     "output_type": "stream",
     "text": [
      "Processing contracts:  86%|████████▌ | 43/50 [02:53<00:26,  3.83s/it]"
     ]
    },
    {
     "name": "stdout",
     "output_type": "stream",
     "text": [
      "[DEBUG] Model response for 'Data Protection Clause': 'Present'\n",
      "\n",
      "[INFO] Actual Labels: {'Non-Disclosure Agreement (NDA)': 'Absent', 'Termination Clause': 'Present', 'Indemnity Clause': 'Present', 'Force Majeure Clause': 'Absent', 'Governing Law Clause': 'Absent', 'Arbitration Clause': 'Absent', 'Confidentiality Agreement': 'Present', 'Data Protection Clause': 'Present'}\n",
      "[INFO] Predicted Labels: {'Non-Disclosure Agreement (NDA)': 'Absent', 'Termination Clause': 'Present', 'Indemnity Clause': 'Present', 'Force Majeure Clause': 'Present', 'Governing Law Clause': 'Present', 'Arbitration Clause': 'Present', 'Confidentiality Agreement': 'Present', 'Data Protection Clause': 'Present'}\n",
      "[RESULT] Clause-by-clause correctness: {'Non-Disclosure Agreement (NDA)': True, 'Termination Clause': True, 'Indemnity Clause': True, 'Force Majeure Clause': False, 'Governing Law Clause': False, 'Arbitration Clause': False, 'Confidentiality Agreement': True, 'Data Protection Clause': True}\n",
      "--------------------------------------------------\n",
      "\n",
      "[INFO] Querying model to check presence of 'Non-Disclosure Agreement (NDA)' in the contract.\n",
      "[DEBUG] Model response for 'Non-Disclosure Agreement (NDA)': 'Absent'\n",
      "\n",
      "[INFO] Querying model to check presence of 'Termination Clause' in the contract.\n",
      "[DEBUG] Model response for 'Termination Clause': 'Present'\n",
      "\n",
      "[INFO] Querying model to check presence of 'Indemnity Clause' in the contract.\n",
      "[DEBUG] Model response for 'Indemnity Clause': 'Present'\n",
      "\n",
      "[INFO] Querying model to check presence of 'Force Majeure Clause' in the contract.\n",
      "[DEBUG] Model response for 'Force Majeure Clause': 'Present'\n",
      "\n",
      "[INFO] Querying model to check presence of 'Governing Law Clause' in the contract.\n",
      "[DEBUG] Model response for 'Governing Law Clause': 'Present'\n",
      "\n",
      "[INFO] Querying model to check presence of 'Arbitration Clause' in the contract.\n",
      "[DEBUG] Model response for 'Arbitration Clause': 'Absent'\n",
      "\n",
      "[INFO] Querying model to check presence of 'Confidentiality Agreement' in the contract.\n",
      "[DEBUG] Model response for 'Confidentiality Agreement': 'Present'\n",
      "\n",
      "[INFO] Querying model to check presence of 'Data Protection Clause' in the contract.\n"
     ]
    },
    {
     "name": "stderr",
     "output_type": "stream",
     "text": [
      "Processing contracts:  88%|████████▊ | 44/50 [02:56<00:21,  3.60s/it]"
     ]
    },
    {
     "name": "stdout",
     "output_type": "stream",
     "text": [
      "[DEBUG] Model response for 'Data Protection Clause': '**Present**'\n",
      "\n",
      "[INFO] Actual Labels: {'Non-Disclosure Agreement (NDA)': 'Absent', 'Termination Clause': 'Absent', 'Indemnity Clause': 'Present', 'Force Majeure Clause': 'Absent', 'Governing Law Clause': 'Present', 'Arbitration Clause': 'Present', 'Confidentiality Agreement': 'Present', 'Data Protection Clause': 'Present'}\n",
      "[INFO] Predicted Labels: {'Non-Disclosure Agreement (NDA)': 'Absent', 'Termination Clause': 'Present', 'Indemnity Clause': 'Present', 'Force Majeure Clause': 'Present', 'Governing Law Clause': 'Present', 'Arbitration Clause': 'Absent', 'Confidentiality Agreement': 'Present', 'Data Protection Clause': 'Present'}\n",
      "[RESULT] Clause-by-clause correctness: {'Non-Disclosure Agreement (NDA)': True, 'Termination Clause': False, 'Indemnity Clause': True, 'Force Majeure Clause': False, 'Governing Law Clause': True, 'Arbitration Clause': False, 'Confidentiality Agreement': True, 'Data Protection Clause': True}\n",
      "--------------------------------------------------\n",
      "\n",
      "[INFO] Querying model to check presence of 'Non-Disclosure Agreement (NDA)' in the contract.\n",
      "[DEBUG] Model response for 'Non-Disclosure Agreement (NDA)': 'Absent'\n",
      "\n",
      "[INFO] Querying model to check presence of 'Termination Clause' in the contract.\n",
      "[DEBUG] Model response for 'Termination Clause': 'Present'\n",
      "\n",
      "[INFO] Querying model to check presence of 'Indemnity Clause' in the contract.\n",
      "[DEBUG] Model response for 'Indemnity Clause': 'Present'\n",
      "\n",
      "[INFO] Querying model to check presence of 'Force Majeure Clause' in the contract.\n",
      "[DEBUG] Model response for 'Force Majeure Clause': 'Present'\n",
      "\n",
      "[INFO] Querying model to check presence of 'Governing Law Clause' in the contract.\n",
      "[DEBUG] Model response for 'Governing Law Clause': 'Present'\n",
      "\n",
      "[INFO] Querying model to check presence of 'Arbitration Clause' in the contract.\n",
      "[DEBUG] Model response for 'Arbitration Clause': 'Present'\n",
      "\n",
      "[INFO] Querying model to check presence of 'Confidentiality Agreement' in the contract.\n",
      "[DEBUG] Model response for 'Confidentiality Agreement': 'Present'\n",
      "\n",
      "[INFO] Querying model to check presence of 'Data Protection Clause' in the contract.\n"
     ]
    },
    {
     "name": "stderr",
     "output_type": "stream",
     "text": [
      "Processing contracts:  90%|█████████ | 45/50 [02:59<00:16,  3.39s/it]"
     ]
    },
    {
     "name": "stdout",
     "output_type": "stream",
     "text": [
      "[DEBUG] Model response for 'Data Protection Clause': 'Present'\n",
      "\n",
      "[INFO] Actual Labels: {'Non-Disclosure Agreement (NDA)': 'Absent', 'Termination Clause': 'Absent', 'Indemnity Clause': 'Absent', 'Force Majeure Clause': 'Present', 'Governing Law Clause': 'Present', 'Arbitration Clause': 'Present', 'Confidentiality Agreement': 'Present', 'Data Protection Clause': 'Present'}\n",
      "[INFO] Predicted Labels: {'Non-Disclosure Agreement (NDA)': 'Absent', 'Termination Clause': 'Present', 'Indemnity Clause': 'Present', 'Force Majeure Clause': 'Present', 'Governing Law Clause': 'Present', 'Arbitration Clause': 'Present', 'Confidentiality Agreement': 'Present', 'Data Protection Clause': 'Present'}\n",
      "[RESULT] Clause-by-clause correctness: {'Non-Disclosure Agreement (NDA)': True, 'Termination Clause': False, 'Indemnity Clause': False, 'Force Majeure Clause': True, 'Governing Law Clause': True, 'Arbitration Clause': True, 'Confidentiality Agreement': True, 'Data Protection Clause': True}\n",
      "--------------------------------------------------\n",
      "\n",
      "[INFO] Querying model to check presence of 'Non-Disclosure Agreement (NDA)' in the contract.\n",
      "[DEBUG] Model response for 'Non-Disclosure Agreement (NDA)': 'Present'\n",
      "\n",
      "[INFO] Querying model to check presence of 'Termination Clause' in the contract.\n",
      "[DEBUG] Model response for 'Termination Clause': 'Present'\n",
      "\n",
      "[INFO] Querying model to check presence of 'Indemnity Clause' in the contract.\n",
      "[DEBUG] Model response for 'Indemnity Clause': '**Present**'\n",
      "\n",
      "[INFO] Querying model to check presence of 'Force Majeure Clause' in the contract.\n",
      "[DEBUG] Model response for 'Force Majeure Clause': 'Present'\n",
      "\n",
      "[INFO] Querying model to check presence of 'Governing Law Clause' in the contract.\n",
      "[DEBUG] Model response for 'Governing Law Clause': 'Present'\n",
      "\n",
      "[INFO] Querying model to check presence of 'Arbitration Clause' in the contract.\n",
      "[DEBUG] Model response for 'Arbitration Clause': 'Present'\n",
      "\n",
      "[INFO] Querying model to check presence of 'Confidentiality Agreement' in the contract.\n",
      "[DEBUG] Model response for 'Confidentiality Agreement': 'Present'\n",
      "\n",
      "[INFO] Querying model to check presence of 'Data Protection Clause' in the contract.\n"
     ]
    },
    {
     "name": "stderr",
     "output_type": "stream",
     "text": [
      "Processing contracts:  92%|█████████▏| 46/50 [03:02<00:13,  3.32s/it]"
     ]
    },
    {
     "name": "stdout",
     "output_type": "stream",
     "text": [
      "[DEBUG] Model response for 'Data Protection Clause': 'Absent'\n",
      "\n",
      "[INFO] Actual Labels: {'Non-Disclosure Agreement (NDA)': 'Present', 'Termination Clause': 'Absent', 'Indemnity Clause': 'Absent', 'Force Majeure Clause': 'Present', 'Governing Law Clause': 'Absent', 'Arbitration Clause': 'Present', 'Confidentiality Agreement': 'Present', 'Data Protection Clause': 'Absent'}\n",
      "[INFO] Predicted Labels: {'Non-Disclosure Agreement (NDA)': 'Present', 'Termination Clause': 'Present', 'Indemnity Clause': 'Present', 'Force Majeure Clause': 'Present', 'Governing Law Clause': 'Present', 'Arbitration Clause': 'Present', 'Confidentiality Agreement': 'Present', 'Data Protection Clause': 'Absent'}\n",
      "[RESULT] Clause-by-clause correctness: {'Non-Disclosure Agreement (NDA)': True, 'Termination Clause': False, 'Indemnity Clause': False, 'Force Majeure Clause': True, 'Governing Law Clause': False, 'Arbitration Clause': True, 'Confidentiality Agreement': True, 'Data Protection Clause': True}\n",
      "--------------------------------------------------\n",
      "\n",
      "[INFO] Querying model to check presence of 'Non-Disclosure Agreement (NDA)' in the contract.\n",
      "[DEBUG] Model response for 'Non-Disclosure Agreement (NDA)': 'Absent'\n",
      "\n",
      "[INFO] Querying model to check presence of 'Termination Clause' in the contract.\n",
      "[DEBUG] Model response for 'Termination Clause': 'Present'\n",
      "\n",
      "[INFO] Querying model to check presence of 'Indemnity Clause' in the contract.\n",
      "[DEBUG] Model response for 'Indemnity Clause': 'Present'\n",
      "\n",
      "[INFO] Querying model to check presence of 'Force Majeure Clause' in the contract.\n",
      "[DEBUG] Model response for 'Force Majeure Clause': 'Present'\n",
      "\n",
      "[INFO] Querying model to check presence of 'Governing Law Clause' in the contract.\n",
      "[DEBUG] Model response for 'Governing Law Clause': 'Present'\n",
      "\n",
      "[INFO] Querying model to check presence of 'Arbitration Clause' in the contract.\n",
      "[DEBUG] Model response for 'Arbitration Clause': '**Present**'\n",
      "\n",
      "[INFO] Querying model to check presence of 'Confidentiality Agreement' in the contract.\n",
      "[DEBUG] Model response for 'Confidentiality Agreement': 'Present'\n",
      "\n",
      "[INFO] Querying model to check presence of 'Data Protection Clause' in the contract.\n"
     ]
    },
    {
     "name": "stderr",
     "output_type": "stream",
     "text": [
      "Processing contracts:  94%|█████████▍| 47/50 [03:06<00:09,  3.33s/it]"
     ]
    },
    {
     "name": "stdout",
     "output_type": "stream",
     "text": [
      "[DEBUG] Model response for 'Data Protection Clause': 'Present'\n",
      "\n",
      "[INFO] Actual Labels: {'Non-Disclosure Agreement (NDA)': 'Present', 'Termination Clause': 'Present', 'Indemnity Clause': 'Present', 'Force Majeure Clause': 'Absent', 'Governing Law Clause': 'Present', 'Arbitration Clause': 'Absent', 'Confidentiality Agreement': 'Absent', 'Data Protection Clause': 'Present'}\n",
      "[INFO] Predicted Labels: {'Non-Disclosure Agreement (NDA)': 'Absent', 'Termination Clause': 'Present', 'Indemnity Clause': 'Present', 'Force Majeure Clause': 'Present', 'Governing Law Clause': 'Present', 'Arbitration Clause': 'Present', 'Confidentiality Agreement': 'Present', 'Data Protection Clause': 'Present'}\n",
      "[RESULT] Clause-by-clause correctness: {'Non-Disclosure Agreement (NDA)': False, 'Termination Clause': True, 'Indemnity Clause': True, 'Force Majeure Clause': False, 'Governing Law Clause': True, 'Arbitration Clause': False, 'Confidentiality Agreement': False, 'Data Protection Clause': True}\n",
      "--------------------------------------------------\n",
      "\n",
      "[INFO] Querying model to check presence of 'Non-Disclosure Agreement (NDA)' in the contract.\n",
      "[DEBUG] Model response for 'Non-Disclosure Agreement (NDA)': 'Present'\n",
      "\n",
      "[INFO] Querying model to check presence of 'Termination Clause' in the contract.\n",
      "[DEBUG] Model response for 'Termination Clause': 'Present'\n",
      "\n",
      "[INFO] Querying model to check presence of 'Indemnity Clause' in the contract.\n",
      "[DEBUG] Model response for 'Indemnity Clause': 'Absent'\n",
      "\n",
      "[INFO] Querying model to check presence of 'Force Majeure Clause' in the contract.\n",
      "[DEBUG] Model response for 'Force Majeure Clause': 'Present'\n",
      "\n",
      "[INFO] Querying model to check presence of 'Governing Law Clause' in the contract.\n",
      "[DEBUG] Model response for 'Governing Law Clause': 'Present'\n",
      "\n",
      "[INFO] Querying model to check presence of 'Arbitration Clause' in the contract.\n",
      "[DEBUG] Model response for 'Arbitration Clause': 'Present'\n",
      "\n",
      "[INFO] Querying model to check presence of 'Confidentiality Agreement' in the contract.\n",
      "[DEBUG] Model response for 'Confidentiality Agreement': 'Present'\n",
      "\n",
      "[INFO] Querying model to check presence of 'Data Protection Clause' in the contract.\n"
     ]
    },
    {
     "name": "stderr",
     "output_type": "stream",
     "text": [
      "Processing contracts:  96%|█████████▌| 48/50 [03:10<00:07,  3.59s/it]"
     ]
    },
    {
     "name": "stdout",
     "output_type": "stream",
     "text": [
      "[DEBUG] Model response for 'Data Protection Clause': 'Absent'\n",
      "\n",
      "[INFO] Actual Labels: {'Non-Disclosure Agreement (NDA)': 'Absent', 'Termination Clause': 'Present', 'Indemnity Clause': 'Present', 'Force Majeure Clause': 'Present', 'Governing Law Clause': 'Present', 'Arbitration Clause': 'Absent', 'Confidentiality Agreement': 'Absent', 'Data Protection Clause': 'Absent'}\n",
      "[INFO] Predicted Labels: {'Non-Disclosure Agreement (NDA)': 'Present', 'Termination Clause': 'Present', 'Indemnity Clause': 'Absent', 'Force Majeure Clause': 'Present', 'Governing Law Clause': 'Present', 'Arbitration Clause': 'Present', 'Confidentiality Agreement': 'Present', 'Data Protection Clause': 'Absent'}\n",
      "[RESULT] Clause-by-clause correctness: {'Non-Disclosure Agreement (NDA)': False, 'Termination Clause': True, 'Indemnity Clause': False, 'Force Majeure Clause': True, 'Governing Law Clause': True, 'Arbitration Clause': False, 'Confidentiality Agreement': False, 'Data Protection Clause': True}\n",
      "--------------------------------------------------\n",
      "\n",
      "[INFO] Querying model to check presence of 'Non-Disclosure Agreement (NDA)' in the contract.\n",
      "[DEBUG] Model response for 'Non-Disclosure Agreement (NDA)': 'Absent'\n",
      "\n",
      "[INFO] Querying model to check presence of 'Termination Clause' in the contract.\n",
      "[DEBUG] Model response for 'Termination Clause': 'Present'\n",
      "\n",
      "[INFO] Querying model to check presence of 'Indemnity Clause' in the contract.\n",
      "[DEBUG] Model response for 'Indemnity Clause': 'Present'\n",
      "\n",
      "[INFO] Querying model to check presence of 'Force Majeure Clause' in the contract.\n",
      "[DEBUG] Model response for 'Force Majeure Clause': 'Present'\n",
      "\n",
      "[INFO] Querying model to check presence of 'Governing Law Clause' in the contract.\n",
      "[DEBUG] Model response for 'Governing Law Clause': 'Present'\n",
      "\n",
      "[INFO] Querying model to check presence of 'Arbitration Clause' in the contract.\n",
      "[DEBUG] Model response for 'Arbitration Clause': 'Absent'\n",
      "\n",
      "[INFO] Querying model to check presence of 'Confidentiality Agreement' in the contract.\n",
      "[DEBUG] Model response for 'Confidentiality Agreement': 'Present'\n",
      "\n",
      "[INFO] Querying model to check presence of 'Data Protection Clause' in the contract.\n"
     ]
    },
    {
     "name": "stderr",
     "output_type": "stream",
     "text": [
      "Processing contracts:  98%|█████████▊| 49/50 [03:14<00:03,  3.86s/it]"
     ]
    },
    {
     "name": "stdout",
     "output_type": "stream",
     "text": [
      "[DEBUG] Model response for 'Data Protection Clause': '**Present**'\n",
      "\n",
      "[INFO] Actual Labels: {'Non-Disclosure Agreement (NDA)': 'Absent', 'Termination Clause': 'Present', 'Indemnity Clause': 'Present', 'Force Majeure Clause': 'Absent', 'Governing Law Clause': 'Present', 'Arbitration Clause': 'Present', 'Confidentiality Agreement': 'Present', 'Data Protection Clause': 'Present'}\n",
      "[INFO] Predicted Labels: {'Non-Disclosure Agreement (NDA)': 'Absent', 'Termination Clause': 'Present', 'Indemnity Clause': 'Present', 'Force Majeure Clause': 'Present', 'Governing Law Clause': 'Present', 'Arbitration Clause': 'Absent', 'Confidentiality Agreement': 'Present', 'Data Protection Clause': 'Present'}\n",
      "[RESULT] Clause-by-clause correctness: {'Non-Disclosure Agreement (NDA)': True, 'Termination Clause': True, 'Indemnity Clause': True, 'Force Majeure Clause': False, 'Governing Law Clause': True, 'Arbitration Clause': False, 'Confidentiality Agreement': True, 'Data Protection Clause': True}\n",
      "--------------------------------------------------\n",
      "\n",
      "[INFO] Querying model to check presence of 'Non-Disclosure Agreement (NDA)' in the contract.\n",
      "[DEBUG] Model response for 'Non-Disclosure Agreement (NDA)': 'Absent'\n",
      "\n",
      "[INFO] Querying model to check presence of 'Termination Clause' in the contract.\n",
      "[DEBUG] Model response for 'Termination Clause': 'Present'\n",
      "\n",
      "[INFO] Querying model to check presence of 'Indemnity Clause' in the contract.\n",
      "[DEBUG] Model response for 'Indemnity Clause': 'Absent'\n",
      "\n",
      "[INFO] Querying model to check presence of 'Force Majeure Clause' in the contract.\n",
      "[DEBUG] Model response for 'Force Majeure Clause': 'Present'\n",
      "\n",
      "[INFO] Querying model to check presence of 'Governing Law Clause' in the contract.\n",
      "[DEBUG] Model response for 'Governing Law Clause': 'Present'\n",
      "\n",
      "[INFO] Querying model to check presence of 'Arbitration Clause' in the contract.\n",
      "[DEBUG] Model response for 'Arbitration Clause': 'Present'\n",
      "\n",
      "[INFO] Querying model to check presence of 'Confidentiality Agreement' in the contract.\n",
      "[DEBUG] Model response for 'Confidentiality Agreement': '**Present**'\n",
      "\n",
      "[INFO] Querying model to check presence of 'Data Protection Clause' in the contract.\n"
     ]
    },
    {
     "name": "stderr",
     "output_type": "stream",
     "text": [
      "Processing contracts: 100%|██████████| 50/50 [03:19<00:00,  3.99s/it]"
     ]
    },
    {
     "name": "stdout",
     "output_type": "stream",
     "text": [
      "[DEBUG] Model response for 'Data Protection Clause': 'Absent'\n",
      "\n",
      "[INFO] Actual Labels: {'Non-Disclosure Agreement (NDA)': 'Absent', 'Termination Clause': 'Absent', 'Indemnity Clause': 'Absent', 'Force Majeure Clause': 'Present', 'Governing Law Clause': 'Absent', 'Arbitration Clause': 'Absent', 'Confidentiality Agreement': 'Absent', 'Data Protection Clause': 'Absent'}\n",
      "[INFO] Predicted Labels: {'Non-Disclosure Agreement (NDA)': 'Absent', 'Termination Clause': 'Present', 'Indemnity Clause': 'Absent', 'Force Majeure Clause': 'Present', 'Governing Law Clause': 'Present', 'Arbitration Clause': 'Present', 'Confidentiality Agreement': 'Present', 'Data Protection Clause': 'Absent'}\n",
      "[RESULT] Clause-by-clause correctness: {'Non-Disclosure Agreement (NDA)': True, 'Termination Clause': False, 'Indemnity Clause': True, 'Force Majeure Clause': True, 'Governing Law Clause': False, 'Arbitration Clause': False, 'Confidentiality Agreement': False, 'Data Protection Clause': True}\n",
      "--------------------------------------------------\n",
      "\n",
      "[FINAL RESULTS]\n",
      "Accuracy for 'Non-Disclosure Agreement (NDA)': 54.00%\n",
      "Accuracy for 'Termination Clause': 50.00%\n",
      "Accuracy for 'Indemnity Clause': 46.00%\n",
      "Accuracy for 'Force Majeure Clause': 50.00%\n",
      "Accuracy for 'Governing Law Clause': 52.00%\n",
      "Accuracy for 'Arbitration Clause': 46.00%\n",
      "Accuracy for 'Confidentiality Agreement': 58.00%\n",
      "Accuracy for 'Data Protection Clause': 100.00%\n"
     ]
    },
    {
     "name": "stderr",
     "output_type": "stream",
     "text": [
      "\n"
     ]
    }
   ],
   "source": [
    "import os\n",
    "from openai import AzureOpenAI\n",
    "from dotenv import load_dotenv\n",
    "import pandas as pd\n",
    "import random\n",
    "from tqdm import tqdm\n",
    "\n",
    "\n",
    "# Load environment variables\n",
    "load_dotenv()\n",
    "\n",
    "# Initialize Azure OpenAI client\n",
    "deployment = 'gpt-4o-mini-eastus-0718'\n",
    "client = AzureOpenAI(\n",
    "    api_key=os.getenv(\"AZURE_OPENAI_EASTUS_API_KEY\"),  \n",
    "    api_version=\"2024-06-01\",\n",
    "    azure_endpoint=os.getenv(\"AZURE_OPENAI_API_EASTUS_ENDPOINT\")\n",
    ")\n",
    "# Define all clauses to check\n",
    "\n",
    "clauses_to_check = [\n",
    "    \"Non-Disclosure Agreement (NDA)\",\n",
    "    \"Termination Clause\",\n",
    "    \"Indemnity Clause\",\n",
    "    \"Force Majeure Clause\",\n",
    "    \"Governing Law Clause\",\n",
    "    \"Arbitration Clause\",\n",
    "    \"Confidentiality Agreement\",\n",
    "    \"Data Protection Clause\"\n",
    "]\n",
    "\n",
    "# Load actual labels\n",
    "df = pd.read_csv(\"contracts/contract_labels.csv\")\n",
    "\n",
    "# Define a function to query the model for each clause\n",
    "def query_model_for_clauses(contract_text):\n",
    "    responses = {}\n",
    "    \n",
    "    for clause in clauses_to_check:\n",
    "        print(f\"\\n[INFO] Querying model to check presence of '{clause}' in the contract.\")\n",
    "        \n",
    "        # Ask the model to classify whether the specific clause is present or absent\n",
    "        completion = client.chat.completions.create(\n",
    "            model=deployment,\n",
    "            messages=[\n",
    "                {\"role\": \"system\", \"content\": \"You are a contract classification assistant.\"},\n",
    "                {\"role\": \"user\", \"content\": f\"Does the following contract contain a '{clause}'? Answer 'Present' or 'Absent'.\\n\\nContract: {contract_text}\"}\n",
    "            ]\n",
    "        )\n",
    "        \n",
    "        content = completion.choices[0].message.content.strip()\n",
    "        print(f\"[DEBUG] Model response for '{clause}': '{content}'\")\n",
    "        \n",
    "        # Process response to standardize it to 'Present' or 'Absent'\n",
    "        if \"present\" in content.lower():\n",
    "            responses[clause] = \"Present\"\n",
    "        elif \"absent\" in content.lower():\n",
    "            responses[clause] = \"Absent\"\n",
    "        else:\n",
    "            responses[clause] = \"Unknown\"  # Handle unexpected responses\n",
    "        \n",
    "    return responses\n",
    "\n",
    "# Run the multi-label classification task on each contract\n",
    "predictions = []\n",
    "for _, row in tqdm(df.iterrows(), total=df.shape[0], desc=\"Processing contracts\"):\n",
    "    # Read contract text from each file\n",
    "    with open(row[\"filename\"], \"r\", encoding=\"utf-8\") as file:\n",
    "        contract_text = file.read()\n",
    "    \n",
    "    # Actual labels for the contract\n",
    "    actual_labels = {\n",
    "        \"Non-Disclosure Agreement (NDA)\": row[\"contains_nda\"],\n",
    "        \"Termination Clause\": row[\"contains_termination\"],\n",
    "        \"Indemnity Clause\": row[\"contains_indemnity\"],\n",
    "        \"Force Majeure Clause\": row[\"contains_force_majeure\"],\n",
    "        \"Governing Law Clause\": row[\"contains_governing_law\"],\n",
    "        \"Arbitration Clause\": row[\"contains_arbitration\"],\n",
    "        \"Confidentiality Agreement\": row[\"contains_confidentiality\"],\n",
    "        \"Data Protection Clause\": row[\"contains_data_protection\"]\n",
    "    }\n",
    "    \n",
    "    # Predicted labels\n",
    "    predicted_labels = query_model_for_clauses(contract_text)\n",
    "    \n",
    "    # Check accuracy for each clause\n",
    "    is_correct = {clause: actual_labels[clause] == predicted_labels[clause] for clause in actual_labels}\n",
    "    print(f\"\\n[INFO] Actual Labels: {actual_labels}\")\n",
    "    print(f\"[INFO] Predicted Labels: {predicted_labels}\")\n",
    "    print(f\"[RESULT] Clause-by-clause correctness: {is_correct}\\n{'-' * 50}\")\n",
    "    \n",
    "    predictions.append({\n",
    "        \"filename\": row[\"filename\"],\n",
    "        \"actual_labels\": actual_labels,\n",
    "        \"predicted_labels\": predicted_labels,\n",
    "        \"is_correct\": is_correct\n",
    "    })\n",
    "\n",
    "# Calculate overall accuracy for each clause\n",
    "correct_counts = {clause: 0 for clause in clauses_to_check}\n",
    "total_counts = {clause: 0 for clause in clauses_to_check}\n",
    "\n",
    "for result in predictions:\n",
    "    for clause, correct in result[\"is_correct\"].items():\n",
    "        total_counts[clause] += 1\n",
    "        if correct:\n",
    "            correct_counts[clause] += 1\n",
    "\n",
    "accuracy = {clause: correct_counts[clause] / total_counts[clause] * 100 for clause in correct_counts}\n",
    "\n",
    "# Display results\n",
    "print(\"\\n[FINAL RESULTS]\")\n",
    "for clause, acc in accuracy.items():\n",
    "    print(f\"Accuracy for '{clause}': {acc:.2f}%\")"
   ]
  },
  {
   "cell_type": "code",
   "execution_count": null,
   "metadata": {},
   "outputs": [],
   "source": []
  },
  {
   "cell_type": "code",
   "execution_count": null,
   "metadata": {},
   "outputs": [],
   "source": []
  },
  {
   "cell_type": "code",
   "execution_count": null,
   "metadata": {},
   "outputs": [],
   "source": [
    "accuracy.items():\n",
    "    print(f\"Accuracy for '{clause}': {acc:.2f}%\")"
   ]
  },
  {
   "cell_type": "markdown",
   "metadata": {},
   "source": [
    "# Optimise with DSPy"
   ]
  },
  {
   "cell_type": "code",
   "execution_count": 1,
   "metadata": {},
   "outputs": [
    {
     "name": "stderr",
     "output_type": "stream",
     "text": [
      "/Users/ozgurguler/Developer/Projects/dspy/venv/lib/python3.12/site-packages/tqdm/auto.py:21: TqdmWarning: IProgress not found. Please update jupyter and ipywidgets. See https://ipywidgets.readthedocs.io/en/stable/user_install.html\n",
      "  from .autonotebook import tqdm as notebook_tqdm\n",
      "WARNING:root:Failed to deep copy attribute 'client' of ContractClauseClassifier, falling back to shallow copy or reference copy.\n",
      "WARNING:root:Failed to deep copy attribute 'clientx' of ContractClauseClassifier, falling back to shallow copy or reference copy.\n"
     ]
    },
    {
     "name": "stdout",
     "output_type": "stream",
     "text": [
      "Going to sample between 1 and 8 traces per predictor.\n",
      "Will attempt to bootstrap 10 candidate sets.\n",
      "Total examples: 400\n",
      "Training examples: 320\n",
      "Validation examples: 80\n"
     ]
    },
    {
     "name": "stderr",
     "output_type": "stream",
     "text": [
      "Average Metric: 48 / 80  (60.0): 100%|██████████| 80/80 [00:09<00:00,  8.49it/s]\n",
      "WARNING:root:Failed to deep copy attribute 'client' of ContractClauseClassifier, falling back to shallow copy or reference copy.\n",
      "WARNING:root:Failed to deep copy attribute 'clientx' of ContractClauseClassifier, falling back to shallow copy or reference copy.\n"
     ]
    },
    {
     "name": "stdout",
     "output_type": "stream",
     "text": [
      "New best score: 60.0 for seed -3\n",
      "Scores so far: [60.0]\n",
      "Best score so far: 60.0\n"
     ]
    },
    {
     "name": "stderr",
     "output_type": "stream",
     "text": [
      "Average Metric: 48 / 80  (60.0): 100%|██████████| 80/80 [00:09<00:00,  8.60it/s]\n",
      "WARNING:root:Failed to deep copy attribute 'client' of ContractClauseClassifier, falling back to shallow copy or reference copy.\n",
      "WARNING:root:Failed to deep copy attribute 'clientx' of ContractClauseClassifier, falling back to shallow copy or reference copy.\n",
      "WARNING:root:Failed to deep copy attribute 'client' of ContractClauseClassifier, falling back to shallow copy or reference copy.\n",
      "WARNING:root:Failed to deep copy attribute 'clientx' of ContractClauseClassifier, falling back to shallow copy or reference copy.\n",
      "WARNING:root:Failed to deep copy attribute 'client' of ContractClauseClassifier, falling back to shallow copy or reference copy.\n",
      "WARNING:root:Failed to deep copy attribute 'clientx' of ContractClauseClassifier, falling back to shallow copy or reference copy.\n",
      "WARNING:root:Failed to deep copy attribute 'client' of ContractClauseClassifier, falling back to shallow copy or reference copy.\n",
      "WARNING:root:Failed to deep copy attribute 'clientx' of ContractClauseClassifier, falling back to shallow copy or reference copy.\n"
     ]
    },
    {
     "name": "stdout",
     "output_type": "stream",
     "text": [
      "Scores so far: [60.0, 60.0]\n",
      "Best score so far: 60.0\n"
     ]
    },
    {
     "name": "stderr",
     "output_type": "stream",
     "text": [
      "  4%|▍         | 12/320 [00:05<02:19,  2.21it/s]\n"
     ]
    },
    {
     "name": "stdout",
     "output_type": "stream",
     "text": [
      "Bootstrapped 8 full traces after 13 examples in round 0.\n"
     ]
    },
    {
     "name": "stderr",
     "output_type": "stream",
     "text": [
      "Average Metric: 48 / 80  (60.0): 100%|██████████| 80/80 [00:09<00:00,  8.29it/s]\n",
      "WARNING:root:Failed to deep copy attribute 'client' of ContractClauseClassifier, falling back to shallow copy or reference copy.\n",
      "WARNING:root:Failed to deep copy attribute 'clientx' of ContractClauseClassifier, falling back to shallow copy or reference copy.\n",
      "WARNING:root:Failed to deep copy attribute 'client' of ContractClauseClassifier, falling back to shallow copy or reference copy.\n",
      "WARNING:root:Failed to deep copy attribute 'clientx' of ContractClauseClassifier, falling back to shallow copy or reference copy.\n",
      "WARNING:root:Failed to deep copy attribute 'client' of ContractClauseClassifier, falling back to shallow copy or reference copy.\n",
      "WARNING:root:Failed to deep copy attribute 'clientx' of ContractClauseClassifier, falling back to shallow copy or reference copy.\n",
      "WARNING:root:Failed to deep copy attribute 'client' of ContractClauseClassifier, falling back to shallow copy or reference copy.\n",
      "WARNING:root:Failed to deep copy attribute 'clientx' of ContractClauseClassifier, falling back to shallow copy or reference copy.\n"
     ]
    },
    {
     "name": "stdout",
     "output_type": "stream",
     "text": [
      "Scores so far: [60.0, 60.0, 60.0]\n",
      "Best score so far: 60.0\n"
     ]
    },
    {
     "name": "stderr",
     "output_type": "stream",
     "text": [
      "  3%|▎         | 11/320 [00:04<02:19,  2.22it/s]\n"
     ]
    },
    {
     "name": "stdout",
     "output_type": "stream",
     "text": [
      "Bootstrapped 7 full traces after 12 examples in round 0.\n"
     ]
    },
    {
     "name": "stderr",
     "output_type": "stream",
     "text": [
      "Average Metric: 48 / 80  (60.0): 100%|██████████| 80/80 [00:09<00:00,  8.09it/s]\n",
      "WARNING:root:Failed to deep copy attribute 'client' of ContractClauseClassifier, falling back to shallow copy or reference copy.\n",
      "WARNING:root:Failed to deep copy attribute 'clientx' of ContractClauseClassifier, falling back to shallow copy or reference copy.\n",
      "WARNING:root:Failed to deep copy attribute 'client' of ContractClauseClassifier, falling back to shallow copy or reference copy.\n",
      "WARNING:root:Failed to deep copy attribute 'clientx' of ContractClauseClassifier, falling back to shallow copy or reference copy.\n",
      "WARNING:root:Failed to deep copy attribute 'client' of ContractClauseClassifier, falling back to shallow copy or reference copy.\n",
      "WARNING:root:Failed to deep copy attribute 'clientx' of ContractClauseClassifier, falling back to shallow copy or reference copy.\n",
      "WARNING:root:Failed to deep copy attribute 'client' of ContractClauseClassifier, falling back to shallow copy or reference copy.\n",
      "WARNING:root:Failed to deep copy attribute 'clientx' of ContractClauseClassifier, falling back to shallow copy or reference copy.\n"
     ]
    },
    {
     "name": "stdout",
     "output_type": "stream",
     "text": [
      "Scores so far: [60.0, 60.0, 60.0, 60.0]\n",
      "Best score so far: 60.0\n"
     ]
    },
    {
     "name": "stderr",
     "output_type": "stream",
     "text": [
      "  1%|▏         | 4/320 [00:01<02:00,  2.61it/s]\n"
     ]
    },
    {
     "name": "stdout",
     "output_type": "stream",
     "text": [
      "Bootstrapped 3 full traces after 5 examples in round 0.\n"
     ]
    },
    {
     "name": "stderr",
     "output_type": "stream",
     "text": [
      "Average Metric: 48 / 80  (60.0): 100%|██████████| 80/80 [00:10<00:00,  7.45it/s]\n",
      "WARNING:root:Failed to deep copy attribute 'client' of ContractClauseClassifier, falling back to shallow copy or reference copy.\n",
      "WARNING:root:Failed to deep copy attribute 'clientx' of ContractClauseClassifier, falling back to shallow copy or reference copy.\n",
      "WARNING:root:Failed to deep copy attribute 'client' of ContractClauseClassifier, falling back to shallow copy or reference copy.\n",
      "WARNING:root:Failed to deep copy attribute 'clientx' of ContractClauseClassifier, falling back to shallow copy or reference copy.\n",
      "WARNING:root:Failed to deep copy attribute 'client' of ContractClauseClassifier, falling back to shallow copy or reference copy.\n",
      "WARNING:root:Failed to deep copy attribute 'clientx' of ContractClauseClassifier, falling back to shallow copy or reference copy.\n",
      "WARNING:root:Failed to deep copy attribute 'client' of ContractClauseClassifier, falling back to shallow copy or reference copy.\n",
      "WARNING:root:Failed to deep copy attribute 'clientx' of ContractClauseClassifier, falling back to shallow copy or reference copy.\n"
     ]
    },
    {
     "name": "stdout",
     "output_type": "stream",
     "text": [
      "Scores so far: [60.0, 60.0, 60.0, 60.0, 60.0]\n",
      "Best score so far: 60.0\n"
     ]
    },
    {
     "name": "stderr",
     "output_type": "stream",
     "text": [
      "  1%|          | 3/320 [00:01<02:13,  2.37it/s]\n"
     ]
    },
    {
     "name": "stdout",
     "output_type": "stream",
     "text": [
      "Bootstrapped 1 full traces after 4 examples in round 0.\n"
     ]
    },
    {
     "name": "stderr",
     "output_type": "stream",
     "text": [
      "Average Metric: 48 / 80  (60.0): 100%|██████████| 80/80 [00:08<00:00,  9.17it/s]\n",
      "WARNING:root:Failed to deep copy attribute 'client' of ContractClauseClassifier, falling back to shallow copy or reference copy.\n",
      "WARNING:root:Failed to deep copy attribute 'clientx' of ContractClauseClassifier, falling back to shallow copy or reference copy.\n",
      "WARNING:root:Failed to deep copy attribute 'client' of ContractClauseClassifier, falling back to shallow copy or reference copy.\n",
      "WARNING:root:Failed to deep copy attribute 'clientx' of ContractClauseClassifier, falling back to shallow copy or reference copy.\n",
      "WARNING:root:Failed to deep copy attribute 'client' of ContractClauseClassifier, falling back to shallow copy or reference copy.\n",
      "WARNING:root:Failed to deep copy attribute 'clientx' of ContractClauseClassifier, falling back to shallow copy or reference copy.\n",
      "WARNING:root:Failed to deep copy attribute 'client' of ContractClauseClassifier, falling back to shallow copy or reference copy.\n",
      "WARNING:root:Failed to deep copy attribute 'clientx' of ContractClauseClassifier, falling back to shallow copy or reference copy.\n"
     ]
    },
    {
     "name": "stdout",
     "output_type": "stream",
     "text": [
      "Scores so far: [60.0, 60.0, 60.0, 60.0, 60.0, 60.0]\n",
      "Best score so far: 60.0\n"
     ]
    },
    {
     "name": "stderr",
     "output_type": "stream",
     "text": [
      "  2%|▏         | 7/320 [00:03<02:47,  1.87it/s]\n"
     ]
    },
    {
     "name": "stdout",
     "output_type": "stream",
     "text": [
      "Bootstrapped 4 full traces after 8 examples in round 0.\n"
     ]
    },
    {
     "name": "stderr",
     "output_type": "stream",
     "text": [
      "Average Metric: 48 / 80  (60.0): 100%|██████████| 80/80 [00:10<00:00,  7.43it/s]\n",
      "WARNING:root:Failed to deep copy attribute 'client' of ContractClauseClassifier, falling back to shallow copy or reference copy.\n",
      "WARNING:root:Failed to deep copy attribute 'clientx' of ContractClauseClassifier, falling back to shallow copy or reference copy.\n",
      "WARNING:root:Failed to deep copy attribute 'client' of ContractClauseClassifier, falling back to shallow copy or reference copy.\n",
      "WARNING:root:Failed to deep copy attribute 'clientx' of ContractClauseClassifier, falling back to shallow copy or reference copy.\n",
      "WARNING:root:Failed to deep copy attribute 'client' of ContractClauseClassifier, falling back to shallow copy or reference copy.\n",
      "WARNING:root:Failed to deep copy attribute 'clientx' of ContractClauseClassifier, falling back to shallow copy or reference copy.\n",
      "WARNING:root:Failed to deep copy attribute 'client' of ContractClauseClassifier, falling back to shallow copy or reference copy.\n",
      "WARNING:root:Failed to deep copy attribute 'clientx' of ContractClauseClassifier, falling back to shallow copy or reference copy.\n"
     ]
    },
    {
     "name": "stdout",
     "output_type": "stream",
     "text": [
      "Scores so far: [60.0, 60.0, 60.0, 60.0, 60.0, 60.0, 60.0]\n",
      "Best score so far: 60.0\n"
     ]
    },
    {
     "name": "stderr",
     "output_type": "stream",
     "text": [
      "  1%|▏         | 4/320 [00:02<02:40,  1.96it/s]\n"
     ]
    },
    {
     "name": "stdout",
     "output_type": "stream",
     "text": [
      "Bootstrapped 4 full traces after 5 examples in round 0.\n"
     ]
    },
    {
     "name": "stderr",
     "output_type": "stream",
     "text": [
      "Average Metric: 48 / 80  (60.0): 100%|██████████| 80/80 [00:10<00:00,  7.54it/s]\n",
      "WARNING:root:Failed to deep copy attribute 'client' of ContractClauseClassifier, falling back to shallow copy or reference copy.\n",
      "WARNING:root:Failed to deep copy attribute 'clientx' of ContractClauseClassifier, falling back to shallow copy or reference copy.\n",
      "WARNING:root:Failed to deep copy attribute 'client' of ContractClauseClassifier, falling back to shallow copy or reference copy.\n",
      "WARNING:root:Failed to deep copy attribute 'clientx' of ContractClauseClassifier, falling back to shallow copy or reference copy.\n",
      "WARNING:root:Failed to deep copy attribute 'client' of ContractClauseClassifier, falling back to shallow copy or reference copy.\n",
      "WARNING:root:Failed to deep copy attribute 'clientx' of ContractClauseClassifier, falling back to shallow copy or reference copy.\n",
      "WARNING:root:Failed to deep copy attribute 'client' of ContractClauseClassifier, falling back to shallow copy or reference copy.\n",
      "WARNING:root:Failed to deep copy attribute 'clientx' of ContractClauseClassifier, falling back to shallow copy or reference copy.\n"
     ]
    },
    {
     "name": "stdout",
     "output_type": "stream",
     "text": [
      "Scores so far: [60.0, 60.0, 60.0, 60.0, 60.0, 60.0, 60.0, 60.0]\n",
      "Best score so far: 60.0\n"
     ]
    },
    {
     "name": "stderr",
     "output_type": "stream",
     "text": [
      "  4%|▍         | 14/320 [00:05<02:06,  2.42it/s]\n"
     ]
    },
    {
     "name": "stdout",
     "output_type": "stream",
     "text": [
      "Bootstrapped 5 full traces after 15 examples in round 0.\n"
     ]
    },
    {
     "name": "stderr",
     "output_type": "stream",
     "text": [
      "Average Metric: 48 / 80  (60.0): 100%|██████████| 80/80 [00:10<00:00,  7.36it/s]\n",
      "WARNING:root:Failed to deep copy attribute 'client' of ContractClauseClassifier, falling back to shallow copy or reference copy.\n",
      "WARNING:root:Failed to deep copy attribute 'clientx' of ContractClauseClassifier, falling back to shallow copy or reference copy.\n",
      "WARNING:root:Failed to deep copy attribute 'client' of ContractClauseClassifier, falling back to shallow copy or reference copy.\n",
      "WARNING:root:Failed to deep copy attribute 'clientx' of ContractClauseClassifier, falling back to shallow copy or reference copy.\n",
      "WARNING:root:Failed to deep copy attribute 'client' of ContractClauseClassifier, falling back to shallow copy or reference copy.\n",
      "WARNING:root:Failed to deep copy attribute 'clientx' of ContractClauseClassifier, falling back to shallow copy or reference copy.\n",
      "WARNING:root:Failed to deep copy attribute 'client' of ContractClauseClassifier, falling back to shallow copy or reference copy.\n",
      "WARNING:root:Failed to deep copy attribute 'clientx' of ContractClauseClassifier, falling back to shallow copy or reference copy.\n"
     ]
    },
    {
     "name": "stdout",
     "output_type": "stream",
     "text": [
      "Scores so far: [60.0, 60.0, 60.0, 60.0, 60.0, 60.0, 60.0, 60.0, 60.0]\n",
      "Best score so far: 60.0\n"
     ]
    },
    {
     "name": "stderr",
     "output_type": "stream",
     "text": [
      "  1%|          | 3/320 [00:01<02:48,  1.89it/s]\n"
     ]
    },
    {
     "name": "stdout",
     "output_type": "stream",
     "text": [
      "Bootstrapped 2 full traces after 4 examples in round 0.\n"
     ]
    },
    {
     "name": "stderr",
     "output_type": "stream",
     "text": [
      "Average Metric: 48 / 80  (60.0): 100%|██████████| 80/80 [00:09<00:00,  8.48it/s]\n",
      "WARNING:root:Failed to deep copy attribute 'client' of ContractClauseClassifier, falling back to shallow copy or reference copy.\n",
      "WARNING:root:Failed to deep copy attribute 'clientx' of ContractClauseClassifier, falling back to shallow copy or reference copy.\n",
      "WARNING:root:Failed to deep copy attribute 'client' of ContractClauseClassifier, falling back to shallow copy or reference copy.\n",
      "WARNING:root:Failed to deep copy attribute 'clientx' of ContractClauseClassifier, falling back to shallow copy or reference copy.\n",
      "WARNING:root:Failed to deep copy attribute 'client' of ContractClauseClassifier, falling back to shallow copy or reference copy.\n",
      "WARNING:root:Failed to deep copy attribute 'clientx' of ContractClauseClassifier, falling back to shallow copy or reference copy.\n",
      "WARNING:root:Failed to deep copy attribute 'client' of ContractClauseClassifier, falling back to shallow copy or reference copy.\n",
      "WARNING:root:Failed to deep copy attribute 'clientx' of ContractClauseClassifier, falling back to shallow copy or reference copy.\n"
     ]
    },
    {
     "name": "stdout",
     "output_type": "stream",
     "text": [
      "Scores so far: [60.0, 60.0, 60.0, 60.0, 60.0, 60.0, 60.0, 60.0, 60.0, 60.0]\n",
      "Best score so far: 60.0\n"
     ]
    },
    {
     "name": "stderr",
     "output_type": "stream",
     "text": [
      "  3%|▎         | 11/320 [00:06<03:02,  1.70it/s]\n"
     ]
    },
    {
     "name": "stdout",
     "output_type": "stream",
     "text": [
      "Bootstrapped 6 full traces after 12 examples in round 0.\n"
     ]
    },
    {
     "name": "stderr",
     "output_type": "stream",
     "text": [
      "Average Metric: 48 / 80  (60.0): 100%|██████████| 80/80 [00:08<00:00,  8.91it/s]\n",
      "WARNING:root:Failed to deep copy attribute 'client' of ContractClauseClassifier, falling back to shallow copy or reference copy.\n",
      "WARNING:root:Failed to deep copy attribute 'clientx' of ContractClauseClassifier, falling back to shallow copy or reference copy.\n",
      "WARNING:root:Failed to deep copy attribute 'client' of ContractClauseClassifier, falling back to shallow copy or reference copy.\n",
      "WARNING:root:Failed to deep copy attribute 'clientx' of ContractClauseClassifier, falling back to shallow copy or reference copy.\n",
      "WARNING:root:Failed to deep copy attribute 'client' of ContractClauseClassifier, falling back to shallow copy or reference copy.\n",
      "WARNING:root:Failed to deep copy attribute 'clientx' of ContractClauseClassifier, falling back to shallow copy or reference copy.\n",
      "WARNING:root:Failed to deep copy attribute 'client' of ContractClauseClassifier, falling back to shallow copy or reference copy.\n",
      "WARNING:root:Failed to deep copy attribute 'clientx' of ContractClauseClassifier, falling back to shallow copy or reference copy.\n"
     ]
    },
    {
     "name": "stdout",
     "output_type": "stream",
     "text": [
      "Scores so far: [60.0, 60.0, 60.0, 60.0, 60.0, 60.0, 60.0, 60.0, 60.0, 60.0, 60.0]\n",
      "Best score so far: 60.0\n"
     ]
    },
    {
     "name": "stderr",
     "output_type": "stream",
     "text": [
      "  2%|▏         | 5/320 [00:02<02:12,  2.37it/s]\n"
     ]
    },
    {
     "name": "stdout",
     "output_type": "stream",
     "text": [
      "Bootstrapped 4 full traces after 6 examples in round 0.\n"
     ]
    },
    {
     "name": "stderr",
     "output_type": "stream",
     "text": [
      "Average Metric: 50 / 80  (62.5): 100%|██████████| 80/80 [00:10<00:00,  7.72it/s]\n",
      "WARNING:root:Failed to deep copy attribute 'client' of ContractClauseClassifier, falling back to shallow copy or reference copy.\n",
      "WARNING:root:Failed to deep copy attribute 'clientx' of ContractClauseClassifier, falling back to shallow copy or reference copy.\n",
      "WARNING:root:Failed to deep copy attribute 'client' of ContractClauseClassifier, falling back to shallow copy or reference copy.\n",
      "WARNING:root:Failed to deep copy attribute 'clientx' of ContractClauseClassifier, falling back to shallow copy or reference copy.\n",
      "WARNING:root:Failed to deep copy attribute 'client' of ContractClauseClassifier, falling back to shallow copy or reference copy.\n",
      "WARNING:root:Failed to deep copy attribute 'clientx' of ContractClauseClassifier, falling back to shallow copy or reference copy.\n",
      "WARNING:root:Failed to deep copy attribute 'client' of ContractClauseClassifier, falling back to shallow copy or reference copy.\n",
      "WARNING:root:Failed to deep copy attribute 'clientx' of ContractClauseClassifier, falling back to shallow copy or reference copy.\n"
     ]
    },
    {
     "name": "stdout",
     "output_type": "stream",
     "text": [
      "New best score: 62.5 for seed 8\n",
      "Scores so far: [60.0, 60.0, 60.0, 60.0, 60.0, 60.0, 60.0, 60.0, 60.0, 60.0, 60.0, 62.5]\n",
      "Best score so far: 62.5\n"
     ]
    },
    {
     "name": "stderr",
     "output_type": "stream",
     "text": [
      "  3%|▎         | 10/320 [00:04<02:31,  2.05it/s]\n"
     ]
    },
    {
     "name": "stdout",
     "output_type": "stream",
     "text": [
      "Bootstrapped 8 full traces after 11 examples in round 0.\n"
     ]
    },
    {
     "name": "stderr",
     "output_type": "stream",
     "text": [
      "Average Metric: 48 / 80  (60.0): 100%|██████████| 80/80 [00:09<00:00,  8.37it/s]\n"
     ]
    },
    {
     "name": "stdout",
     "output_type": "stream",
     "text": [
      "Scores so far: [60.0, 60.0, 60.0, 60.0, 60.0, 60.0, 60.0, 60.0, 60.0, 60.0, 60.0, 62.5, 60.0]\n",
      "Best score so far: 62.5\n",
      "13 candidate programs found.\n"
     ]
    },
    {
     "name": "stderr",
     "output_type": "stream",
     "text": [
      "Processing contracts: 100%|██████████| 50/50 [03:09<00:00,  3.78s/it]"
     ]
    },
    {
     "name": "stdout",
     "output_type": "stream",
     "text": [
      "\n",
      "[FINAL RESULTS]\n",
      "Accuracy for 'Non-Disclosure Agreement (NDA)': 60.00%\n",
      "Accuracy for 'Termination Clause': 50.00%\n",
      "Accuracy for 'Indemnity Clause': 46.00%\n",
      "Accuracy for 'Force Majeure Clause': 50.00%\n",
      "Accuracy for 'Governing Law Clause': 52.00%\n",
      "Accuracy for 'Arbitration Clause': 52.00%\n",
      "Accuracy for 'Confidentiality Agreement': 58.00%\n",
      "Accuracy for 'Data Protection Clause': 100.00%\n"
     ]
    },
    {
     "name": "stderr",
     "output_type": "stream",
     "text": [
      "\n"
     ]
    }
   ],
   "source": [
    "import os\n",
    "import pandas as pd\n",
    "import dspy\n",
    "import random\n",
    "from dspy.evaluate import Evaluate\n",
    "from dspy.teleprompt import BootstrapFewShotWithRandomSearch\n",
    "from tqdm import tqdm\n",
    "from dotenv import load_dotenv\n",
    "import logging\n",
    "import openai\n",
    "from openai import AzureOpenAI\n",
    "\n",
    "# Import assertion modules\n",
    "from dspy.primitives.assertions import assert_transform_module, backtrack_handler\n",
    "from dspy.predict import Retry\n",
    "\n",
    "# Set up logging to display DSPy logs\n",
    "dspy.logger.setLevel(logging.INFO)\n",
    "\n",
    "# Load environment variables\n",
    "load_dotenv()\n",
    "\n",
    "azure_endpoint = os.getenv(\"AZURE_OPENAI_API_EASTUS_ENDPOINT\")\n",
    "api_key = os.getenv(\"AZURE_OPENAI_EASTUS_API_KEY\")\n",
    "deployment = 'gpt-4o-mini'\n",
    "\n",
    "# Initialize Azure OpenAI client\n",
    "client = dspy.AzureOpenAI(\n",
    "    api_key=api_key,\n",
    "    api_version=\"2024-06-01\",\n",
    "    api_base=azure_endpoint,\n",
    "    model=deployment\n",
    ")\n",
    "\n",
    "clientx = AzureOpenAI(\n",
    "    azure_endpoint=azure_endpoint,\n",
    "    api_key=api_key,\n",
    "    api_version=\"2024-06-01\",\n",
    ")\n",
    "# Set the client as the default language model in DSPy settings\n",
    "dspy.settings.configure(lm=client, temperature=0)\n",
    "\n",
    "# Define the clauses to check\n",
    "clauses_to_check = [\n",
    "    \"Non-Disclosure Agreement (NDA)\",\n",
    "    \"Termination Clause\",\n",
    "    \"Indemnity Clause\",\n",
    "    \"Force Majeure Clause\",\n",
    "    \"Governing Law Clause\",\n",
    "    \"Arbitration Clause\",\n",
    "    \"Confidentiality Agreement\",\n",
    "    \"Data Protection Clause\"\n",
    "]\n",
    "\n",
    "# Updated ClauseClassifierSignature with explicit instructions\n",
    "class ClauseClassifierSignature(dspy.Signature):\n",
    "    \"\"\"Determine if the specified clause is present in the contract.\n",
    "\n",
    "    Instructions:\n",
    "    - Read the contract text carefully.\n",
    "    - Check for the presence of the clause specified in 'clause_check'.\n",
    "    - Respond with 'present' if the clause is present.\n",
    "    - Respond with 'absent' if the clause is not present.\n",
    "    - Provide your answer as either 'present' or 'absent' only, without any additional text.\n",
    "    \"\"\"\n",
    "\n",
    "    contract_text = dspy.InputField(desc=\"The full text of the contract document.\")\n",
    "    clause_check = dspy.InputField(desc=\"The type of clause to check for.\")\n",
    "    answer = dspy.OutputField(desc=\"Respond with 'present' or 'absent'.\")\n",
    "\n",
    "# Remove manually created few-shot examples\n",
    "# few_shot_examples = [\n",
    "#     {\n",
    "#         'contract_text': \"The Employee agrees not to disclose any confidential information obtained during the term of employment.\",\n",
    "#         'clause_check': \"Confidentiality\",\n",
    "#         'answer': \"present\"\n",
    "#     },\n",
    "#     {\n",
    "#         'contract_text': \"This agreement does not include any terms related to competition or non-competition.\",\n",
    "#         'clause_check': \"Non-Compete\",\n",
    "#         'answer': \"absent\"\n",
    "#     },\n",
    "#     # Add more examples as needed\n",
    "# ]\n",
    "\n",
    "# Define the classifier program with the capability to include few-shot examples\n",
    "class ContractClauseClassifier(dspy.Module):\n",
    "    def __init__(self, client, clientx, deployment):\n",
    "        super().__init__()\n",
    "        self.client = client       # dspy client\n",
    "        self.clientx = clientx     # direct Azure OpenAI client\n",
    "        self.deployment = deployment\n",
    "        self.demos = []            # Initialize empty demos; optimizer will set this\n",
    "\n",
    "    def forward(self, contract_text, clause_check):\n",
    "        # Prepare the few-shot examples\n",
    "        few_shot_messages = []\n",
    "        for example in self.demos:\n",
    "            few_shot_messages.append({\n",
    "                \"role\": \"user\",\n",
    "                \"content\": f\"\"\"Determine if the following clause is present in this contract.\n",
    "\n",
    "Clause: {example['clause_check']}\n",
    "\n",
    "Contract Text: {example['contract_text']}\n",
    "\n",
    "Provide your answer as 'present' or 'absent' only.\"\"\"\n",
    "            })\n",
    "            few_shot_messages.append({\n",
    "                \"role\": \"assistant\",\n",
    "                \"content\": example['answer']\n",
    "            })\n",
    "\n",
    "        # Now build the messages including the few-shot examples\n",
    "        messages = [\n",
    "            {\"role\": \"system\", \"content\": \"You are a legal expert analyzing the presence of various clauses in a contract. Answer 'present' or 'absent' only.\"}\n",
    "        ] + few_shot_messages + [\n",
    "            {\n",
    "                \"role\": \"user\",\n",
    "                \"content\": f\"\"\"Determine if the following clause is present in this contract.\n",
    "\n",
    "Clause: {clause_check}\n",
    "\n",
    "Contract Text: {contract_text}\n",
    "\n",
    "Provide your answer as 'present' or 'absent' only.\"\"\"\n",
    "            }\n",
    "        ]\n",
    "\n",
    "        try:\n",
    "            completion = self.clientx.chat.completions.create(\n",
    "                model=self.deployment,\n",
    "                messages=messages,\n",
    "                max_tokens=5  # Limit tokens to encourage short answers\n",
    "            )\n",
    "            response = completion.choices[0].message.content.strip().lower()\n",
    "            if response in [\"present\", \"absent\"]:\n",
    "                return {\"answer\": response}\n",
    "            else:\n",
    "                return {\"answer\": \"unknown\"}\n",
    "        except Exception as e:\n",
    "            print(f\"Error processing contract: {e}\")\n",
    "            return {\"answer\": \"unknown\"}\n",
    "\n",
    "classifier = ContractClauseClassifier(client, clientx, deployment)\n",
    "\n",
    "# Define the metric for evaluation\n",
    "def clause_classification_metric(example, pred, trace=None):\n",
    "    actual = example['answer'].strip().lower()\n",
    "    predicted = pred['answer'].strip().lower() if pred and 'answer' in pred else \"\"\n",
    "\n",
    "    valid_labels = [\"present\", \"absent\"]\n",
    "    if actual not in valid_labels:\n",
    "        return 0  # Cannot evaluate if actual label is unknown\n",
    "\n",
    "    if predicted not in valid_labels:\n",
    "        return 0  # Prediction is invalid\n",
    "\n",
    "    return int(actual == predicted)\n",
    "\n",
    "# Initialize the optimizer with the metric\n",
    "bootstrap_optimizer = BootstrapFewShotWithRandomSearch(\n",
    "    metric=clause_classification_metric,\n",
    "    max_bootstrapped_demos=8,\n",
    "    max_labeled_demos=8,\n",
    "    num_candidate_programs=10,\n",
    "    num_threads=4,\n",
    "    teacher_settings=dict(lm=client)\n",
    ")\n",
    "\n",
    "# Load your data\n",
    "df = pd.read_csv('contracts/contract_labels.csv')  # Update the path as needed\n",
    "\n",
    "# Prepare the examples\n",
    "examples = []\n",
    "\n",
    "clause_to_label_column = {\n",
    "    \"Non-Disclosure Agreement (NDA)\": \"contains_nda\",\n",
    "    \"Termination Clause\": \"contains_termination\",\n",
    "    \"Indemnity Clause\": \"contains_indemnity\",\n",
    "    \"Force Majeure Clause\": \"contains_force_majeure\",\n",
    "    \"Governing Law Clause\": \"contains_governing_law\",\n",
    "    \"Arbitration Clause\": \"contains_arbitration\",\n",
    "    \"Confidentiality Agreement\": \"contains_confidentiality\",\n",
    "    \"Data Protection Clause\": \"contains_data_protection\"\n",
    "}\n",
    "\n",
    "for idx, row in df.iterrows():\n",
    "    # Read contract text\n",
    "    try:\n",
    "        with open(row[\"filename\"], \"r\", encoding=\"utf-8\") as file:\n",
    "            contract_text = file.read()\n",
    "    except FileNotFoundError:\n",
    "        print(f\"File '{row['filename']}' not found.\")\n",
    "        continue\n",
    "\n",
    "    for clause in clauses_to_check:\n",
    "        label_column = clause_to_label_column.get(clause)\n",
    "        if label_column not in df.columns:\n",
    "            actual_label = \"unknown\"\n",
    "        else:\n",
    "            actual_label = str(row[label_column]).strip().lower()\n",
    "            if actual_label not in [\"present\", \"absent\"]:\n",
    "                actual_label = \"unknown\"\n",
    "\n",
    "        # Create example with specified inputs\n",
    "        example = dspy.Example(\n",
    "            contract_text=contract_text,\n",
    "            clause_check=clause,\n",
    "            answer=actual_label\n",
    "        ).with_inputs('contract_text', 'clause_check')\n",
    "        examples.append(example)\n",
    "\n",
    "# Shuffle and split examples\n",
    "random.shuffle(examples)\n",
    "split_ratio = 0.8\n",
    "split_index = int(len(examples) * split_ratio)\n",
    "\n",
    "trainset = examples[:split_index]\n",
    "valset = examples[split_index:]\n",
    "\n",
    "print(f\"Total examples: {len(examples)}\")\n",
    "print(f\"Training examples: {len(trainset)}\")\n",
    "print(f\"Validation examples: {len(valset)}\")\n",
    "\n",
    "if not valset:\n",
    "    raise ValueError(\"Validation set is empty. Cannot proceed.\")\n",
    "\n",
    "# Toggle to run bootstrapping from scratch\n",
    "RUN_FROM_SCRATCH = True\n",
    "\n",
    "# Train or load the model\n",
    "if RUN_FROM_SCRATCH:\n",
    "    clause_classifier = bootstrap_optimizer.compile(\n",
    "        student=classifier,\n",
    "        trainset=trainset,\n",
    "        valset=valset\n",
    "    )\n",
    "    clause_classifier.save(\"optimized_fewshot_classifier.json\")\n",
    "else:\n",
    "    clause_classifier = ContractClauseClassifier(client, clientx, deployment)\n",
    "    clause_classifier.load(\"optimized_fewshot_classifier.json\")\n",
    "\n",
    "# Predict and evaluate\n",
    "\n",
    "import json\n",
    "\n",
    "class ExampleEncoder(json.JSONEncoder):\n",
    "    def default(self, obj):\n",
    "        if isinstance(obj, dspy.Example):\n",
    "            return obj._store  # or vars(obj) or obj.__dict__\n",
    "        return json.JSONEncoder.default(self, obj)\n",
    "    \n",
    "def example_to_dict(example):\n",
    "    return {\n",
    "        'inputs': example.inputs,\n",
    "        'outputs': example.outputs,\n",
    "        # Include any other relevant fields\n",
    "    }\n",
    "\n",
    "from dspy.evaluate.evaluate import Evaluate as BaseEvaluate\n",
    "\n",
    "class Evaluate(BaseEvaluate):\n",
    "    def __call__(self, *args, **kwargs):\n",
    "        # Override methods to prevent serialization of Examples\n",
    "        # Implement custom logic here\n",
    "        pass\n",
    "\n",
    "predictions = []\n",
    "\n",
    "for idx, row in tqdm(df.iterrows(), total=df.shape[0], desc=\"Processing contracts\"):\n",
    "    # Read contract text\n",
    "    try:\n",
    "        with open(row[\"filename\"], \"r\", encoding=\"utf-8\") as file:\n",
    "            contract_text = file.read()\n",
    "    except FileNotFoundError:\n",
    "        print(f\"File '{row['filename']}' not found.\")\n",
    "        continue\n",
    "\n",
    "    actual_labels = {}\n",
    "    predicted_labels = {}\n",
    "\n",
    "    for clause in clauses_to_check:\n",
    "        label_column = clause_to_label_column.get(clause)\n",
    "        if label_column not in df.columns:\n",
    "            actual_label = \"unknown\"\n",
    "            continue\n",
    "        else:\n",
    "            actual_label = str(row[label_column]).strip().lower()\n",
    "            if actual_label not in [\"present\", \"absent\"]:\n",
    "                actual_label = \"unknown\"\n",
    "                continue\n",
    "        actual_labels[clause] = actual_label\n",
    "\n",
    "        # Make prediction\n",
    "        prediction = clause_classifier(contract_text=contract_text, clause_check=clause)\n",
    "        predicted_label = prediction['answer'].strip().lower() if prediction and 'answer' in prediction else \"unknown\"\n",
    "        predicted_labels[clause] = predicted_label\n",
    "\n",
    "    # Track correctness per clause\n",
    "    is_correct = {\n",
    "        clause: actual_labels[clause] == predicted_labels[clause]\n",
    "        for clause in clauses_to_check if actual_labels.get(clause, \"unknown\") != \"unknown\"\n",
    "    }\n",
    "    predictions.append({\n",
    "        \"filename\": row[\"filename\"],\n",
    "        \"actual_labels\": actual_labels,\n",
    "        \"predicted_labels\": predicted_labels,\n",
    "        \"is_correct\": is_correct\n",
    "    })\n",
    "\n",
    "# Calculate and display results\n",
    "correct_counts = {clause: 0 for clause in clauses_to_check}\n",
    "total_counts = {clause: 0 for clause in clauses_to_check}\n",
    "\n",
    "for result in predictions:\n",
    "    for clause in clauses_to_check:\n",
    "        actual_label = result[\"actual_labels\"].get(clause, \"unknown\")\n",
    "        if actual_label != \"unknown\":\n",
    "            total_counts[clause] += 1\n",
    "            if result[\"is_correct\"].get(clause, False):\n",
    "                correct_counts[clause] += 1\n",
    "\n",
    "accuracy = {\n",
    "    clause: (correct_counts[clause] / total_counts[clause] * 100) if total_counts[clause] > 0 else 0\n",
    "    for clause in clauses_to_check\n",
    "}\n",
    "\n",
    "print(\"\\n[FINAL RESULTS]\")\n",
    "for clause, acc in accuracy.items():\n",
    "    print(f\"Accuracy for '{clause}': {acc:.2f}%\")\n"
   ]
  },
  {
   "cell_type": "code",
   "execution_count": null,
   "metadata": {},
   "outputs": [],
   "source": []
  }
 ],
 "metadata": {
  "kernelspec": {
   "display_name": "venv",
   "language": "python",
   "name": "python3"
  },
  "language_info": {
   "codemirror_mode": {
    "name": "ipython",
    "version": 3
   },
   "file_extension": ".py",
   "mimetype": "text/x-python",
   "name": "python",
   "nbconvert_exporter": "python",
   "pygments_lexer": "ipython3",
   "version": "3.12.7"
  }
 },
 "nbformat": 4,
 "nbformat_minor": 2
}
