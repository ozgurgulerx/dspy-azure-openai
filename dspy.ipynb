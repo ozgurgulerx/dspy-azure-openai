{
 "cells": [
  {
<<<<<<< HEAD
   "cell_type": "markdown",
   "metadata": {},
   "source": [
    "# DSPy on Azure OpenAI - 241026"
   ]
  },
  {
=======
>>>>>>> 3e839a5a (Initial commit)
   "cell_type": "code",
   "execution_count": null,
   "metadata": {},
   "outputs": [],
   "source": [
<<<<<<< HEAD
    "# Test AzureOpenAI endpoints \n",
=======
>>>>>>> 3e839a5a (Initial commit)
    "import os\n",
    "from openai import AzureOpenAI\n",
    "from dotenv import load_dotenv\n",
    "\n",
    "load_dotenv()\n",
    "\n",
    "deployment='gpt-4o-eastus-0806'\n",
    "\n",
    "    \n",
    "client = AzureOpenAI(\n",
    "    api_key=os.getenv(\"AZURE_OPENAI_EASTUS_API_KEY\"),  \n",
    "    api_version=\"2024-06-01\",\n",
    "    azure_endpoint = os.getenv(\"AZURE_OPENAI_API_EASTUS_ENDPOINT\")\n",
    "    )\n",
    "        \n",
    "# Send a completion call to generate an answer\n",
    "completion = client.chat.completions.create(\n",
    "    model=deployment,\n",
    "    messages = [\n",
    "        {\n",
    "        \"role\": \"system\",\n",
    "        \"content\": \"You are an MIT PhD in Physics, specializing in quantum physics.\"\n",
    "        },\n",
    "        {\n",
    "        \"role\": \"user\",\n",
    "        \"content\": \"What is a black hole?\"\n",
    "        }\n",
    "    ]\n",
    "    # max_tokens=4096\n",
    ")\n",
    "\n",
    "#print(completion.model_dump_json(indent=2))\n",
    "content = completion.choices[0].message.content\n",
    "print(content)\n",
    "print(len(content))"
   ]
  },
  {
   "cell_type": "code",
<<<<<<< HEAD
   "execution_count": 23,
=======
   "execution_count": null,
>>>>>>> 3e839a5a (Initial commit)
   "metadata": {},
   "outputs": [],
   "source": [
    "import dspy\n",
<<<<<<< HEAD
=======
    "\n",
    "lm = dspy.LM('openai/gpt-4o-mini-eastus-0718')\n",
    "dspy.configure(lm=lm)\n",
    "\n",
    "qa = dspy.Predict('question: str -> response: str')\n",
    "qa(question=\"what are high memory and low memory on linux?\").response\n"
   ]
  },
  {
   "cell_type": "code",
   "execution_count": 8,
   "metadata": {},
   "outputs": [],
   "source": [
>>>>>>> 3e839a5a (Initial commit)
    "from dotenv import dotenv_values, load_dotenv\n",
    "\n",
    "load_dotenv()\n",
    "\n",
    "config=dotenv_values(\".env\")\n",
    "azure_endpoint = os.getenv(\"AZURE_OPENAI_API_EASTUS_ENDPOINT\")\n",
<<<<<<< HEAD
    "api_key = os.getenv(\"AZURE_OPENAI_EASTUS_API_KEY\")\n",
    "embedding_model=\"text-embedding-3-small-eastus\"\n",
    "deployment='gpt-4o-eastus-0806'\n",
    "\n",
    "\n",
=======
    "api_key = os.getenv(\"AZURE_OPENAI_EASTUS_API_KEY\"),  \n",
    "embedding_model=\"text-embedding-3-small-eastus\"\n",
    "\n",
    "import dspy\n",
>>>>>>> 3e839a5a (Initial commit)
    "\n",
    "turbo = dspy.AzureOpenAI(\n",
    "    api_key=api_key,\n",
    "    api_version= \"2024-06-01\",\n",
    "    api_base=azure_endpoint,\n",
<<<<<<< HEAD
    "    model=deployment,\n",
    ")\n",
    "\n",
    "dspy.configure(lm=turbo)\n"
   ]
  },
  {
   "cell_type": "code",
   "execution_count": 26,
   "metadata": {},
   "outputs": [
    {
     "data": {
      "text/plain": [
       "'A black hole is a region in space where the gravitational pull is so strong that nothing, not even light, can escape from it. This occurs when a massive star collapses under its own gravity, compressing its mass into a very small area. The boundary around a black hole is called the event horizon, beyond which nothing can return. Black holes can vary in size and are often detected by observing the effects of their gravity on nearby stars and gas.'"
      ]
     },
     "execution_count": 26,
     "metadata": {},
     "output_type": "execute_result"
    }
   ],
   "source": [
    "#Test DSpy with AzureOpenAI\n",
    "qa = dspy.Predict('question: str -> response: str')\n",
    "qa(question=\"What is a blackhole?\").response"
=======
    "    model_name=\"gpt-4o-mini-eastus-0718\",\n",
    "    embedding_model=embedding_model\n",
    ")\n",
    "\n",
    "dspy.settings.configure(lm=turbo, trace=[\"Test\"])"
>>>>>>> 3e839a5a (Initial commit)
   ]
  }
 ],
 "metadata": {
  "kernelspec": {
   "display_name": "venv",
   "language": "python",
   "name": "python3"
  },
  "language_info": {
   "codemirror_mode": {
    "name": "ipython",
    "version": 3
   },
   "file_extension": ".py",
   "mimetype": "text/x-python",
   "name": "python",
   "nbconvert_exporter": "python",
   "pygments_lexer": "ipython3",
   "version": "3.12.7"
  }
 },
 "nbformat": 4,
 "nbformat_minor": 2
}
